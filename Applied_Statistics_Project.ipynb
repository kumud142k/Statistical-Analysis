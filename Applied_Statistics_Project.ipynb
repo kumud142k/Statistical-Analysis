{
 "cells": [
  {
   "cell_type": "markdown",
   "id": "61280d3e",
   "metadata": {},
   "source": [
    "## APPLIED_STATISTICS PROJECT"
   ]
  },
  {
   "cell_type": "markdown",
   "id": "293f3594",
   "metadata": {},
   "source": [
    "#### This project uses Plotting distribution, Visualization and Hypothesis Testing to validate statistical evidence and leverage information to make effective decisions \n",
    "#### Part 1 - Answering Industry Problems through Statistical inferences \n",
    "#### Part 2 - Analyze past tournament information to make informative investment decisions. \n",
    "#### Part 3 - Analyzing the status of various startups that participated in the Startup Battlefield which is the world’s pre-eminent startup competition."
   ]
  },
  {
   "cell_type": "markdown",
   "id": "d2704f78",
   "metadata": {},
   "source": [
    "### PART -A"
   ]
  },
  {
   "cell_type": "code",
   "execution_count": 1,
   "id": "87df2d19",
   "metadata": {},
   "outputs": [],
   "source": [
    "# Importing all the essential libraries\n",
    "import numpy as np\n",
    "import pandas as pd\n",
    "import scipy.stats as stats\n",
    "import seaborn as sns\n",
    "import matplotlib.pyplot as plt\n",
    "%matplotlib inline"
   ]
  },
  {
   "cell_type": "markdown",
   "id": "a5a1b41a",
   "metadata": {},
   "source": [
    "### Q1:  "
   ]
  },
  {
   "cell_type": "code",
   "execution_count": 2,
   "id": "3d3f3faf",
   "metadata": {},
   "outputs": [
    {
     "data": {
      "text/html": [
       "<div>\n",
       "<style scoped>\n",
       "    .dataframe tbody tr th:only-of-type {\n",
       "        vertical-align: middle;\n",
       "    }\n",
       "\n",
       "    .dataframe tbody tr th {\n",
       "        vertical-align: top;\n",
       "    }\n",
       "\n",
       "    .dataframe thead th {\n",
       "        text-align: right;\n",
       "    }\n",
       "</style>\n",
       "<table border=\"1\" class=\"dataframe\">\n",
       "  <thead>\n",
       "    <tr style=\"text-align: right;\">\n",
       "      <th></th>\n",
       "      <th>Planned to purchase product A</th>\n",
       "      <th>Actually placed order for product A- Yes</th>\n",
       "      <th>Actually placed order for product A- No</th>\n",
       "      <th>Total</th>\n",
       "    </tr>\n",
       "  </thead>\n",
       "  <tbody>\n",
       "    <tr>\n",
       "      <th>0</th>\n",
       "      <td>yes</td>\n",
       "      <td>400</td>\n",
       "      <td>100</td>\n",
       "      <td>500</td>\n",
       "    </tr>\n",
       "    <tr>\n",
       "      <th>1</th>\n",
       "      <td>No</td>\n",
       "      <td>200</td>\n",
       "      <td>1300</td>\n",
       "      <td>1500</td>\n",
       "    </tr>\n",
       "    <tr>\n",
       "      <th>2</th>\n",
       "      <td>Total</td>\n",
       "      <td>600</td>\n",
       "      <td>1400</td>\n",
       "      <td>2000</td>\n",
       "    </tr>\n",
       "  </tbody>\n",
       "</table>\n",
       "</div>"
      ],
      "text/plain": [
       "  Planned to purchase product A  Actually placed order for product A- Yes  \\\n",
       "0                           yes                                       400   \n",
       "1                            No                                       200   \n",
       "2                         Total                                       600   \n",
       "\n",
       "    Actually placed order for product A- No  Total  \n",
       "0                                       100    500  \n",
       "1                                      1300   1500  \n",
       "2                                      1400   2000  "
      ]
     },
     "execution_count": 2,
     "metadata": {},
     "output_type": "execute_result"
    }
   ],
   "source": [
    "dict1={'Planned to purchase product A': ['yes', 'No','Total'],\n",
    "               'Actually placed order for product A- Yes': [400,200,600],\n",
    "       ' Actually placed order for product A- No': [100, 1300,1400],\n",
    "       'Total':[500,1500,2000]\n",
    "      }\n",
    "data= pd.DataFrame(dict1)\n",
    "data"
   ]
  },
  {
   "cell_type": "markdown",
   "id": "b79780cb",
   "metadata": {},
   "source": [
    "### 1.A.  find the joint probability of the people who planned to purchase and actually placed an order ?"
   ]
  },
  {
   "cell_type": "code",
   "execution_count": 168,
   "id": "594a5ed2",
   "metadata": {},
   "outputs": [
    {
     "name": "stdout",
     "output_type": "stream",
     "text": [
      "\n",
      " The joint probability of the people who planned to purchase and actually placed an order:  0.2\n"
     ]
    }
   ],
   "source": [
    "# This is the case of Joint Probability \n",
    "# Prob = Event/ Total outcomes\n",
    "'''\n",
    "Here, no. of people who planned and actually placed an order= 400\n",
    "Total people= 2000\n",
    "'''\n",
    "prob= 400/2000\n",
    "print(\"\\n The joint probability of the people who planned to purchase and actually placed an order: \", prob)"
   ]
  },
  {
   "cell_type": "markdown",
   "id": "b06ff037",
   "metadata": {},
   "source": [
    "### 1.B.  find the joint probability of the people who planned to purchase and actually placed an order, given that people planned to purchase?"
   ]
  },
  {
   "cell_type": "code",
   "execution_count": 175,
   "id": "4ffe2e11",
   "metadata": {},
   "outputs": [
    {
     "name": "stdout",
     "output_type": "stream",
     "text": [
      " \n",
      " Required probability is :  0.8\n"
     ]
    }
   ],
   "source": [
    "\"\"\"\n",
    "This is the case of conditional probability.\n",
    "P(A/B)=P(A and B)/P(B)\n",
    "\n",
    "\"\"\"\n",
    " # P(\"People who planned & actually placed an order\")= 400/2000\n",
    " # P(\"People planned to purchase\")= 500/2000\n",
    "\n",
    "A= 400/2000\n",
    "B= 500/2000\n",
    "Probab = A/B\n",
    "print(\" \\n Required probability is : \", Probab )"
   ]
  },
  {
   "cell_type": "markdown",
   "id": "397af582",
   "metadata": {},
   "source": [
    "### Q2) An electrical manufacturing company conducts quality checks at specified periods on the products it manufactures. Historically, the failure rate for the manufactured item is 5%. Suppose a random sample of 10 manufactured items is selected. Answer the following questions. "
   ]
  },
  {
   "cell_type": "code",
   "execution_count": 4,
   "id": "f943ce19",
   "metadata": {},
   "outputs": [
    {
     "data": {
      "text/plain": [
       "array([5.98736939e-01, 3.15124705e-01, 7.46347985e-02, 1.04750594e-02,\n",
       "       9.64808106e-04, 6.09352488e-05, 2.67259863e-06, 8.03789063e-08,\n",
       "       1.58642578e-09, 1.85546875e-11, 9.76562500e-14])"
      ]
     },
     "execution_count": 4,
     "metadata": {},
     "output_type": "execute_result"
    }
   ],
   "source": [
    "'''\n",
    "Clearly this qstn deals with binomial distribution.\n",
    "First we define the total sample numbers and store it in an array from 0 to 10.\n",
    "probability of defective item is p= 0.05\n",
    "sample size is n = 10\n",
    "\n",
    "'''\n",
    "\n",
    "k= np.arange(11)\n",
    "n= 10\n",
    "p= 0.05\n",
    "defects=stats.binom.pmf(k,n,p)\n",
    "defects"
   ]
  },
  {
   "cell_type": "markdown",
   "id": "0eb5772c",
   "metadata": {},
   "source": [
    "2A) Probability that none of the items are defective"
   ]
  },
  {
   "cell_type": "code",
   "execution_count": 5,
   "id": "6b180d87",
   "metadata": {},
   "outputs": [
    {
     "name": "stdout",
     "output_type": "stream",
     "text": [
      " Probability that none of the items are defective :  0.5987369392383789\n"
     ]
    }
   ],
   "source": [
    "print(' Probability that none of the items are defective : ', defects[0])"
   ]
  },
  {
   "cell_type": "code",
   "execution_count": 6,
   "id": "e9b85a6b",
   "metadata": {},
   "outputs": [
    {
     "name": "stdout",
     "output_type": "stream",
     "text": [
      " Probability that exactly one of the items is defective :  0.31512470486230504\n"
     ]
    }
   ],
   "source": [
    "print(\" Probability that exactly one of the items is defective : \", defects[1])"
   ]
  },
  {
   "cell_type": "code",
   "execution_count": 7,
   "id": "38d8a09f",
   "metadata": {},
   "outputs": [
    {
     "name": "stdout",
     "output_type": "stream",
     "text": [
      " Probability that two or fewer of the items are defective :  0.9884964426207035\n"
     ]
    }
   ],
   "source": [
    "defects_2C = defects[0]+ defects[1]+defects[2]\n",
    "print(\" Probability that two or fewer of the items are defective : \", defects_2C)"
   ]
  },
  {
   "cell_type": "code",
   "execution_count": 8,
   "id": "e489b139",
   "metadata": {},
   "outputs": [
    {
     "name": "stdout",
     "output_type": "stream",
     "text": [
      " Probability that three or more of the items are defective  0.011503557379296536\n"
     ]
    }
   ],
   "source": [
    "# Probability that three or more of the items are defective \n",
    "'''\n",
    "for three or more items defective we substract total probability 1 from prob. of two or fewer items as defective\n",
    "\n",
    "'''\n",
    "defects_2D = 1- defects_2C\n",
    "\n",
    "print(\" Probability that three or more of the items are defective \", defects_2D)"
   ]
  },
  {
   "cell_type": "markdown",
   "id": "1360b582",
   "metadata": {},
   "source": [
    "### Q3)A car salesman sells on an average 3 cars per week. \n",
    "### 3.A. What is Probability that in a given week he will sell some cars? \n",
    "### 3.B. What is Probability that in a given week he will sell 2 or more but less than 5 cars?\n",
    "### 3.C. Plot the poisson distribution function for cumulative probability of cars sold per-week vs number of cars sold per week."
   ]
  },
  {
   "cell_type": "code",
   "execution_count": 9,
   "id": "f9904e11",
   "metadata": {},
   "outputs": [
    {
     "data": {
      "text/plain": [
       "array([4.97870684e-02, 1.49361205e-01, 2.24041808e-01, 2.24041808e-01,\n",
       "       1.68031356e-01, 1.00818813e-01, 5.04094067e-02, 2.16040315e-02,\n",
       "       8.10151179e-03, 2.70050393e-03, 8.10151179e-04, 2.20950322e-04,\n",
       "       5.52375804e-05, 1.27471339e-05, 2.73152870e-06, 5.46305740e-07,\n",
       "       1.02432326e-07, 1.80762929e-08, 3.01271548e-09, 4.75691918e-10])"
      ]
     },
     "execution_count": 9,
     "metadata": {},
     "output_type": "execute_result"
    }
   ],
   "source": [
    "'''\n",
    "This is the case of poisson distribution.\n",
    "'''\n",
    "lambd = 3\n",
    "# assuming n as 20\n",
    "n= np.arange(20)\n",
    "posson= stats.poisson.pmf(n, lambd)\n",
    "posson"
   ]
  },
  {
   "cell_type": "code",
   "execution_count": 10,
   "id": "9801cb6f",
   "metadata": {},
   "outputs": [
    {
     "name": "stdout",
     "output_type": "stream",
     "text": [
      " Probability that in a given week he will sell some cars:  0.950212931632136\n"
     ]
    }
   ],
   "source": [
    "# probability of selling some cars means atleast one he will sell\n",
    "# Atleast one means one or more than one\n",
    "prob = 1- posson[0]\n",
    "print(\" Probability that in a given week he will sell some cars: \", prob)"
   ]
  },
  {
   "cell_type": "code",
   "execution_count": 11,
   "id": "abfe105a",
   "metadata": {},
   "outputs": [
    {
     "name": "stdout",
     "output_type": "stream",
     "text": [
      " Probability that in a given week he will sell 2 or more but less than 5 cars:  0.6161149710523164\n"
     ]
    }
   ],
   "source": [
    "# For selling 2 or more but less than 5 cars\n",
    "# Add probability of selling 2, 3 and 4 cars\n",
    "\n",
    "prob_1= posson[2]+posson[3]+ posson[4]\n",
    "print(\" Probability that in a given week he will sell 2 or more but less than 5 cars: \", prob_1)"
   ]
  },
  {
   "cell_type": "code",
   "execution_count": 12,
   "id": "bd31ee9f",
   "metadata": {},
   "outputs": [
    {
     "data": {
      "image/png": "[encoded data removed]",
      "text/plain": [
       "<Figure size 432x288 with 1 Axes>"
      ]
     },
     "metadata": {
      "needs_background": "light"
     },
     "output_type": "display_data"
    }
   ],
   "source": [
    "# For plotting cumulative probability, first poisson.cdf function is used to calculate prob\n",
    "\n",
    "poisson= stats.poisson.cdf(n, lambd)\n",
    "plt.plot(n, poisson)\n",
    "plt.xlabel(\" Number of cars sold per week\")\n",
    "plt.ylabel(\" Cumulative probability of cars sold per-week\")\n",
    "plt.show()\n"
   ]
  },
  {
   "cell_type": "markdown",
   "id": "bc2b05eb",
   "metadata": {},
   "source": [
    "### Q4) Accuracy in understanding orders for a speech based bot at a restaurant is important for the Company X which has designed, marketed and launched the product for a contactless delivery due to the COVID-19 pandemic. Recognition accuracy that measures the percentage of orders that are taken correctly is 86.8%. Suppose that you place an order with the bot and two friends of yours independently place orders with the same bot."
   ]
  },
  {
   "cell_type": "code",
   "execution_count": 13,
   "id": "7eb60464",
   "metadata": {},
   "outputs": [
    {
     "data": {
      "text/plain": [
       "array([0.00229997, 0.0453721 , 0.2983559 , 0.65397203])"
      ]
     },
     "execution_count": 13,
     "metadata": {},
     "output_type": "execute_result"
    }
   ],
   "source": [
    "'''\n",
    "Clearly this is the binomial distribution case with \n",
    "P= recognition accuracy = 0.868\n",
    "n = 3\n",
    "'''\n",
    "p= 0.868 \n",
    "n= 3\n",
    "k= np.arange(0,4)\n",
    "binom= stats.binom.pmf(k,n,p)\n",
    "binom"
   ]
  },
  {
   "cell_type": "markdown",
   "id": "effe9118",
   "metadata": {},
   "source": [
    "### What is the probability that all three orders will be recognised correctly ?\n"
   ]
  },
  {
   "cell_type": "code",
   "execution_count": 14,
   "id": "adaef47f",
   "metadata": {},
   "outputs": [
    {
     "name": "stdout",
     "output_type": "stream",
     "text": [
      "  Probability that all three orders will be recognised correctly:  0.653972032\n"
     ]
    }
   ],
   "source": [
    "# for all the 3 orders recognised as corectly\n",
    "\n",
    "prob= binom[3]\n",
    "print(\"  Probability that all three orders will be recognised correctly: \", prob)"
   ]
  },
  {
   "cell_type": "markdown",
   "id": "4c769ef2",
   "metadata": {},
   "source": [
    "### What is the probability that none of the three orders will be recognised correctly? "
   ]
  },
  {
   "cell_type": "code",
   "execution_count": 15,
   "id": "70afe139",
   "metadata": {},
   "outputs": [
    {
     "name": "stdout",
     "output_type": "stream",
     "text": [
      " Probability that none of the three orders will be recognised correctly:  0.002299968\n"
     ]
    }
   ],
   "source": [
    "# none of the orders recognised correctly \n",
    "\n",
    "prob1= binom[0]\n",
    "print(\" Probability that none of the three orders will be recognised correctly: \", prob1 )"
   ]
  },
  {
   "cell_type": "markdown",
   "id": "f815aef1",
   "metadata": {},
   "source": [
    "### What is the probability that at least two of the three orders will be recognised correctly?"
   ]
  },
  {
   "cell_type": "code",
   "execution_count": 16,
   "id": "4d8f94be",
   "metadata": {},
   "outputs": [
    {
     "name": "stdout",
     "output_type": "stream",
     "text": [
      " Probability that at least two of the three orders will be recognised correctly :  0.9523279359999999\n"
     ]
    }
   ],
   "source": [
    "# atleast 2 orders means 2 or more\n",
    "# here, prob of 2 and 3 orders will be added \n",
    "\n",
    "prob2= binom[2]+ binom[3]\n",
    "print(\" Probability that at least two of the three orders will be recognised correctly : \", prob2)"
   ]
  },
  {
   "cell_type": "markdown",
   "id": "6ba86468",
   "metadata": {},
   "source": [
    "### Q5) Explain 1 real life industry scenario (other than the ones mentioned above) where you can use the concepts learnt in this module of Applied Statistics to get data driven business solution."
   ]
  },
  {
   "cell_type": "markdown",
   "id": "d093708a",
   "metadata": {},
   "source": [
    "One real life Industry scenario can be taken of **Garments Industry**.\n",
    "    **Case1**: Jeans manufacturing company says that 10% of its products are defective\n",
    "    **Case2**: The company says average number of defects in a Jeans are 4.\n",
    "Here, Case 1 is of **Binomial distribution** with probability of having defects= 0.10\n",
    "      Case 2 is of **Poisson distribution** with lambda equal to 4"
   ]
  },
  {
   "cell_type": "raw",
   "id": "1678b1a7",
   "metadata": {},
   "source": [
    "# Take an example with Case 1:\n",
    "\n",
    "A company selects 10 jeans at random from the lot. What will be the probability that\n",
    "a) There is zero defective jeans\n",
    "b) There is one defective jeans in the lot"
   ]
  },
  {
   "cell_type": "code",
   "execution_count": 17,
   "id": "0ac291df",
   "metadata": {},
   "outputs": [
    {
     "data": {
      "text/plain": [
       "array([3.48678440e-01, 3.87420489e-01, 1.93710245e-01, 5.73956280e-02,\n",
       "       1.11602610e-02, 1.48803480e-03, 1.37781000e-04, 8.74800000e-06,\n",
       "       3.64500000e-07, 9.00000000e-09, 1.00000000e-10])"
      ]
     },
     "execution_count": 17,
     "metadata": {},
     "output_type": "execute_result"
    }
   ],
   "source": [
    "# This can be solved by Binomial distribution formula\n",
    "\n",
    "p= 0.1\n",
    "n=10\n",
    "k = np.arange(11)\n",
    "binomial= stats.binom.pmf(k,n,p)\n",
    "binomial"
   ]
  },
  {
   "cell_type": "code",
   "execution_count": 18,
   "id": "ef190b53",
   "metadata": {},
   "outputs": [
    {
     "name": "stdout",
     "output_type": "stream",
     "text": [
      " There is zero defective jeans :  0.34867844009999993\n"
     ]
    }
   ],
   "source": [
    "print(\" There is zero defective jeans : \", binomial[0])"
   ]
  },
  {
   "cell_type": "code",
   "execution_count": 19,
   "id": "cfdd2f2d",
   "metadata": {},
   "outputs": [
    {
     "name": "stdout",
     "output_type": "stream",
     "text": [
      " There is one defective jeans in the lot :  0.3874204890000005\n"
     ]
    }
   ],
   "source": [
    "print(\" There is one defective jeans in the lot : \", binomial[1])"
   ]
  },
  {
   "cell_type": "raw",
   "id": "66e84917",
   "metadata": {},
   "source": [
    "# Case 2 example:\n",
    "    Find the probability, if the average number of defects in jeans is 4.\n",
    "    a) there is only 1 defective jeans\n",
    "    b) there is more than one defective jeans\n",
    "    "
   ]
  },
  {
   "cell_type": "code",
   "execution_count": 20,
   "id": "6a07b3e1",
   "metadata": {},
   "outputs": [
    {
     "data": {
      "text/plain": [
       "array([1.83156389e-02, 7.32625556e-02, 1.46525111e-01, 1.95366815e-01,\n",
       "       1.95366815e-01, 1.56293452e-01, 1.04195635e-01, 5.95403626e-02,\n",
       "       2.97701813e-02, 1.32311917e-02, 5.29247668e-03, 1.92453697e-03,\n",
       "       6.41512324e-04, 1.97388408e-04, 5.63966879e-05, 1.50391168e-05,\n",
       "       3.75977919e-06, 8.84653927e-07, 1.96589762e-07, 4.13873182e-08])"
      ]
     },
     "execution_count": 20,
     "metadata": {},
     "output_type": "execute_result"
    }
   ],
   "source": [
    "# case2  follows poisson distribution \n",
    "lambd= 4\n",
    "n = np.arange(20)\n",
    "posson= stats.poisson.pmf(n,lambd)\n",
    "posson"
   ]
  },
  {
   "cell_type": "code",
   "execution_count": 21,
   "id": "b2b4ab98",
   "metadata": {},
   "outputs": [
    {
     "name": "stdout",
     "output_type": "stream",
     "text": [
      " there is only 1 defective jeans :  0.07326255555493673\n"
     ]
    }
   ],
   "source": [
    "print(\" there is only 1 defective jeans : \", posson[1])"
   ]
  },
  {
   "cell_type": "code",
   "execution_count": 22,
   "id": "5228305c",
   "metadata": {},
   "outputs": [],
   "source": [
    "possn= 1- posson[1]"
   ]
  },
  {
   "cell_type": "code",
   "execution_count": 23,
   "id": "dec4873d",
   "metadata": {},
   "outputs": [
    {
     "name": "stdout",
     "output_type": "stream",
     "text": [
      " there is more than one defective jeans :  0.9267374444450632\n"
     ]
    }
   ],
   "source": [
    "print(\" there is more than one defective jeans : \", possn)"
   ]
  },
  {
   "cell_type": "markdown",
   "id": "35a4d8c6",
   "metadata": {},
   "source": [
    "# "
   ]
  },
  {
   "cell_type": "markdown",
   "id": "1ee876c8",
   "metadata": {},
   "source": [
    "# PART-B "
   ]
  },
  {
   "cell_type": "markdown",
   "id": "2bb82108",
   "metadata": {},
   "source": [
    "### Will follow the following steps in cleaning the data\n",
    "   Step 1- **Load the given dataset** \n",
    "   \n",
    "   Step 2- Check the **shape** of the data\n",
    "    \n",
    "   Step 3- Checking the **columns info and datatypes**\n",
    "   \n",
    "   Step 4- Check for **null values**\n",
    "   \n",
    "   Step 5- Check for **duplicate entries**\n"
   ]
  },
  {
   "cell_type": "code",
   "execution_count": 24,
   "id": "f43bb5d8",
   "metadata": {},
   "outputs": [
    {
     "data": {
      "text/html": [
       "<div>\n",
       "<style scoped>\n",
       "    .dataframe tbody tr th:only-of-type {\n",
       "        vertical-align: middle;\n",
       "    }\n",
       "\n",
       "    .dataframe tbody tr th {\n",
       "        vertical-align: top;\n",
       "    }\n",
       "\n",
       "    .dataframe thead th {\n",
       "        text-align: right;\n",
       "    }\n",
       "</style>\n",
       "<table border=\"1\" class=\"dataframe\">\n",
       "  <thead>\n",
       "    <tr style=\"text-align: right;\">\n",
       "      <th></th>\n",
       "      <th>Team</th>\n",
       "      <th>Tournament</th>\n",
       "      <th>Score</th>\n",
       "      <th>PlayedGames</th>\n",
       "      <th>WonGames</th>\n",
       "      <th>DrawnGames</th>\n",
       "      <th>LostGames</th>\n",
       "      <th>BasketScored</th>\n",
       "      <th>BasketGiven</th>\n",
       "      <th>TournamentChampion</th>\n",
       "      <th>Runner-up</th>\n",
       "      <th>TeamLaunch</th>\n",
       "      <th>HighestPositionHeld</th>\n",
       "    </tr>\n",
       "  </thead>\n",
       "  <tbody>\n",
       "    <tr>\n",
       "      <th>0</th>\n",
       "      <td>Team 1</td>\n",
       "      <td>86</td>\n",
       "      <td>4385</td>\n",
       "      <td>2762</td>\n",
       "      <td>1647</td>\n",
       "      <td>552</td>\n",
       "      <td>563</td>\n",
       "      <td>5947</td>\n",
       "      <td>3140</td>\n",
       "      <td>33</td>\n",
       "      <td>23</td>\n",
       "      <td>1929</td>\n",
       "      <td>1</td>\n",
       "    </tr>\n",
       "    <tr>\n",
       "      <th>1</th>\n",
       "      <td>Team 2</td>\n",
       "      <td>86</td>\n",
       "      <td>4262</td>\n",
       "      <td>2762</td>\n",
       "      <td>1581</td>\n",
       "      <td>573</td>\n",
       "      <td>608</td>\n",
       "      <td>5900</td>\n",
       "      <td>3114</td>\n",
       "      <td>25</td>\n",
       "      <td>25</td>\n",
       "      <td>1929</td>\n",
       "      <td>1</td>\n",
       "    </tr>\n",
       "    <tr>\n",
       "      <th>2</th>\n",
       "      <td>Team 3</td>\n",
       "      <td>80</td>\n",
       "      <td>3442</td>\n",
       "      <td>2614</td>\n",
       "      <td>1241</td>\n",
       "      <td>598</td>\n",
       "      <td>775</td>\n",
       "      <td>4534</td>\n",
       "      <td>3309</td>\n",
       "      <td>10</td>\n",
       "      <td>8</td>\n",
       "      <td>1929</td>\n",
       "      <td>1</td>\n",
       "    </tr>\n",
       "    <tr>\n",
       "      <th>3</th>\n",
       "      <td>Team 4</td>\n",
       "      <td>82</td>\n",
       "      <td>3386</td>\n",
       "      <td>2664</td>\n",
       "      <td>1187</td>\n",
       "      <td>616</td>\n",
       "      <td>861</td>\n",
       "      <td>4398</td>\n",
       "      <td>3469</td>\n",
       "      <td>6</td>\n",
       "      <td>6</td>\n",
       "      <td>1931to32</td>\n",
       "      <td>1</td>\n",
       "    </tr>\n",
       "    <tr>\n",
       "      <th>4</th>\n",
       "      <td>Team 5</td>\n",
       "      <td>86</td>\n",
       "      <td>3368</td>\n",
       "      <td>2762</td>\n",
       "      <td>1209</td>\n",
       "      <td>633</td>\n",
       "      <td>920</td>\n",
       "      <td>4631</td>\n",
       "      <td>3700</td>\n",
       "      <td>8</td>\n",
       "      <td>7</td>\n",
       "      <td>1929</td>\n",
       "      <td>1</td>\n",
       "    </tr>\n",
       "  </tbody>\n",
       "</table>\n",
       "</div>"
      ],
      "text/plain": [
       "     Team  Tournament Score PlayedGames WonGames DrawnGames LostGames  \\\n",
       "0  Team 1          86  4385        2762     1647        552       563   \n",
       "1  Team 2          86  4262        2762     1581        573       608   \n",
       "2  Team 3          80  3442        2614     1241        598       775   \n",
       "3  Team 4          82  3386        2664     1187        616       861   \n",
       "4  Team 5          86  3368        2762     1209        633       920   \n",
       "\n",
       "  BasketScored BasketGiven TournamentChampion Runner-up TeamLaunch  \\\n",
       "0         5947        3140                 33        23       1929   \n",
       "1         5900        3114                 25        25       1929   \n",
       "2         4534        3309                 10         8       1929   \n",
       "3         4398        3469                  6         6   1931to32   \n",
       "4         4631        3700                  8         7       1929   \n",
       "\n",
       "   HighestPositionHeld  \n",
       "0                    1  \n",
       "1                    1  \n",
       "2                    1  \n",
       "3                    1  \n",
       "4                    1  "
      ]
     },
     "execution_count": 24,
     "metadata": {},
     "output_type": "execute_result"
    }
   ],
   "source": [
    " \n",
    "df= pd.read_csv(\"Basketball.csv\")\n",
    "df.head(5)"
   ]
  },
  {
   "cell_type": "code",
   "execution_count": 25,
   "id": "19897549",
   "metadata": {},
   "outputs": [
    {
     "data": {
      "text/html": [
       "<div>\n",
       "<style scoped>\n",
       "    .dataframe tbody tr th:only-of-type {\n",
       "        vertical-align: middle;\n",
       "    }\n",
       "\n",
       "    .dataframe tbody tr th {\n",
       "        vertical-align: top;\n",
       "    }\n",
       "\n",
       "    .dataframe thead th {\n",
       "        text-align: right;\n",
       "    }\n",
       "</style>\n",
       "<table border=\"1\" class=\"dataframe\">\n",
       "  <thead>\n",
       "    <tr style=\"text-align: right;\">\n",
       "      <th></th>\n",
       "      <th>Team</th>\n",
       "      <th>Tournament</th>\n",
       "      <th>Score</th>\n",
       "      <th>PlayedGames</th>\n",
       "      <th>WonGames</th>\n",
       "      <th>DrawnGames</th>\n",
       "      <th>LostGames</th>\n",
       "      <th>BasketScored</th>\n",
       "      <th>BasketGiven</th>\n",
       "      <th>TournamentChampion</th>\n",
       "      <th>Runner-up</th>\n",
       "      <th>TeamLaunch</th>\n",
       "      <th>HighestPositionHeld</th>\n",
       "    </tr>\n",
       "  </thead>\n",
       "  <tbody>\n",
       "    <tr>\n",
       "      <th>46</th>\n",
       "      <td>Team 47</td>\n",
       "      <td>4</td>\n",
       "      <td>91</td>\n",
       "      <td>116</td>\n",
       "      <td>34</td>\n",
       "      <td>16</td>\n",
       "      <td>66</td>\n",
       "      <td>181</td>\n",
       "      <td>295</td>\n",
       "      <td>-</td>\n",
       "      <td>-</td>\n",
       "      <td>1947-48</td>\n",
       "      <td>7</td>\n",
       "    </tr>\n",
       "    <tr>\n",
       "      <th>47</th>\n",
       "      <td>Team 48</td>\n",
       "      <td>2</td>\n",
       "      <td>83</td>\n",
       "      <td>80</td>\n",
       "      <td>20</td>\n",
       "      <td>23</td>\n",
       "      <td>37</td>\n",
       "      <td>62</td>\n",
       "      <td>117</td>\n",
       "      <td>-</td>\n",
       "      <td>-</td>\n",
       "      <td>1996-97</td>\n",
       "      <td>17</td>\n",
       "    </tr>\n",
       "    <tr>\n",
       "      <th>48</th>\n",
       "      <td>Team 49</td>\n",
       "      <td>2</td>\n",
       "      <td>81</td>\n",
       "      <td>80</td>\n",
       "      <td>19</td>\n",
       "      <td>24</td>\n",
       "      <td>37</td>\n",
       "      <td>70</td>\n",
       "      <td>115</td>\n",
       "      <td>-</td>\n",
       "      <td>-</td>\n",
       "      <td>1995-96</td>\n",
       "      <td>19</td>\n",
       "    </tr>\n",
       "    <tr>\n",
       "      <th>49</th>\n",
       "      <td>Team 50</td>\n",
       "      <td>4</td>\n",
       "      <td>76</td>\n",
       "      <td>108</td>\n",
       "      <td>30</td>\n",
       "      <td>16</td>\n",
       "      <td>62</td>\n",
       "      <td>145</td>\n",
       "      <td>252</td>\n",
       "      <td>-</td>\n",
       "      <td>-</td>\n",
       "      <td>1945-46</td>\n",
       "      <td>10</td>\n",
       "    </tr>\n",
       "    <tr>\n",
       "      <th>50</th>\n",
       "      <td>Team 51</td>\n",
       "      <td>3</td>\n",
       "      <td>71</td>\n",
       "      <td>90</td>\n",
       "      <td>29</td>\n",
       "      <td>13</td>\n",
       "      <td>48</td>\n",
       "      <td>121</td>\n",
       "      <td>183</td>\n",
       "      <td>-</td>\n",
       "      <td>-</td>\n",
       "      <td>1953-54</td>\n",
       "      <td>14</td>\n",
       "    </tr>\n",
       "    <tr>\n",
       "      <th>51</th>\n",
       "      <td>Team 52</td>\n",
       "      <td>4</td>\n",
       "      <td>56</td>\n",
       "      <td>72</td>\n",
       "      <td>21</td>\n",
       "      <td>14</td>\n",
       "      <td>37</td>\n",
       "      <td>153</td>\n",
       "      <td>184</td>\n",
       "      <td>-</td>\n",
       "      <td>-</td>\n",
       "      <td>1929</td>\n",
       "      <td>6</td>\n",
       "    </tr>\n",
       "    <tr>\n",
       "      <th>52</th>\n",
       "      <td>Team 53</td>\n",
       "      <td>2</td>\n",
       "      <td>52</td>\n",
       "      <td>68</td>\n",
       "      <td>17</td>\n",
       "      <td>18</td>\n",
       "      <td>33</td>\n",
       "      <td>71</td>\n",
       "      <td>116</td>\n",
       "      <td>-</td>\n",
       "      <td>-</td>\n",
       "      <td>1979-80</td>\n",
       "      <td>10</td>\n",
       "    </tr>\n",
       "    <tr>\n",
       "      <th>53</th>\n",
       "      <td>Team 54</td>\n",
       "      <td>3</td>\n",
       "      <td>42</td>\n",
       "      <td>54</td>\n",
       "      <td>18</td>\n",
       "      <td>6</td>\n",
       "      <td>30</td>\n",
       "      <td>97</td>\n",
       "      <td>131</td>\n",
       "      <td>-</td>\n",
       "      <td>-</td>\n",
       "      <td>1929</td>\n",
       "      <td>8</td>\n",
       "    </tr>\n",
       "    <tr>\n",
       "      <th>54</th>\n",
       "      <td>Team 55</td>\n",
       "      <td>2</td>\n",
       "      <td>40</td>\n",
       "      <td>68</td>\n",
       "      <td>13</td>\n",
       "      <td>14</td>\n",
       "      <td>41</td>\n",
       "      <td>70</td>\n",
       "      <td>182</td>\n",
       "      <td>-</td>\n",
       "      <td>-</td>\n",
       "      <td>1950-51</td>\n",
       "      <td>16</td>\n",
       "    </tr>\n",
       "    <tr>\n",
       "      <th>55</th>\n",
       "      <td>Team 56</td>\n",
       "      <td>1</td>\n",
       "      <td>35</td>\n",
       "      <td>38</td>\n",
       "      <td>8</td>\n",
       "      <td>11</td>\n",
       "      <td>19</td>\n",
       "      <td>36</td>\n",
       "      <td>55</td>\n",
       "      <td>-</td>\n",
       "      <td>-</td>\n",
       "      <td>2016_17</td>\n",
       "      <td>17</td>\n",
       "    </tr>\n",
       "    <tr>\n",
       "      <th>56</th>\n",
       "      <td>Team 57</td>\n",
       "      <td>1</td>\n",
       "      <td>34</td>\n",
       "      <td>38</td>\n",
       "      <td>8</td>\n",
       "      <td>10</td>\n",
       "      <td>20</td>\n",
       "      <td>38</td>\n",
       "      <td>66</td>\n",
       "      <td>-</td>\n",
       "      <td>-</td>\n",
       "      <td>2009-10</td>\n",
       "      <td>20</td>\n",
       "    </tr>\n",
       "    <tr>\n",
       "      <th>57</th>\n",
       "      <td>Team 58</td>\n",
       "      <td>1</td>\n",
       "      <td>22</td>\n",
       "      <td>30</td>\n",
       "      <td>7</td>\n",
       "      <td>8</td>\n",
       "      <td>15</td>\n",
       "      <td>37</td>\n",
       "      <td>57</td>\n",
       "      <td>-</td>\n",
       "      <td>-</td>\n",
       "      <td>1956-57</td>\n",
       "      <td>16</td>\n",
       "    </tr>\n",
       "    <tr>\n",
       "      <th>58</th>\n",
       "      <td>Team 59</td>\n",
       "      <td>1</td>\n",
       "      <td>19</td>\n",
       "      <td>30</td>\n",
       "      <td>7</td>\n",
       "      <td>5</td>\n",
       "      <td>18</td>\n",
       "      <td>51</td>\n",
       "      <td>85</td>\n",
       "      <td>-</td>\n",
       "      <td>-</td>\n",
       "      <td>1951~52</td>\n",
       "      <td>16</td>\n",
       "    </tr>\n",
       "    <tr>\n",
       "      <th>59</th>\n",
       "      <td>Team 60</td>\n",
       "      <td>1</td>\n",
       "      <td>14</td>\n",
       "      <td>30</td>\n",
       "      <td>5</td>\n",
       "      <td>4</td>\n",
       "      <td>21</td>\n",
       "      <td>34</td>\n",
       "      <td>65</td>\n",
       "      <td>-</td>\n",
       "      <td>-</td>\n",
       "      <td>1955-56</td>\n",
       "      <td>15</td>\n",
       "    </tr>\n",
       "    <tr>\n",
       "      <th>60</th>\n",
       "      <td>Team 61</td>\n",
       "      <td>1</td>\n",
       "      <td>-</td>\n",
       "      <td>-</td>\n",
       "      <td>-</td>\n",
       "      <td>-</td>\n",
       "      <td>-</td>\n",
       "      <td>-</td>\n",
       "      <td>-</td>\n",
       "      <td>-</td>\n",
       "      <td>-</td>\n",
       "      <td>2017~18</td>\n",
       "      <td>9</td>\n",
       "    </tr>\n",
       "  </tbody>\n",
       "</table>\n",
       "</div>"
      ],
      "text/plain": [
       "       Team  Tournament Score PlayedGames WonGames DrawnGames LostGames  \\\n",
       "46  Team 47           4    91         116       34         16        66   \n",
       "47  Team 48           2    83          80       20         23        37   \n",
       "48  Team 49           2    81          80       19         24        37   \n",
       "49  Team 50           4    76         108       30         16        62   \n",
       "50  Team 51           3    71          90       29         13        48   \n",
       "51  Team 52           4    56          72       21         14        37   \n",
       "52  Team 53           2    52          68       17         18        33   \n",
       "53  Team 54           3    42          54       18          6        30   \n",
       "54  Team 55           2    40          68       13         14        41   \n",
       "55  Team 56           1    35          38        8         11        19   \n",
       "56  Team 57           1    34          38        8         10        20   \n",
       "57  Team 58           1    22          30        7          8        15   \n",
       "58  Team 59           1    19          30        7          5        18   \n",
       "59  Team 60           1    14          30        5          4        21   \n",
       "60  Team 61           1     -           -        -          -         -   \n",
       "\n",
       "   BasketScored BasketGiven TournamentChampion Runner-up TeamLaunch  \\\n",
       "46          181         295                  -         -    1947-48   \n",
       "47           62         117                  -         -    1996-97   \n",
       "48           70         115                  -         -    1995-96   \n",
       "49          145         252                  -         -    1945-46   \n",
       "50          121         183                  -         -    1953-54   \n",
       "51          153         184                  -         -       1929   \n",
       "52           71         116                  -         -    1979-80   \n",
       "53           97         131                  -         -       1929   \n",
       "54           70         182                  -         -    1950-51   \n",
       "55           36          55                  -         -    2016_17   \n",
       "56           38          66                  -         -    2009-10   \n",
       "57           37          57                  -         -    1956-57   \n",
       "58           51          85                  -         -    1951~52   \n",
       "59           34          65                  -         -    1955-56   \n",
       "60            -           -                  -         -    2017~18   \n",
       "\n",
       "    HighestPositionHeld  \n",
       "46                    7  \n",
       "47                   17  \n",
       "48                   19  \n",
       "49                   10  \n",
       "50                   14  \n",
       "51                    6  \n",
       "52                   10  \n",
       "53                    8  \n",
       "54                   16  \n",
       "55                   17  \n",
       "56                   20  \n",
       "57                   16  \n",
       "58                   16  \n",
       "59                   15  \n",
       "60                    9  "
      ]
     },
     "execution_count": 25,
     "metadata": {},
     "output_type": "execute_result"
    }
   ],
   "source": [
    "df.tail(15)"
   ]
  },
  {
   "cell_type": "code",
   "execution_count": null,
   "id": "6fb7fad7",
   "metadata": {},
   "outputs": [],
   "source": []
  },
  {
   "cell_type": "code",
   "execution_count": 26,
   "id": "f059a134",
   "metadata": {},
   "outputs": [
    {
     "data": {
      "text/plain": [
       "(61, 13)"
      ]
     },
     "execution_count": 26,
     "metadata": {},
     "output_type": "execute_result"
    }
   ],
   "source": [
    "#Checking shape of the dataset\n",
    "df.shape"
   ]
  },
  {
   "cell_type": "code",
   "execution_count": 27,
   "id": "abdd6077",
   "metadata": {},
   "outputs": [
    {
     "name": "stdout",
     "output_type": "stream",
     "text": [
      "<class 'pandas.core.frame.DataFrame'>\n",
      "RangeIndex: 61 entries, 0 to 60\n",
      "Data columns (total 13 columns):\n",
      " #   Column               Non-Null Count  Dtype \n",
      "---  ------               --------------  ----- \n",
      " 0   Team                 61 non-null     object\n",
      " 1   Tournament           61 non-null     int64 \n",
      " 2   Score                61 non-null     object\n",
      " 3   PlayedGames          61 non-null     object\n",
      " 4   WonGames             61 non-null     object\n",
      " 5   DrawnGames           61 non-null     object\n",
      " 6   LostGames            61 non-null     object\n",
      " 7   BasketScored         61 non-null     object\n",
      " 8   BasketGiven          61 non-null     object\n",
      " 9   TournamentChampion   61 non-null     object\n",
      " 10  Runner-up            61 non-null     object\n",
      " 11  TeamLaunch           61 non-null     object\n",
      " 12  HighestPositionHeld  61 non-null     int64 \n",
      "dtypes: int64(2), object(11)\n",
      "memory usage: 6.3+ KB\n"
     ]
    }
   ],
   "source": [
    "#Checking information of columns \n",
    "df.info()"
   ]
  },
  {
   "cell_type": "code",
   "execution_count": 28,
   "id": "76b6275f",
   "metadata": {},
   "outputs": [
    {
     "data": {
      "text/plain": [
       "Team                   0\n",
       "Tournament             0\n",
       "Score                  0\n",
       "PlayedGames            0\n",
       "WonGames               0\n",
       "DrawnGames             0\n",
       "LostGames              0\n",
       "BasketScored           0\n",
       "BasketGiven            0\n",
       "TournamentChampion     0\n",
       "Runner-up              0\n",
       "TeamLaunch             0\n",
       "HighestPositionHeld    0\n",
       "dtype: int64"
      ]
     },
     "execution_count": 28,
     "metadata": {},
     "output_type": "execute_result"
    }
   ],
   "source": [
    "#Checking null values\n",
    "df.isnull().sum()"
   ]
  },
  {
   "cell_type": "code",
   "execution_count": 29,
   "id": "186574f2",
   "metadata": {},
   "outputs": [
    {
     "data": {
      "text/plain": [
       "Index(['Team', 'Tournament', 'Score', 'PlayedGames', 'WonGames', 'DrawnGames',\n",
       "       'LostGames', 'BasketScored', 'BasketGiven', 'TournamentChampion',\n",
       "       'Runner-up', 'TeamLaunch', 'HighestPositionHeld'],\n",
       "      dtype='object')"
      ]
     },
     "execution_count": 29,
     "metadata": {},
     "output_type": "execute_result"
    }
   ],
   "source": [
    "#listing all the columns name\n",
    "df.columns"
   ]
  },
  {
   "cell_type": "code",
   "execution_count": 30,
   "id": "0a845b29",
   "metadata": {},
   "outputs": [
    {
     "data": {
      "text/plain": [
       "190     1\n",
       "150     1\n",
       "1148    1\n",
       "970     1\n",
       "3442    1\n",
       "       ..\n",
       "168     1\n",
       "277     1\n",
       "22      1\n",
       "3368    1\n",
       "148     1\n",
       "Name: Score, Length: 61, dtype: int64"
      ]
     },
     "execution_count": 30,
     "metadata": {},
     "output_type": "execute_result"
    }
   ],
   "source": [
    "# Using value_counts function to check the columns datatype\n",
    "# First we go with score column\n",
    "df['Score'].value_counts()"
   ]
  },
  {
   "cell_type": "code",
   "execution_count": 31,
   "id": "83f434c6",
   "metadata": {},
   "outputs": [],
   "source": [
    "# Score column doesnot have categorical data so we convert its datatype \n",
    "\n",
    "df['Score']=pd.to_numeric(df['Score'], errors='coerce')"
   ]
  },
  {
   "cell_type": "code",
   "execution_count": 32,
   "id": "d0c9831a",
   "metadata": {},
   "outputs": [
    {
     "data": {
      "text/plain": [
       "dtype('float64')"
      ]
     },
     "execution_count": 32,
     "metadata": {},
     "output_type": "execute_result"
    }
   ],
   "source": [
    "df['Score'].dtypes"
   ]
  },
  {
   "cell_type": "code",
   "execution_count": 33,
   "id": "0e83f1c7",
   "metadata": {},
   "outputs": [
    {
     "data": {
      "text/plain": [
       "2762    3\n",
       "30      3\n",
       "68      2\n",
       "38      2\n",
       "80      2\n",
       "114     2\n",
       "456     1\n",
       "152     1\n",
       "282     1\n",
       "988     1\n",
       "1466    1\n",
       "204     1\n",
       "742     1\n",
       "494     1\n",
       "402     1\n",
       "652     1\n",
       "380     1\n",
       "1318    1\n",
       "2614    1\n",
       "1428    1\n",
       "628     1\n",
       "186     1\n",
       "1255    1\n",
       "-       1\n",
       "130     1\n",
       "2626    1\n",
       "228     1\n",
       "180     1\n",
       "1458    1\n",
       "2408    1\n",
       "586     1\n",
       "72      1\n",
       "346     1\n",
       "1096    1\n",
       "1728    1\n",
       "116     1\n",
       "90      1\n",
       "1192    1\n",
       "160     1\n",
       "270     1\n",
       "448     1\n",
       "1698    1\n",
       "2664    1\n",
       "1530    1\n",
       "54      1\n",
       "423     1\n",
       "334     1\n",
       "678     1\n",
       "108     1\n",
       "2302    1\n",
       "646     1\n",
       "426     1\n",
       "1986    1\n",
       "Name: PlayedGames, dtype: int64"
      ]
     },
     "execution_count": 33,
     "metadata": {},
     "output_type": "execute_result"
    }
   ],
   "source": [
    "# We now check for Tournament column\n",
    "df['PlayedGames'].value_counts()"
   ]
  },
  {
   "cell_type": "code",
   "execution_count": 34,
   "id": "0de7a500",
   "metadata": {},
   "outputs": [],
   "source": [
    "# We convert it into float type \n",
    "df['PlayedGames']=pd.to_numeric(df['PlayedGames'], errors='coerce')"
   ]
  },
  {
   "cell_type": "code",
   "execution_count": 35,
   "id": "7214376a",
   "metadata": {},
   "outputs": [
    {
     "data": {
      "text/plain": [
       "dtype('float64')"
      ]
     },
     "execution_count": 35,
     "metadata": {},
     "output_type": "execute_result"
    }
   ],
   "source": [
    "df['PlayedGames'].dtypes"
   ]
  },
  {
   "cell_type": "code",
   "execution_count": 36,
   "id": "df3d6bff",
   "metadata": {},
   "outputs": [
    {
     "data": {
      "text/plain": [
       "8       2\n",
       "7       2\n",
       "426     1\n",
       "586     1\n",
       "408     1\n",
       "30      1\n",
       "52      1\n",
       "698     1\n",
       "453     1\n",
       "104     1\n",
       "1581    1\n",
       "471     1\n",
       "26      1\n",
       "189     1\n",
       "606     1\n",
       "82      1\n",
       "266     1\n",
       "29      1\n",
       "43      1\n",
       "50      1\n",
       "13      1\n",
       "113     1\n",
       "-       1\n",
       "53      1\n",
       "463     1\n",
       "1187    1\n",
       "367     1\n",
       "21      1\n",
       "19      1\n",
       "155     1\n",
       "34      1\n",
       "125     1\n",
       "203     1\n",
       "1209    1\n",
       "62      1\n",
       "147     1\n",
       "218     1\n",
       "17      1\n",
       "333     1\n",
       "948     1\n",
       "35      1\n",
       "5       1\n",
       "390     1\n",
       "103     1\n",
       "145     1\n",
       "20      1\n",
       "184     1\n",
       "123     1\n",
       "864     1\n",
       "18      1\n",
       "129     1\n",
       "76      1\n",
       "1647    1\n",
       "37      1\n",
       "59      1\n",
       "990     1\n",
       "1241    1\n",
       "96      1\n",
       "563     1\n",
       "Name: WonGames, dtype: int64"
      ]
     },
     "execution_count": 36,
     "metadata": {},
     "output_type": "execute_result"
    }
   ],
   "source": [
    "# We check for WonGames\n",
    "df['WonGames'].value_counts()"
   ]
  },
  {
   "cell_type": "code",
   "execution_count": 37,
   "id": "92b331c9",
   "metadata": {},
   "outputs": [
    {
     "data": {
      "text/plain": [
       "dtype('float64')"
      ]
     },
     "execution_count": 37,
     "metadata": {},
     "output_type": "execute_result"
    }
   ],
   "source": [
    "# we convert wonGames datatype\n",
    "df['WonGames']=pd.to_numeric(df['WonGames'], errors='coerce')\n",
    "df['WonGames'].dtypes"
   ]
  },
  {
   "cell_type": "code",
   "execution_count": 38,
   "id": "571a4c44",
   "metadata": {},
   "outputs": [
    {
     "data": {
      "text/plain": [
       "Index(['Team', 'Tournament', 'Score', 'PlayedGames', 'WonGames', 'DrawnGames',\n",
       "       'LostGames', 'BasketScored', 'BasketGiven', 'TournamentChampion',\n",
       "       'Runner-up', 'TeamLaunch', 'HighestPositionHeld'],\n",
       "      dtype='object')"
      ]
     },
     "execution_count": 38,
     "metadata": {},
     "output_type": "execute_result"
    }
   ],
   "source": [
    "df.columns"
   ]
  },
  {
   "cell_type": "code",
   "execution_count": 39,
   "id": "cca540a4",
   "metadata": {},
   "outputs": [
    {
     "data": {
      "text/plain": [
       "16     2\n",
       "14     2\n",
       "44     2\n",
       "95     2\n",
       "143    1\n",
       "358    1\n",
       "8      1\n",
       "389    1\n",
       "175    1\n",
       "180    1\n",
       "384    1\n",
       "633    1\n",
       "336    1\n",
       "102    1\n",
       "531    1\n",
       "608    1\n",
       "256    1\n",
       "172    1\n",
       "92     1\n",
       "440    1\n",
       "45     1\n",
       "50     1\n",
       "13     1\n",
       "149    1\n",
       "-      1\n",
       "63     1\n",
       "616    1\n",
       "148    1\n",
       "292    1\n",
       "81     1\n",
       "112    1\n",
       "11     1\n",
       "598    1\n",
       "242    1\n",
       "577    1\n",
       "392    1\n",
       "56     1\n",
       "6      1\n",
       "128    1\n",
       "552    1\n",
       "24     1\n",
       "5      1\n",
       "327    1\n",
       "21     1\n",
       "27     1\n",
       "79     1\n",
       "23     1\n",
       "18     1\n",
       "46     1\n",
       "76     1\n",
       "330    1\n",
       "37     1\n",
       "573    1\n",
       "127    1\n",
       "4      1\n",
       "10     1\n",
       "522    1\n",
       "Name: DrawnGames, dtype: int64"
      ]
     },
     "execution_count": 39,
     "metadata": {},
     "output_type": "execute_result"
    }
   ],
   "source": [
    "#We check for DrawnGames\n",
    "df['DrawnGames'].value_counts()"
   ]
  },
  {
   "cell_type": "code",
   "execution_count": 40,
   "id": "5b687df3",
   "metadata": {},
   "outputs": [
    {
     "data": {
      "text/plain": [
       "dtype('float64')"
      ]
     },
     "execution_count": 40,
     "metadata": {},
     "output_type": "execute_result"
    }
   ],
   "source": [
    "# We convert its datatype\n",
    "df['DrawnGames']=pd.to_numeric(df['DrawnGames'], errors='coerce')\n",
    "df['DrawnGames'].dtypes"
   ]
  },
  {
   "cell_type": "code",
   "execution_count": 41,
   "id": "5df39940",
   "metadata": {},
   "outputs": [
    {
     "data": {
      "text/plain": [
       "37      3\n",
       "295     2\n",
       "861     2\n",
       "66      2\n",
       "563     1\n",
       "78      1\n",
       "565     1\n",
       "118     1\n",
       "211     1\n",
       "52      1\n",
       "298     1\n",
       "639     1\n",
       "619     1\n",
       "158     1\n",
       "194     1\n",
       "349     1\n",
       "492     1\n",
       "-       1\n",
       "197     1\n",
       "15      1\n",
       "887     1\n",
       "208     1\n",
       "305     1\n",
       "152     1\n",
       "608     1\n",
       "19      1\n",
       "535     1\n",
       "775     1\n",
       "21      1\n",
       "217     1\n",
       "33      1\n",
       "766     1\n",
       "487     1\n",
       "62      1\n",
       "137     1\n",
       "1070    1\n",
       "90      1\n",
       "83      1\n",
       "682     1\n",
       "202     1\n",
       "723     1\n",
       "41      1\n",
       "110     1\n",
       "399     1\n",
       "30      1\n",
       "95      1\n",
       "63      1\n",
       "44      1\n",
       "48      1\n",
       "18      1\n",
       "629     1\n",
       "198     1\n",
       "920     1\n",
       "20      1\n",
       "174     1\n",
       "575     1\n",
       "Name: LostGames, dtype: int64"
      ]
     },
     "execution_count": 41,
     "metadata": {},
     "output_type": "execute_result"
    }
   ],
   "source": [
    "# we check for LostGames\n",
    "df['LostGames'].value_counts()"
   ]
  },
  {
   "cell_type": "code",
   "execution_count": 42,
   "id": "92b88059",
   "metadata": {},
   "outputs": [
    {
     "data": {
      "text/plain": [
       "dtype('float64')"
      ]
     },
     "execution_count": 42,
     "metadata": {},
     "output_type": "execute_result"
    }
   ],
   "source": [
    "# we convert its datatype\n",
    "df['LostGames']=pd.to_numeric(df['LostGames'], errors='coerce')\n",
    "df['LostGames'].dtypes"
   ]
  },
  {
   "cell_type": "code",
   "execution_count": 43,
   "id": "302cf7bb",
   "metadata": {},
   "outputs": [
    {
     "data": {
      "text/plain": [
       "70      2\n",
       "1753    1\n",
       "619     1\n",
       "199     1\n",
       "3609    1\n",
       "430     1\n",
       "492     1\n",
       "97      1\n",
       "38      1\n",
       "892     1\n",
       "716     1\n",
       "819     1\n",
       "2159    1\n",
       "4534    1\n",
       "422     1\n",
       "4631    1\n",
       "1767    1\n",
       "227     1\n",
       "607     1\n",
       "181     1\n",
       "285     1\n",
       "1347    1\n",
       "-       1\n",
       "1182    1\n",
       "3228    1\n",
       "216     1\n",
       "244     1\n",
       "4398    1\n",
       "2278    1\n",
       "34      1\n",
       "71      1\n",
       "1500    1\n",
       "760     1\n",
       "51      1\n",
       "101     1\n",
       "2683    1\n",
       "62      1\n",
       "291     1\n",
       "202     1\n",
       "393     1\n",
       "750     1\n",
       "155     1\n",
       "1421    1\n",
       "36      1\n",
       "520     1\n",
       "3680    1\n",
       "458     1\n",
       "145     1\n",
       "121     1\n",
       "2052    1\n",
       "320     1\n",
       "153     1\n",
       "419     1\n",
       "5900    1\n",
       "165     1\n",
       "1642    1\n",
       "37      1\n",
       "5947    1\n",
       "139     1\n",
       "1843    1\n",
       "Name: BasketScored, dtype: int64"
      ]
     },
     "execution_count": 43,
     "metadata": {},
     "output_type": "execute_result"
    }
   ],
   "source": [
    "#\n",
    "df['BasketScored'].value_counts()"
   ]
  },
  {
   "cell_type": "code",
   "execution_count": 44,
   "id": "ccb20f23",
   "metadata": {},
   "outputs": [
    {
     "data": {
      "text/plain": [
       "dtype('float64')"
      ]
     },
     "execution_count": 44,
     "metadata": {},
     "output_type": "execute_result"
    }
   ],
   "source": [
    "# we convert its dtype\n",
    "df['BasketScored']=pd.to_numeric(df['BasketScored'], errors='coerce')\n",
    "df['BasketScored'].dtypes"
   ]
  },
  {
   "cell_type": "code",
   "execution_count": 45,
   "id": "abe33323",
   "metadata": {},
   "outputs": [
    {
     "data": {
      "text/plain": [
       "Index(['Team', 'Tournament', 'Score', 'PlayedGames', 'WonGames', 'DrawnGames',\n",
       "       'LostGames', 'BasketScored', 'BasketGiven', 'TournamentChampion',\n",
       "       'Runner-up', 'TeamLaunch', 'HighestPositionHeld'],\n",
       "      dtype='object')"
      ]
     },
     "execution_count": 45,
     "metadata": {},
     "output_type": "execute_result"
    }
   ],
   "source": [
    "df.columns"
   ]
  },
  {
   "cell_type": "code",
   "execution_count": 46,
   "id": "ebad02f2",
   "metadata": {},
   "outputs": [
    {
     "data": {
      "text/plain": [
       "241     1\n",
       "489     1\n",
       "55      1\n",
       "167     1\n",
       "2368    1\n",
       "       ..\n",
       "2492    1\n",
       "3889    1\n",
       "1371    1\n",
       "117     1\n",
       "221     1\n",
       "Name: BasketGiven, Length: 61, dtype: int64"
      ]
     },
     "execution_count": 46,
     "metadata": {},
     "output_type": "execute_result"
    }
   ],
   "source": [
    "# checking for basketgiven column\n",
    "df['BasketGiven'].value_counts()"
   ]
  },
  {
   "cell_type": "code",
   "execution_count": 47,
   "id": "e694aaae",
   "metadata": {},
   "outputs": [
    {
     "data": {
      "text/plain": [
       "dtype('float64')"
      ]
     },
     "execution_count": 47,
     "metadata": {},
     "output_type": "execute_result"
    }
   ],
   "source": [
    "# changing its datatype \n",
    "df['BasketGiven']=pd.to_numeric(df['BasketGiven'], errors='coerce')\n",
    "df['BasketGiven'].dtypes"
   ]
  },
  {
   "cell_type": "code",
   "execution_count": 48,
   "id": "5d0c7f92",
   "metadata": {},
   "outputs": [
    {
     "data": {
      "text/plain": [
       "-     52\n",
       "1      3\n",
       "6      1\n",
       "2      1\n",
       "33     1\n",
       "8      1\n",
       "10     1\n",
       "25     1\n",
       "Name: TournamentChampion, dtype: int64"
      ]
     },
     "execution_count": 48,
     "metadata": {},
     "output_type": "execute_result"
    }
   ],
   "source": [
    "# we check for tournament champion\n",
    "df['TournamentChampion'].value_counts()"
   ]
  },
  {
   "cell_type": "code",
   "execution_count": 49,
   "id": "4de72692",
   "metadata": {},
   "outputs": [
    {
     "data": {
      "text/plain": [
       "dtype('float64')"
      ]
     },
     "execution_count": 49,
     "metadata": {},
     "output_type": "execute_result"
    }
   ],
   "source": [
    "# changing its datatype\n",
    "df['TournamentChampion']=pd.to_numeric(df['TournamentChampion'], errors='coerce')\n",
    "df['TournamentChampion'].dtypes"
   ]
  },
  {
   "cell_type": "code",
   "execution_count": 50,
   "id": "cf904d73",
   "metadata": {},
   "outputs": [
    {
     "data": {
      "text/plain": [
       "-     48\n",
       "1      5\n",
       "23     1\n",
       "7      1\n",
       "6      1\n",
       "5      1\n",
       "8      1\n",
       "3      1\n",
       "4      1\n",
       "25     1\n",
       "Name: Runner-up, dtype: int64"
      ]
     },
     "execution_count": 50,
     "metadata": {},
     "output_type": "execute_result"
    }
   ],
   "source": [
    "# we nowcheck for Runner-up column\n",
    "df['Runner-up'].value_counts()"
   ]
  },
  {
   "cell_type": "code",
   "execution_count": 51,
   "id": "897c9e61",
   "metadata": {},
   "outputs": [
    {
     "data": {
      "text/plain": [
       "dtype('float64')"
      ]
     },
     "execution_count": 51,
     "metadata": {},
     "output_type": "execute_result"
    }
   ],
   "source": [
    "# converting its dtype\n",
    "df['Runner-up']=pd.to_numeric(df['Runner-up'], errors='coerce')\n",
    "df['Runner-up'].dtypes"
   ]
  },
  {
   "cell_type": "code",
   "execution_count": 52,
   "id": "6d71162c",
   "metadata": {},
   "outputs": [
    {
     "data": {
      "text/plain": [
       "1929        10\n",
       "1935-36      2\n",
       "1963-64      2\n",
       "1977-78      2\n",
       "1941-42      2\n",
       "1939-40      2\n",
       "1949_50      1\n",
       "1934-35      1\n",
       "2014-15      1\n",
       "1931to32     1\n",
       "1956-57      1\n",
       "1974-75      1\n",
       "1995-96      1\n",
       "1996-97      1\n",
       "2016_17      1\n",
       "1990-91      1\n",
       "1955-56      1\n",
       "2009-10      1\n",
       "1961-62      1\n",
       "1991_92      1\n",
       "1951~52      1\n",
       "1962-63      1\n",
       "2007-08      1\n",
       "2004to05     1\n",
       "1987-88      1\n",
       "1960-61      1\n",
       "1978-79      1\n",
       "1947-48      1\n",
       "1943-44      1\n",
       "2017~18      1\n",
       "1930-31      1\n",
       "1959-60      1\n",
       "1944_45      1\n",
       "1933to34     1\n",
       "1945-46      1\n",
       "1950-51      1\n",
       "1994-95      1\n",
       "1979-80      1\n",
       "1948-49      1\n",
       "1953-54      1\n",
       "1999to00     1\n",
       "1971-72      1\n",
       "1932-33      1\n",
       "1940-41      1\n",
       "1941to42     1\n",
       "1951-52      1\n",
       "1998-99      1\n",
       "Name: TeamLaunch, dtype: int64"
      ]
     },
     "execution_count": 52,
     "metadata": {},
     "output_type": "execute_result"
    }
   ],
   "source": [
    "df['TeamLaunch'].value_counts()"
   ]
  },
  {
   "cell_type": "code",
   "execution_count": 53,
   "id": "95c17a45",
   "metadata": {},
   "outputs": [
    {
     "name": "stdout",
     "output_type": "stream",
     "text": [
      "<class 'pandas.core.frame.DataFrame'>\n",
      "RangeIndex: 61 entries, 0 to 60\n",
      "Data columns (total 13 columns):\n",
      " #   Column               Non-Null Count  Dtype  \n",
      "---  ------               --------------  -----  \n",
      " 0   Team                 61 non-null     object \n",
      " 1   Tournament           61 non-null     int64  \n",
      " 2   Score                60 non-null     float64\n",
      " 3   PlayedGames          60 non-null     float64\n",
      " 4   WonGames             60 non-null     float64\n",
      " 5   DrawnGames           60 non-null     float64\n",
      " 6   LostGames            60 non-null     float64\n",
      " 7   BasketScored         60 non-null     float64\n",
      " 8   BasketGiven          60 non-null     float64\n",
      " 9   TournamentChampion   9 non-null      float64\n",
      " 10  Runner-up            13 non-null     float64\n",
      " 11  TeamLaunch           61 non-null     object \n",
      " 12  HighestPositionHeld  61 non-null     int64  \n",
      "dtypes: float64(9), int64(2), object(2)\n",
      "memory usage: 6.3+ KB\n"
     ]
    }
   ],
   "source": [
    "# team launch is a categorical data type\n",
    "# now we again check info of columns\n",
    "df.info()"
   ]
  },
  {
   "cell_type": "markdown",
   "id": "4dcedfbd",
   "metadata": {},
   "source": [
    "### now we deal with null values\n",
    "         As it is evident from info(), there is one null value in score, playedgames\n",
    "         wongames, drawngames, lostgames, basketscored, basketgiven\n",
    " \n",
    "         There are only 9 non null values in Tournamentchampion column\n",
    "     \n",
    "         There are 13 non-null values in Runner-up column\n",
    "     "
   ]
  },
  {
   "cell_type": "code",
   "execution_count": 54,
   "id": "d7405ef2",
   "metadata": {},
   "outputs": [
    {
     "data": {
      "text/plain": [
       "Team                    0\n",
       "Tournament              0\n",
       "Score                   1\n",
       "PlayedGames             1\n",
       "WonGames                1\n",
       "DrawnGames              1\n",
       "LostGames               1\n",
       "BasketScored            1\n",
       "BasketGiven             1\n",
       "TournamentChampion     52\n",
       "Runner-up              48\n",
       "TeamLaunch              0\n",
       "HighestPositionHeld     0\n",
       "dtype: int64"
      ]
     },
     "execution_count": 54,
     "metadata": {},
     "output_type": "execute_result"
    }
   ],
   "source": [
    "df.isnull().sum()"
   ]
  },
  {
   "cell_type": "code",
   "execution_count": 55,
   "id": "75fe7ee8",
   "metadata": {},
   "outputs": [
    {
     "data": {
      "text/plain": [
       "Team                    0.000000\n",
       "Tournament              0.000000\n",
       "Score                   1.639344\n",
       "PlayedGames             1.639344\n",
       "WonGames                1.639344\n",
       "DrawnGames              1.639344\n",
       "LostGames               1.639344\n",
       "BasketScored            1.639344\n",
       "BasketGiven             1.639344\n",
       "TournamentChampion     85.245902\n",
       "Runner-up              78.688525\n",
       "TeamLaunch              0.000000\n",
       "HighestPositionHeld     0.000000\n",
       "dtype: float64"
      ]
     },
     "execution_count": 55,
     "metadata": {},
     "output_type": "execute_result"
    }
   ],
   "source": [
    "(df.isnull().sum())/len(df)*100"
   ]
  },
  {
   "cell_type": "markdown",
   "id": "92ce0c71",
   "metadata": {},
   "source": [
    "### Replacing the null values with np.NaN "
   ]
  },
  {
   "cell_type": "code",
   "execution_count": 56,
   "id": "a1c178b3",
   "metadata": {},
   "outputs": [
    {
     "data": {
      "text/html": [
       "<div>\n",
       "<style scoped>\n",
       "    .dataframe tbody tr th:only-of-type {\n",
       "        vertical-align: middle;\n",
       "    }\n",
       "\n",
       "    .dataframe tbody tr th {\n",
       "        vertical-align: top;\n",
       "    }\n",
       "\n",
       "    .dataframe thead th {\n",
       "        text-align: right;\n",
       "    }\n",
       "</style>\n",
       "<table border=\"1\" class=\"dataframe\">\n",
       "  <thead>\n",
       "    <tr style=\"text-align: right;\">\n",
       "      <th></th>\n",
       "      <th>Team</th>\n",
       "      <th>Tournament</th>\n",
       "      <th>Score</th>\n",
       "      <th>PlayedGames</th>\n",
       "      <th>WonGames</th>\n",
       "      <th>DrawnGames</th>\n",
       "      <th>LostGames</th>\n",
       "      <th>BasketScored</th>\n",
       "      <th>BasketGiven</th>\n",
       "      <th>TournamentChampion</th>\n",
       "      <th>Runner-up</th>\n",
       "      <th>TeamLaunch</th>\n",
       "      <th>HighestPositionHeld</th>\n",
       "    </tr>\n",
       "  </thead>\n",
       "  <tbody>\n",
       "    <tr>\n",
       "      <th>0</th>\n",
       "      <td>Team 1</td>\n",
       "      <td>86</td>\n",
       "      <td>4385.0</td>\n",
       "      <td>2762.0</td>\n",
       "      <td>1647.0</td>\n",
       "      <td>552.0</td>\n",
       "      <td>563.0</td>\n",
       "      <td>5947.0</td>\n",
       "      <td>3140.0</td>\n",
       "      <td>33.0</td>\n",
       "      <td>23.0</td>\n",
       "      <td>1929</td>\n",
       "      <td>1</td>\n",
       "    </tr>\n",
       "    <tr>\n",
       "      <th>1</th>\n",
       "      <td>Team 2</td>\n",
       "      <td>86</td>\n",
       "      <td>4262.0</td>\n",
       "      <td>2762.0</td>\n",
       "      <td>1581.0</td>\n",
       "      <td>573.0</td>\n",
       "      <td>608.0</td>\n",
       "      <td>5900.0</td>\n",
       "      <td>3114.0</td>\n",
       "      <td>25.0</td>\n",
       "      <td>25.0</td>\n",
       "      <td>1929</td>\n",
       "      <td>1</td>\n",
       "    </tr>\n",
       "    <tr>\n",
       "      <th>2</th>\n",
       "      <td>Team 3</td>\n",
       "      <td>80</td>\n",
       "      <td>3442.0</td>\n",
       "      <td>2614.0</td>\n",
       "      <td>1241.0</td>\n",
       "      <td>598.0</td>\n",
       "      <td>775.0</td>\n",
       "      <td>4534.0</td>\n",
       "      <td>3309.0</td>\n",
       "      <td>10.0</td>\n",
       "      <td>8.0</td>\n",
       "      <td>1929</td>\n",
       "      <td>1</td>\n",
       "    </tr>\n",
       "    <tr>\n",
       "      <th>3</th>\n",
       "      <td>Team 4</td>\n",
       "      <td>82</td>\n",
       "      <td>3386.0</td>\n",
       "      <td>2664.0</td>\n",
       "      <td>1187.0</td>\n",
       "      <td>616.0</td>\n",
       "      <td>861.0</td>\n",
       "      <td>4398.0</td>\n",
       "      <td>3469.0</td>\n",
       "      <td>6.0</td>\n",
       "      <td>6.0</td>\n",
       "      <td>1931to32</td>\n",
       "      <td>1</td>\n",
       "    </tr>\n",
       "    <tr>\n",
       "      <th>4</th>\n",
       "      <td>Team 5</td>\n",
       "      <td>86</td>\n",
       "      <td>3368.0</td>\n",
       "      <td>2762.0</td>\n",
       "      <td>1209.0</td>\n",
       "      <td>633.0</td>\n",
       "      <td>920.0</td>\n",
       "      <td>4631.0</td>\n",
       "      <td>3700.0</td>\n",
       "      <td>8.0</td>\n",
       "      <td>7.0</td>\n",
       "      <td>1929</td>\n",
       "      <td>1</td>\n",
       "    </tr>\n",
       "    <tr>\n",
       "      <th>...</th>\n",
       "      <td>...</td>\n",
       "      <td>...</td>\n",
       "      <td>...</td>\n",
       "      <td>...</td>\n",
       "      <td>...</td>\n",
       "      <td>...</td>\n",
       "      <td>...</td>\n",
       "      <td>...</td>\n",
       "      <td>...</td>\n",
       "      <td>...</td>\n",
       "      <td>...</td>\n",
       "      <td>...</td>\n",
       "      <td>...</td>\n",
       "    </tr>\n",
       "    <tr>\n",
       "      <th>56</th>\n",
       "      <td>Team 57</td>\n",
       "      <td>1</td>\n",
       "      <td>34.0</td>\n",
       "      <td>38.0</td>\n",
       "      <td>8.0</td>\n",
       "      <td>10.0</td>\n",
       "      <td>20.0</td>\n",
       "      <td>38.0</td>\n",
       "      <td>66.0</td>\n",
       "      <td>NaN</td>\n",
       "      <td>NaN</td>\n",
       "      <td>2009-10</td>\n",
       "      <td>20</td>\n",
       "    </tr>\n",
       "    <tr>\n",
       "      <th>57</th>\n",
       "      <td>Team 58</td>\n",
       "      <td>1</td>\n",
       "      <td>22.0</td>\n",
       "      <td>30.0</td>\n",
       "      <td>7.0</td>\n",
       "      <td>8.0</td>\n",
       "      <td>15.0</td>\n",
       "      <td>37.0</td>\n",
       "      <td>57.0</td>\n",
       "      <td>NaN</td>\n",
       "      <td>NaN</td>\n",
       "      <td>1956-57</td>\n",
       "      <td>16</td>\n",
       "    </tr>\n",
       "    <tr>\n",
       "      <th>58</th>\n",
       "      <td>Team 59</td>\n",
       "      <td>1</td>\n",
       "      <td>19.0</td>\n",
       "      <td>30.0</td>\n",
       "      <td>7.0</td>\n",
       "      <td>5.0</td>\n",
       "      <td>18.0</td>\n",
       "      <td>51.0</td>\n",
       "      <td>85.0</td>\n",
       "      <td>NaN</td>\n",
       "      <td>NaN</td>\n",
       "      <td>1951~52</td>\n",
       "      <td>16</td>\n",
       "    </tr>\n",
       "    <tr>\n",
       "      <th>59</th>\n",
       "      <td>Team 60</td>\n",
       "      <td>1</td>\n",
       "      <td>14.0</td>\n",
       "      <td>30.0</td>\n",
       "      <td>5.0</td>\n",
       "      <td>4.0</td>\n",
       "      <td>21.0</td>\n",
       "      <td>34.0</td>\n",
       "      <td>65.0</td>\n",
       "      <td>NaN</td>\n",
       "      <td>NaN</td>\n",
       "      <td>1955-56</td>\n",
       "      <td>15</td>\n",
       "    </tr>\n",
       "    <tr>\n",
       "      <th>60</th>\n",
       "      <td>Team 61</td>\n",
       "      <td>1</td>\n",
       "      <td>NaN</td>\n",
       "      <td>NaN</td>\n",
       "      <td>NaN</td>\n",
       "      <td>NaN</td>\n",
       "      <td>NaN</td>\n",
       "      <td>NaN</td>\n",
       "      <td>NaN</td>\n",
       "      <td>NaN</td>\n",
       "      <td>NaN</td>\n",
       "      <td>2017~18</td>\n",
       "      <td>9</td>\n",
       "    </tr>\n",
       "  </tbody>\n",
       "</table>\n",
       "<p>61 rows × 13 columns</p>\n",
       "</div>"
      ],
      "text/plain": [
       "       Team  Tournament   Score  PlayedGames  WonGames  DrawnGames  LostGames  \\\n",
       "0    Team 1          86  4385.0       2762.0    1647.0       552.0      563.0   \n",
       "1    Team 2          86  4262.0       2762.0    1581.0       573.0      608.0   \n",
       "2    Team 3          80  3442.0       2614.0    1241.0       598.0      775.0   \n",
       "3    Team 4          82  3386.0       2664.0    1187.0       616.0      861.0   \n",
       "4    Team 5          86  3368.0       2762.0    1209.0       633.0      920.0   \n",
       "..      ...         ...     ...          ...       ...         ...        ...   \n",
       "56  Team 57           1    34.0         38.0       8.0        10.0       20.0   \n",
       "57  Team 58           1    22.0         30.0       7.0         8.0       15.0   \n",
       "58  Team 59           1    19.0         30.0       7.0         5.0       18.0   \n",
       "59  Team 60           1    14.0         30.0       5.0         4.0       21.0   \n",
       "60  Team 61           1     NaN          NaN       NaN         NaN        NaN   \n",
       "\n",
       "    BasketScored  BasketGiven  TournamentChampion  Runner-up TeamLaunch  \\\n",
       "0         5947.0       3140.0                33.0       23.0       1929   \n",
       "1         5900.0       3114.0                25.0       25.0       1929   \n",
       "2         4534.0       3309.0                10.0        8.0       1929   \n",
       "3         4398.0       3469.0                 6.0        6.0   1931to32   \n",
       "4         4631.0       3700.0                 8.0        7.0       1929   \n",
       "..           ...          ...                 ...        ...        ...   \n",
       "56          38.0         66.0                 NaN        NaN    2009-10   \n",
       "57          37.0         57.0                 NaN        NaN    1956-57   \n",
       "58          51.0         85.0                 NaN        NaN    1951~52   \n",
       "59          34.0         65.0                 NaN        NaN    1955-56   \n",
       "60           NaN          NaN                 NaN        NaN    2017~18   \n",
       "\n",
       "    HighestPositionHeld  \n",
       "0                     1  \n",
       "1                     1  \n",
       "2                     1  \n",
       "3                     1  \n",
       "4                     1  \n",
       "..                  ...  \n",
       "56                   20  \n",
       "57                   16  \n",
       "58                   16  \n",
       "59                   15  \n",
       "60                    9  \n",
       "\n",
       "[61 rows x 13 columns]"
      ]
     },
     "execution_count": 56,
     "metadata": {},
     "output_type": "execute_result"
    }
   ],
   "source": [
    "df.replace(to_replace= 'NaN', value= np.NaN)"
   ]
  },
  {
   "cell_type": "code",
   "execution_count": 57,
   "id": "52d11f90",
   "metadata": {},
   "outputs": [
    {
     "data": {
      "text/html": [
       "<div>\n",
       "<style scoped>\n",
       "    .dataframe tbody tr th:only-of-type {\n",
       "        vertical-align: middle;\n",
       "    }\n",
       "\n",
       "    .dataframe tbody tr th {\n",
       "        vertical-align: top;\n",
       "    }\n",
       "\n",
       "    .dataframe thead th {\n",
       "        text-align: right;\n",
       "    }\n",
       "</style>\n",
       "<table border=\"1\" class=\"dataframe\">\n",
       "  <thead>\n",
       "    <tr style=\"text-align: right;\">\n",
       "      <th></th>\n",
       "      <th>Tournament</th>\n",
       "      <th>Score</th>\n",
       "      <th>PlayedGames</th>\n",
       "      <th>WonGames</th>\n",
       "      <th>DrawnGames</th>\n",
       "      <th>LostGames</th>\n",
       "      <th>BasketScored</th>\n",
       "      <th>BasketGiven</th>\n",
       "      <th>TournamentChampion</th>\n",
       "      <th>Runner-up</th>\n",
       "      <th>HighestPositionHeld</th>\n",
       "    </tr>\n",
       "  </thead>\n",
       "  <tbody>\n",
       "    <tr>\n",
       "      <th>count</th>\n",
       "      <td>61.000000</td>\n",
       "      <td>60.000000</td>\n",
       "      <td>60.000000</td>\n",
       "      <td>60.000000</td>\n",
       "      <td>60.000000</td>\n",
       "      <td>60.000000</td>\n",
       "      <td>60.000000</td>\n",
       "      <td>60.000000</td>\n",
       "      <td>9.000000</td>\n",
       "      <td>13.000000</td>\n",
       "      <td>61.000000</td>\n",
       "    </tr>\n",
       "    <tr>\n",
       "      <th>mean</th>\n",
       "      <td>24.000000</td>\n",
       "      <td>916.450000</td>\n",
       "      <td>810.100000</td>\n",
       "      <td>309.033333</td>\n",
       "      <td>192.083333</td>\n",
       "      <td>308.816667</td>\n",
       "      <td>1159.350000</td>\n",
       "      <td>1159.233333</td>\n",
       "      <td>9.666667</td>\n",
       "      <td>6.615385</td>\n",
       "      <td>7.081967</td>\n",
       "    </tr>\n",
       "    <tr>\n",
       "      <th>std</th>\n",
       "      <td>26.827225</td>\n",
       "      <td>1138.342899</td>\n",
       "      <td>877.465393</td>\n",
       "      <td>408.481395</td>\n",
       "      <td>201.985508</td>\n",
       "      <td>294.508639</td>\n",
       "      <td>1512.063948</td>\n",
       "      <td>1163.946914</td>\n",
       "      <td>11.618950</td>\n",
       "      <td>8.109033</td>\n",
       "      <td>5.276663</td>\n",
       "    </tr>\n",
       "    <tr>\n",
       "      <th>min</th>\n",
       "      <td>1.000000</td>\n",
       "      <td>14.000000</td>\n",
       "      <td>30.000000</td>\n",
       "      <td>5.000000</td>\n",
       "      <td>4.000000</td>\n",
       "      <td>15.000000</td>\n",
       "      <td>34.000000</td>\n",
       "      <td>55.000000</td>\n",
       "      <td>1.000000</td>\n",
       "      <td>1.000000</td>\n",
       "      <td>1.000000</td>\n",
       "    </tr>\n",
       "    <tr>\n",
       "      <th>25%</th>\n",
       "      <td>4.000000</td>\n",
       "      <td>104.250000</td>\n",
       "      <td>115.500000</td>\n",
       "      <td>34.750000</td>\n",
       "      <td>26.250000</td>\n",
       "      <td>62.750000</td>\n",
       "      <td>154.500000</td>\n",
       "      <td>236.000000</td>\n",
       "      <td>1.000000</td>\n",
       "      <td>1.000000</td>\n",
       "      <td>3.000000</td>\n",
       "    </tr>\n",
       "    <tr>\n",
       "      <th>50%</th>\n",
       "      <td>12.000000</td>\n",
       "      <td>395.500000</td>\n",
       "      <td>424.500000</td>\n",
       "      <td>124.000000</td>\n",
       "      <td>98.500000</td>\n",
       "      <td>197.500000</td>\n",
       "      <td>444.000000</td>\n",
       "      <td>632.500000</td>\n",
       "      <td>6.000000</td>\n",
       "      <td>4.000000</td>\n",
       "      <td>6.000000</td>\n",
       "    </tr>\n",
       "    <tr>\n",
       "      <th>75%</th>\n",
       "      <td>38.000000</td>\n",
       "      <td>1360.500000</td>\n",
       "      <td>1345.500000</td>\n",
       "      <td>432.750000</td>\n",
       "      <td>331.500000</td>\n",
       "      <td>563.500000</td>\n",
       "      <td>1669.750000</td>\n",
       "      <td>2001.250000</td>\n",
       "      <td>10.000000</td>\n",
       "      <td>7.000000</td>\n",
       "      <td>10.000000</td>\n",
       "    </tr>\n",
       "    <tr>\n",
       "      <th>max</th>\n",
       "      <td>86.000000</td>\n",
       "      <td>4385.000000</td>\n",
       "      <td>2762.000000</td>\n",
       "      <td>1647.000000</td>\n",
       "      <td>633.000000</td>\n",
       "      <td>1070.000000</td>\n",
       "      <td>5947.000000</td>\n",
       "      <td>3889.000000</td>\n",
       "      <td>33.000000</td>\n",
       "      <td>25.000000</td>\n",
       "      <td>20.000000</td>\n",
       "    </tr>\n",
       "  </tbody>\n",
       "</table>\n",
       "</div>"
      ],
      "text/plain": [
       "       Tournament        Score  PlayedGames     WonGames  DrawnGames  \\\n",
       "count   61.000000    60.000000    60.000000    60.000000   60.000000   \n",
       "mean    24.000000   916.450000   810.100000   309.033333  192.083333   \n",
       "std     26.827225  1138.342899   877.465393   408.481395  201.985508   \n",
       "min      1.000000    14.000000    30.000000     5.000000    4.000000   \n",
       "25%      4.000000   104.250000   115.500000    34.750000   26.250000   \n",
       "50%     12.000000   395.500000   424.500000   124.000000   98.500000   \n",
       "75%     38.000000  1360.500000  1345.500000   432.750000  331.500000   \n",
       "max     86.000000  4385.000000  2762.000000  1647.000000  633.000000   \n",
       "\n",
       "         LostGames  BasketScored  BasketGiven  TournamentChampion  Runner-up  \\\n",
       "count    60.000000     60.000000    60.000000            9.000000  13.000000   \n",
       "mean    308.816667   1159.350000  1159.233333            9.666667   6.615385   \n",
       "std     294.508639   1512.063948  1163.946914           11.618950   8.109033   \n",
       "min      15.000000     34.000000    55.000000            1.000000   1.000000   \n",
       "25%      62.750000    154.500000   236.000000            1.000000   1.000000   \n",
       "50%     197.500000    444.000000   632.500000            6.000000   4.000000   \n",
       "75%     563.500000   1669.750000  2001.250000           10.000000   7.000000   \n",
       "max    1070.000000   5947.000000  3889.000000           33.000000  25.000000   \n",
       "\n",
       "       HighestPositionHeld  \n",
       "count            61.000000  \n",
       "mean              7.081967  \n",
       "std               5.276663  \n",
       "min               1.000000  \n",
       "25%               3.000000  \n",
       "50%               6.000000  \n",
       "75%              10.000000  \n",
       "max              20.000000  "
      ]
     },
     "execution_count": 57,
     "metadata": {},
     "output_type": "execute_result"
    }
   ],
   "source": [
    "df.describe()"
   ]
  },
  {
   "cell_type": "code",
   "execution_count": null,
   "id": "5072ffbb",
   "metadata": {},
   "outputs": [],
   "source": []
  },
  {
   "cell_type": "markdown",
   "id": "d55b9cb5",
   "metadata": {},
   "source": [
    "### We check for duplicate entries if any"
   ]
  },
  {
   "cell_type": "code",
   "execution_count": 58,
   "id": "e11e3afb",
   "metadata": {},
   "outputs": [
    {
     "data": {
      "text/plain": [
       "False"
      ]
     },
     "execution_count": 58,
     "metadata": {},
     "output_type": "execute_result"
    }
   ],
   "source": [
    "df.duplicated().any()"
   ]
  },
  {
   "cell_type": "markdown",
   "id": "34ffbe8e",
   "metadata": {},
   "source": [
    "### No duplicates entry in the dataset"
   ]
  },
  {
   "cell_type": "code",
   "execution_count": 59,
   "id": "56dd8f78",
   "metadata": {},
   "outputs": [
    {
     "data": {
      "text/plain": [
       "Index(['Team', 'Tournament', 'Score', 'PlayedGames', 'WonGames', 'DrawnGames',\n",
       "       'LostGames', 'BasketScored', 'BasketGiven', 'TournamentChampion',\n",
       "       'Runner-up', 'TeamLaunch', 'HighestPositionHeld'],\n",
       "      dtype='object')"
      ]
     },
     "execution_count": 59,
     "metadata": {},
     "output_type": "execute_result"
    }
   ],
   "source": [
    "df.columns"
   ]
  },
  {
   "cell_type": "markdown",
   "id": "866c4b78",
   "metadata": {},
   "source": [
    "### Univariate Analysis"
   ]
  },
  {
   "cell_type": "code",
   "execution_count": 60,
   "id": "fb201961",
   "metadata": {},
   "outputs": [
    {
     "name": "stderr",
     "output_type": "stream",
     "text": [
      "C:\\Users\\KUMUD .LAPTOP-S0T3F3O8\\anaconda3\\lib\\site-packages\\seaborn\\distributions.py:2557: FutureWarning: `distplot` is a deprecated function and will be removed in a future version. Please adapt your code to use either `displot` (a figure-level function with similar flexibility) or `histplot` (an axes-level function for histograms).\n",
      "  warnings.warn(msg, FutureWarning)\n"
     ]
    },
    {
     "data": {
      "image/png": "[encoded data removed]",
      "text/plain": [
       "<Figure size 432x288 with 1 Axes>"
      ]
     },
     "metadata": {
      "needs_background": "light"
     },
     "output_type": "display_data"
    }
   ],
   "source": [
    "#distplot of Tournament \n",
    "sns.distplot(df['Tournament'], color='r')\n",
    "plt.show()"
   ]
  },
  {
   "cell_type": "code",
   "execution_count": 61,
   "id": "728c1765",
   "metadata": {},
   "outputs": [
    {
     "data": {
      "text/plain": [
       "<AxesSubplot:ylabel='Tournament'>"
      ]
     },
     "execution_count": 61,
     "metadata": {},
     "output_type": "execute_result"
    },
    {
     "data": {
      "image/png": "[encoded data removed]",
      "text/plain": [
       "<Figure size 432x288 with 1 Axes>"
      ]
     },
     "metadata": {
      "needs_background": "light"
     },
     "output_type": "display_data"
    }
   ],
   "source": [
    "sns.boxplot(y= df['Tournament'])"
   ]
  },
  {
   "cell_type": "code",
   "execution_count": 62,
   "id": "1c2a4d98",
   "metadata": {},
   "outputs": [
    {
     "name": "stderr",
     "output_type": "stream",
     "text": [
      "C:\\Users\\KUMUD .LAPTOP-S0T3F3O8\\anaconda3\\lib\\site-packages\\seaborn\\distributions.py:2557: FutureWarning: `distplot` is a deprecated function and will be removed in a future version. Please adapt your code to use either `displot` (a figure-level function with similar flexibility) or `histplot` (an axes-level function for histograms).\n",
      "  warnings.warn(msg, FutureWarning)\n"
     ]
    },
    {
     "data": {
      "image/png": "[encoded data removed]",
      "text/plain": [
       "<Figure size 432x288 with 1 Axes>"
      ]
     },
     "metadata": {
      "needs_background": "light"
     },
     "output_type": "display_data"
    }
   ],
   "source": [
    "# score histogram\n",
    "sns.distplot(df['Score'], color='g')\n",
    "plt.show()"
   ]
  },
  {
   "cell_type": "code",
   "execution_count": 63,
   "id": "102676a3",
   "metadata": {},
   "outputs": [
    {
     "data": {
      "image/png": "[encoded data removed]",
      "text/plain": [
       "<Figure size 432x288 with 1 Axes>"
      ]
     },
     "metadata": {
      "needs_background": "light"
     },
     "output_type": "display_data"
    }
   ],
   "source": [
    "\n",
    "sns.boxplot(y=df['Score'])\n",
    "plt.show()"
   ]
  },
  {
   "cell_type": "code",
   "execution_count": 64,
   "id": "7920d50f",
   "metadata": {},
   "outputs": [
    {
     "name": "stderr",
     "output_type": "stream",
     "text": [
      "C:\\Users\\KUMUD .LAPTOP-S0T3F3O8\\anaconda3\\lib\\site-packages\\seaborn\\distributions.py:2557: FutureWarning: `distplot` is a deprecated function and will be removed in a future version. Please adapt your code to use either `displot` (a figure-level function with similar flexibility) or `histplot` (an axes-level function for histograms).\n",
      "  warnings.warn(msg, FutureWarning)\n"
     ]
    },
    {
     "data": {
      "image/png": "[encoded data removed]",
      "text/plain": [
       "<Figure size 432x288 with 1 Axes>"
      ]
     },
     "metadata": {
      "needs_background": "light"
     },
     "output_type": "display_data"
    }
   ],
   "source": [
    "# Played games\n",
    "sns.distplot(df['PlayedGames'], color='magenta')\n",
    "plt.show()"
   ]
  },
  {
   "cell_type": "code",
   "execution_count": 65,
   "id": "bd09f158",
   "metadata": {},
   "outputs": [
    {
     "data": {
      "image/png": "[encoded data removed]",
      "text/plain": [
       "<Figure size 576x576 with 1 Axes>"
      ]
     },
     "metadata": {
      "needs_background": "light"
     },
     "output_type": "display_data"
    }
   ],
   "source": [
    "plt.figure(figsize=[8,8])\n",
    "sns.boxplot(y= df['PlayedGames'])\n",
    "plt.show()"
   ]
  },
  {
   "cell_type": "code",
   "execution_count": 66,
   "id": "db9ff9b5",
   "metadata": {},
   "outputs": [
    {
     "name": "stderr",
     "output_type": "stream",
     "text": [
      "C:\\Users\\KUMUD .LAPTOP-S0T3F3O8\\anaconda3\\lib\\site-packages\\seaborn\\distributions.py:2557: FutureWarning: `distplot` is a deprecated function and will be removed in a future version. Please adapt your code to use either `displot` (a figure-level function with similar flexibility) or `histplot` (an axes-level function for histograms).\n",
      "  warnings.warn(msg, FutureWarning)\n"
     ]
    },
    {
     "data": {
      "image/png": "[encoded data removed]",
      "text/plain": [
       "<Figure size 432x288 with 1 Axes>"
      ]
     },
     "metadata": {
      "needs_background": "light"
     },
     "output_type": "display_data"
    }
   ],
   "source": [
    "# won games\n",
    "sns.distplot(df['WonGames'], color='r')\n",
    "plt.show()"
   ]
  },
  {
   "cell_type": "code",
   "execution_count": 67,
   "id": "49e47aba",
   "metadata": {},
   "outputs": [
    {
     "data": {
      "image/png": "[encoded data removed]",
      "text/plain": [
       "<Figure size 576x576 with 1 Axes>"
      ]
     },
     "metadata": {
      "needs_background": "light"
     },
     "output_type": "display_data"
    }
   ],
   "source": [
    "plt.figure(figsize=[8,8])\n",
    "sns.boxplot(y= df['WonGames'])\n",
    "plt.show()"
   ]
  },
  {
   "cell_type": "code",
   "execution_count": 68,
   "id": "3c95ae5e",
   "metadata": {},
   "outputs": [
    {
     "name": "stderr",
     "output_type": "stream",
     "text": [
      "C:\\Users\\KUMUD .LAPTOP-S0T3F3O8\\anaconda3\\lib\\site-packages\\seaborn\\distributions.py:2557: FutureWarning: `distplot` is a deprecated function and will be removed in a future version. Please adapt your code to use either `displot` (a figure-level function with similar flexibility) or `histplot` (an axes-level function for histograms).\n",
      "  warnings.warn(msg, FutureWarning)\n"
     ]
    },
    {
     "data": {
      "image/png": "[encoded data removed]",
      "text/plain": [
       "<Figure size 432x288 with 1 Axes>"
      ]
     },
     "metadata": {
      "needs_background": "light"
     },
     "output_type": "display_data"
    }
   ],
   "source": [
    "sns.distplot(df['DrawnGames'], color='r')\n",
    "plt.show()"
   ]
  },
  {
   "cell_type": "code",
   "execution_count": 69,
   "id": "2f07c6ce",
   "metadata": {},
   "outputs": [
    {
     "data": {
      "image/png": "[encoded data removed]",
      "text/plain": [
       "<Figure size 432x288 with 1 Axes>"
      ]
     },
     "metadata": {
      "needs_background": "light"
     },
     "output_type": "display_data"
    }
   ],
   "source": [
    "\n",
    "sns.boxplot(y= df['DrawnGames'])\n",
    "plt.show()"
   ]
  },
  {
   "cell_type": "code",
   "execution_count": 70,
   "id": "e255ac2e",
   "metadata": {},
   "outputs": [
    {
     "name": "stderr",
     "output_type": "stream",
     "text": [
      "C:\\Users\\KUMUD .LAPTOP-S0T3F3O8\\anaconda3\\lib\\site-packages\\seaborn\\distributions.py:2557: FutureWarning: `distplot` is a deprecated function and will be removed in a future version. Please adapt your code to use either `displot` (a figure-level function with similar flexibility) or `histplot` (an axes-level function for histograms).\n",
      "  warnings.warn(msg, FutureWarning)\n"
     ]
    },
    {
     "data": {
      "image/png": "[encoded data removed]",
      "text/plain": [
       "<Figure size 432x288 with 1 Axes>"
      ]
     },
     "metadata": {
      "needs_background": "light"
     },
     "output_type": "display_data"
    }
   ],
   "source": [
    "sns.distplot(df['LostGames'], color='r')\n",
    "plt.show()"
   ]
  },
  {
   "cell_type": "code",
   "execution_count": 71,
   "id": "169f7979",
   "metadata": {},
   "outputs": [
    {
     "data": {
      "image/png": "[encoded data removed]",
      "text/plain": [
       "<Figure size 432x288 with 1 Axes>"
      ]
     },
     "metadata": {
      "needs_background": "light"
     },
     "output_type": "display_data"
    }
   ],
   "source": [
    "sns.boxplot(y= df['LostGames'])\n",
    "plt.show()"
   ]
  },
  {
   "cell_type": "code",
   "execution_count": 72,
   "id": "aa638d64",
   "metadata": {},
   "outputs": [
    {
     "name": "stderr",
     "output_type": "stream",
     "text": [
      "C:\\Users\\KUMUD .LAPTOP-S0T3F3O8\\anaconda3\\lib\\site-packages\\seaborn\\distributions.py:2557: FutureWarning: `distplot` is a deprecated function and will be removed in a future version. Please adapt your code to use either `displot` (a figure-level function with similar flexibility) or `histplot` (an axes-level function for histograms).\n",
      "  warnings.warn(msg, FutureWarning)\n"
     ]
    },
    {
     "data": {
      "image/png": "[encoded data removed]",
      "text/plain": [
       "<Figure size 432x288 with 1 Axes>"
      ]
     },
     "metadata": {
      "needs_background": "light"
     },
     "output_type": "display_data"
    }
   ],
   "source": [
    "sns.distplot(df['BasketScored'], color='r')\n",
    "plt.show()"
   ]
  },
  {
   "cell_type": "code",
   "execution_count": 73,
   "id": "2cdce05e",
   "metadata": {},
   "outputs": [
    {
     "data": {
      "image/png": "[encoded data removed]",
      "text/plain": [
       "<Figure size 432x288 with 1 Axes>"
      ]
     },
     "metadata": {
      "needs_background": "light"
     },
     "output_type": "display_data"
    }
   ],
   "source": [
    "sns.boxplot(y= df['BasketScored'])\n",
    "plt.show()"
   ]
  },
  {
   "cell_type": "code",
   "execution_count": 74,
   "id": "13ed9a99",
   "metadata": {},
   "outputs": [
    {
     "name": "stderr",
     "output_type": "stream",
     "text": [
      "C:\\Users\\KUMUD .LAPTOP-S0T3F3O8\\anaconda3\\lib\\site-packages\\seaborn\\distributions.py:2557: FutureWarning: `distplot` is a deprecated function and will be removed in a future version. Please adapt your code to use either `displot` (a figure-level function with similar flexibility) or `histplot` (an axes-level function for histograms).\n",
      "  warnings.warn(msg, FutureWarning)\n"
     ]
    },
    {
     "data": {
      "image/png": "[encoded data removed]",
      "text/plain": [
       "<Figure size 432x288 with 1 Axes>"
      ]
     },
     "metadata": {
      "needs_background": "light"
     },
     "output_type": "display_data"
    }
   ],
   "source": [
    "sns.distplot(df['BasketGiven'], color='r')\n",
    "plt.show()"
   ]
  },
  {
   "cell_type": "code",
   "execution_count": 75,
   "id": "b6088473",
   "metadata": {},
   "outputs": [
    {
     "data": {
      "image/png": "[encoded data removed]",
      "text/plain": [
       "<Figure size 432x288 with 1 Axes>"
      ]
     },
     "metadata": {
      "needs_background": "light"
     },
     "output_type": "display_data"
    }
   ],
   "source": [
    "sns.boxplot(y= df['BasketGiven'])\n",
    "plt.show()"
   ]
  },
  {
   "cell_type": "code",
   "execution_count": 76,
   "id": "ac58d49c",
   "metadata": {},
   "outputs": [
    {
     "name": "stderr",
     "output_type": "stream",
     "text": [
      "C:\\Users\\KUMUD .LAPTOP-S0T3F3O8\\anaconda3\\lib\\site-packages\\seaborn\\distributions.py:2557: FutureWarning: `distplot` is a deprecated function and will be removed in a future version. Please adapt your code to use either `displot` (a figure-level function with similar flexibility) or `histplot` (an axes-level function for histograms).\n",
      "  warnings.warn(msg, FutureWarning)\n"
     ]
    },
    {
     "data": {
      "image/png": "[encoded data removed]",
      "text/plain": [
       "<Figure size 432x288 with 1 Axes>"
      ]
     },
     "metadata": {
      "needs_background": "light"
     },
     "output_type": "display_data"
    }
   ],
   "source": [
    "sns.distplot(df['Runner-up'], color='r')\n",
    "plt.show()"
   ]
  },
  {
   "cell_type": "code",
   "execution_count": 77,
   "id": "a50d8299",
   "metadata": {},
   "outputs": [
    {
     "data": {
      "image/png": "[encoded data removed]",
      "text/plain": [
       "<Figure size 432x288 with 1 Axes>"
      ]
     },
     "metadata": {
      "needs_background": "light"
     },
     "output_type": "display_data"
    }
   ],
   "source": [
    "sns.boxplot(y= df['Runner-up'])\n",
    "plt.show()"
   ]
  },
  {
   "cell_type": "code",
   "execution_count": 78,
   "id": "6347c0c2",
   "metadata": {},
   "outputs": [
    {
     "name": "stderr",
     "output_type": "stream",
     "text": [
      "C:\\Users\\KUMUD .LAPTOP-S0T3F3O8\\anaconda3\\lib\\site-packages\\seaborn\\distributions.py:2557: FutureWarning: `distplot` is a deprecated function and will be removed in a future version. Please adapt your code to use either `displot` (a figure-level function with similar flexibility) or `histplot` (an axes-level function for histograms).\n",
      "  warnings.warn(msg, FutureWarning)\n"
     ]
    },
    {
     "data": {
      "image/png": "[encoded data removed]",
      "text/plain": [
       "<Figure size 432x288 with 1 Axes>"
      ]
     },
     "metadata": {
      "needs_background": "light"
     },
     "output_type": "display_data"
    }
   ],
   "source": [
    "sns.distplot(df['HighestPositionHeld'], color='r')\n",
    "plt.show()"
   ]
  },
  {
   "cell_type": "code",
   "execution_count": 79,
   "id": "7469f8d2",
   "metadata": {},
   "outputs": [
    {
     "data": {
      "image/png": "[encoded data removed]",
      "text/plain": [
       "<Figure size 432x288 with 1 Axes>"
      ]
     },
     "metadata": {
      "needs_background": "light"
     },
     "output_type": "display_data"
    }
   ],
   "source": [
    "sns.boxplot(y= df['HighestPositionHeld'])\n",
    "plt.show()"
   ]
  },
  {
   "cell_type": "code",
   "execution_count": 80,
   "id": "e887b709",
   "metadata": {},
   "outputs": [
    {
     "data": {
      "text/plain": [
       "Index(['Team', 'Tournament', 'Score', 'PlayedGames', 'WonGames', 'DrawnGames',\n",
       "       'LostGames', 'BasketScored', 'BasketGiven', 'TournamentChampion',\n",
       "       'Runner-up', 'TeamLaunch', 'HighestPositionHeld'],\n",
       "      dtype='object')"
      ]
     },
     "execution_count": 80,
     "metadata": {},
     "output_type": "execute_result"
    }
   ],
   "source": [
    "df.columns"
   ]
  },
  {
   "cell_type": "code",
   "execution_count": 81,
   "id": "e3cb809e",
   "metadata": {},
   "outputs": [
    {
     "name": "stderr",
     "output_type": "stream",
     "text": [
      "C:\\Users\\KUMUD .LAPTOP-S0T3F3O8\\anaconda3\\lib\\site-packages\\seaborn\\distributions.py:2557: FutureWarning: `distplot` is a deprecated function and will be removed in a future version. Please adapt your code to use either `displot` (a figure-level function with similar flexibility) or `histplot` (an axes-level function for histograms).\n",
      "  warnings.warn(msg, FutureWarning)\n"
     ]
    },
    {
     "data": {
      "image/png": "[encoded data removed]",
      "text/plain": [
       "<Figure size 432x288 with 1 Axes>"
      ]
     },
     "metadata": {
      "needs_background": "light"
     },
     "output_type": "display_data"
    }
   ],
   "source": [
    "sns.distplot(df['TournamentChampion'])\n",
    "plt.show()"
   ]
  },
  {
   "cell_type": "code",
   "execution_count": 82,
   "id": "99776e2a",
   "metadata": {},
   "outputs": [
    {
     "data": {
      "image/png": "[encoded data removed]",
      "text/plain": [
       "<Figure size 432x288 with 1 Axes>"
      ]
     },
     "metadata": {
      "needs_background": "light"
     },
     "output_type": "display_data"
    }
   ],
   "source": [
    "\n",
    "sns.boxplot(y= df['TournamentChampion'])\n",
    "plt.show()"
   ]
  },
  {
   "cell_type": "markdown",
   "id": "4445c92a",
   "metadata": {},
   "source": [
    "### Univariate Analysis summary:\n"
   ]
  },
  {
   "cell_type": "raw",
   "id": "7586fc50",
   "metadata": {},
   "source": [
    "* The distribution of numeric columns is not normal but positively skewed. \n",
    "* Maximum tournament played by any team is around 85 and on an avg most of the teams have played 20 tournaments\n",
    "* Average scores of teams is below 1000 with a maximum score of 4500(approx.)\n",
    "* The average number of games played by any team is 500 with a maximum of 3000 played by any team.\n",
    "* Maximum time a team has won is 1700 and maximum drawn games is around 600.\n",
    "* On an average a team has lost 250 games, with a maximum of 1000 a team has lost.\n",
    "* The highest number of baskets scored by a team is 6000, whereas most of the teams have basket scored less than 2000.\n",
    "* The highest number of baskets given by any team is 4000. \n",
    "* Two teams have been champions for most of the time with 30 and 25 chmpionship wins.The rest have won less than 10 tournaments.\n",
    "* Two teams have been runner-up of the chamiponship for 23(approx.) times while the other teams on an average have been runnerup for less than 7 times. "
   ]
  },
  {
   "cell_type": "code",
   "execution_count": null,
   "id": "2a534c6d",
   "metadata": {},
   "outputs": [],
   "source": []
  },
  {
   "cell_type": "markdown",
   "id": "58b771bf",
   "metadata": {},
   "source": [
    "### BIVARIATE ANALYSIS"
   ]
  },
  {
   "cell_type": "code",
   "execution_count": 83,
   "id": "b174ec2f",
   "metadata": {},
   "outputs": [],
   "source": [
    "#To get a clear view of the teams performance bivariate curves is plotted\n",
    "# barplot is plotted with respect to teams and other performance columns.\n"
   ]
  },
  {
   "cell_type": "code",
   "execution_count": 84,
   "id": "49f18d4a",
   "metadata": {},
   "outputs": [
    {
     "name": "stderr",
     "output_type": "stream",
     "text": [
      "C:\\Users\\KUMUD .LAPTOP-S0T3F3O8\\anaconda3\\lib\\site-packages\\seaborn\\_decorators.py:36: FutureWarning: Pass the following variables as keyword args: x, y. From version 0.12, the only valid positional argument will be `data`, and passing other arguments without an explicit keyword will result in an error or misinterpretation.\n",
      "  warnings.warn(\n"
     ]
    },
    {
     "data": {
      "image/png": "[encoded data removed]",
      "text/plain": [
       "<Figure size 1080x576 with 1 Axes>"
      ]
     },
     "metadata": {
      "needs_background": "light"
     },
     "output_type": "display_data"
    }
   ],
   "source": [
    "plt.figure(figsize=[15,8])\n",
    "sns.barplot(df['Team'], df['Score'])\n",
    "plt.xticks(rotation=90)\n",
    "plt.show()"
   ]
  },
  {
   "cell_type": "code",
   "execution_count": null,
   "id": "b1f60bf7",
   "metadata": {},
   "outputs": [],
   "source": []
  },
  {
   "cell_type": "code",
   "execution_count": 85,
   "id": "57112000",
   "metadata": {},
   "outputs": [
    {
     "name": "stderr",
     "output_type": "stream",
     "text": [
      "C:\\Users\\KUMUD .LAPTOP-S0T3F3O8\\anaconda3\\lib\\site-packages\\seaborn\\_decorators.py:36: FutureWarning: Pass the following variables as keyword args: x, y. From version 0.12, the only valid positional argument will be `data`, and passing other arguments without an explicit keyword will result in an error or misinterpretation.\n",
      "  warnings.warn(\n"
     ]
    },
    {
     "data": {
      "image/png": "[encoded data removed]",
      "text/plain": [
       "<Figure size 1080x576 with 1 Axes>"
      ]
     },
     "metadata": {
      "needs_background": "light"
     },
     "output_type": "display_data"
    }
   ],
   "source": [
    "plt.figure(figsize=[15,8])\n",
    "sns.barplot(df['Team'], df['Tournament'], )\n",
    "plt.xticks(rotation=90)\n",
    "plt.show()"
   ]
  },
  {
   "cell_type": "code",
   "execution_count": 86,
   "id": "88dfed63",
   "metadata": {},
   "outputs": [
    {
     "name": "stderr",
     "output_type": "stream",
     "text": [
      "C:\\Users\\KUMUD .LAPTOP-S0T3F3O8\\anaconda3\\lib\\site-packages\\seaborn\\_decorators.py:36: FutureWarning: Pass the following variables as keyword args: x, y. From version 0.12, the only valid positional argument will be `data`, and passing other arguments without an explicit keyword will result in an error or misinterpretation.\n",
      "  warnings.warn(\n"
     ]
    },
    {
     "data": {
      "image/png": "[encoded data removed]",
      "text/plain": [
       "<Figure size 1080x576 with 1 Axes>"
      ]
     },
     "metadata": {
      "needs_background": "light"
     },
     "output_type": "display_data"
    }
   ],
   "source": [
    "plt.figure(figsize=[15,8])\n",
    "sns.barplot(df['Team'], df['PlayedGames'])\n",
    "plt.xticks(rotation=90)\n",
    "plt.show()"
   ]
  },
  {
   "cell_type": "code",
   "execution_count": 87,
   "id": "1d8fe6bf",
   "metadata": {},
   "outputs": [
    {
     "name": "stderr",
     "output_type": "stream",
     "text": [
      "C:\\Users\\KUMUD .LAPTOP-S0T3F3O8\\anaconda3\\lib\\site-packages\\seaborn\\_decorators.py:36: FutureWarning: Pass the following variables as keyword args: x, y. From version 0.12, the only valid positional argument will be `data`, and passing other arguments without an explicit keyword will result in an error or misinterpretation.\n",
      "  warnings.warn(\n"
     ]
    },
    {
     "data": {
      "image/png": "[encoded data removed]",
      "text/plain": [
       "<Figure size 1080x576 with 1 Axes>"
      ]
     },
     "metadata": {
      "needs_background": "light"
     },
     "output_type": "display_data"
    }
   ],
   "source": [
    "plt.figure(figsize=[15,8])\n",
    "sns.barplot(df['Team'], df['WonGames'])\n",
    "plt.xticks(rotation=90)\n",
    "plt.show()"
   ]
  },
  {
   "cell_type": "code",
   "execution_count": 88,
   "id": "ab63417d",
   "metadata": {},
   "outputs": [
    {
     "name": "stderr",
     "output_type": "stream",
     "text": [
      "C:\\Users\\KUMUD .LAPTOP-S0T3F3O8\\anaconda3\\lib\\site-packages\\seaborn\\_decorators.py:36: FutureWarning: Pass the following variables as keyword args: x, y. From version 0.12, the only valid positional argument will be `data`, and passing other arguments without an explicit keyword will result in an error or misinterpretation.\n",
      "  warnings.warn(\n"
     ]
    },
    {
     "data": {
      "image/png": "[encoded data removed]",
      "text/plain": [
       "<Figure size 1080x576 with 1 Axes>"
      ]
     },
     "metadata": {
      "needs_background": "light"
     },
     "output_type": "display_data"
    }
   ],
   "source": [
    "plt.figure(figsize=[15,8])\n",
    "sns.barplot(df['Team'], df['DrawnGames'], )\n",
    "plt.xticks(rotation=90)\n",
    "plt.show()"
   ]
  },
  {
   "cell_type": "code",
   "execution_count": 89,
   "id": "c3d7bdb2",
   "metadata": {},
   "outputs": [
    {
     "name": "stderr",
     "output_type": "stream",
     "text": [
      "C:\\Users\\KUMUD .LAPTOP-S0T3F3O8\\anaconda3\\lib\\site-packages\\seaborn\\_decorators.py:36: FutureWarning: Pass the following variables as keyword args: x, y. From version 0.12, the only valid positional argument will be `data`, and passing other arguments without an explicit keyword will result in an error or misinterpretation.\n",
      "  warnings.warn(\n"
     ]
    },
    {
     "data": {
      "image/png": "[encoded data removed]",
      "text/plain": [
       "<Figure size 1080x576 with 1 Axes>"
      ]
     },
     "metadata": {
      "needs_background": "light"
     },
     "output_type": "display_data"
    }
   ],
   "source": [
    "plt.figure(figsize=[15,8])\n",
    "sns.barplot(df['Team'], df['LostGames'], )\n",
    "plt.xticks(rotation=90)\n",
    "plt.show()"
   ]
  },
  {
   "cell_type": "code",
   "execution_count": 90,
   "id": "587b0bb6",
   "metadata": {},
   "outputs": [
    {
     "name": "stderr",
     "output_type": "stream",
     "text": [
      "C:\\Users\\KUMUD .LAPTOP-S0T3F3O8\\anaconda3\\lib\\site-packages\\seaborn\\_decorators.py:36: FutureWarning: Pass the following variables as keyword args: x, y. From version 0.12, the only valid positional argument will be `data`, and passing other arguments without an explicit keyword will result in an error or misinterpretation.\n",
      "  warnings.warn(\n"
     ]
    },
    {
     "data": {
      "image/png": "[encoded data removed]",
      "text/plain": [
       "<Figure size 1080x576 with 1 Axes>"
      ]
     },
     "metadata": {
      "needs_background": "light"
     },
     "output_type": "display_data"
    }
   ],
   "source": [
    "plt.figure(figsize=[15,8])\n",
    "sns.barplot(df['Team'], df['BasketScored'], )\n",
    "plt.xticks(rotation=90)\n",
    "plt.show()"
   ]
  },
  {
   "cell_type": "code",
   "execution_count": 91,
   "id": "ed4f5092",
   "metadata": {},
   "outputs": [
    {
     "name": "stderr",
     "output_type": "stream",
     "text": [
      "C:\\Users\\KUMUD .LAPTOP-S0T3F3O8\\anaconda3\\lib\\site-packages\\seaborn\\_decorators.py:36: FutureWarning: Pass the following variables as keyword args: x, y. From version 0.12, the only valid positional argument will be `data`, and passing other arguments without an explicit keyword will result in an error or misinterpretation.\n",
      "  warnings.warn(\n"
     ]
    },
    {
     "data": {
      "image/png": "[encoded data removed]",
      "text/plain": [
       "<Figure size 1080x576 with 1 Axes>"
      ]
     },
     "metadata": {
      "needs_background": "light"
     },
     "output_type": "display_data"
    }
   ],
   "source": [
    "plt.figure(figsize=[15,8])\n",
    "sns.barplot(df['Team'], df['BasketGiven'],)\n",
    "plt.xticks(rotation=90)\n",
    "plt.show()"
   ]
  },
  {
   "cell_type": "code",
   "execution_count": 92,
   "id": "6d03e53d",
   "metadata": {},
   "outputs": [
    {
     "name": "stderr",
     "output_type": "stream",
     "text": [
      "C:\\Users\\KUMUD .LAPTOP-S0T3F3O8\\anaconda3\\lib\\site-packages\\seaborn\\_decorators.py:36: FutureWarning: Pass the following variables as keyword args: x, y. From version 0.12, the only valid positional argument will be `data`, and passing other arguments without an explicit keyword will result in an error or misinterpretation.\n",
      "  warnings.warn(\n"
     ]
    },
    {
     "data": {
      "image/png": "[encoded data removed]",
      "text/plain": [
       "<Figure size 1440x576 with 1 Axes>"
      ]
     },
     "metadata": {
      "needs_background": "light"
     },
     "output_type": "display_data"
    }
   ],
   "source": [
    "plt.figure(figsize=[20,8])\n",
    "sns.barplot(df['Team'], df['TournamentChampion'], )\n",
    "plt.xticks(rotation=90)\n",
    "plt.show()"
   ]
  },
  {
   "cell_type": "code",
   "execution_count": 93,
   "id": "efedbd33",
   "metadata": {},
   "outputs": [
    {
     "name": "stderr",
     "output_type": "stream",
     "text": [
      "C:\\Users\\KUMUD .LAPTOP-S0T3F3O8\\anaconda3\\lib\\site-packages\\seaborn\\_decorators.py:36: FutureWarning: Pass the following variables as keyword args: x, y. From version 0.12, the only valid positional argument will be `data`, and passing other arguments without an explicit keyword will result in an error or misinterpretation.\n",
      "  warnings.warn(\n"
     ]
    },
    {
     "data": {
      "image/png": "[encoded data removed]",
      "text/plain": [
       "<Figure size 1080x576 with 1 Axes>"
      ]
     },
     "metadata": {
      "needs_background": "light"
     },
     "output_type": "display_data"
    }
   ],
   "source": [
    "plt.figure(figsize=[15,8])\n",
    "sns.barplot(df['Team'], df['Runner-up'], )\n",
    "plt.xticks(rotation=90)\n",
    "plt.show()"
   ]
  },
  {
   "cell_type": "code",
   "execution_count": 94,
   "id": "dea84237",
   "metadata": {},
   "outputs": [
    {
     "name": "stderr",
     "output_type": "stream",
     "text": [
      "C:\\Users\\KUMUD .LAPTOP-S0T3F3O8\\anaconda3\\lib\\site-packages\\seaborn\\_decorators.py:36: FutureWarning: Pass the following variables as keyword args: x, y. From version 0.12, the only valid positional argument will be `data`, and passing other arguments without an explicit keyword will result in an error or misinterpretation.\n",
      "  warnings.warn(\n"
     ]
    },
    {
     "data": {
      "image/png": "[encoded data removed]",
      "text/plain": [
       "<Figure size 1080x1080 with 1 Axes>"
      ]
     },
     "metadata": {
      "needs_background": "light"
     },
     "output_type": "display_data"
    }
   ],
   "source": [
    "plt.figure(figsize=[15,15])\n",
    "sns.barplot(df['Team'], df['HighestPositionHeld'], )\n",
    "plt.xticks(rotation=90)\n",
    "plt.show()"
   ]
  },
  {
   "cell_type": "code",
   "execution_count": 95,
   "id": "1acd125a",
   "metadata": {},
   "outputs": [
    {
     "data": {
      "text/plain": [
       "Index(['Team', 'Tournament', 'Score', 'PlayedGames', 'WonGames', 'DrawnGames',\n",
       "       'LostGames', 'BasketScored', 'BasketGiven', 'TournamentChampion',\n",
       "       'Runner-up', 'TeamLaunch', 'HighestPositionHeld'],\n",
       "      dtype='object')"
      ]
     },
     "execution_count": 95,
     "metadata": {},
     "output_type": "execute_result"
    }
   ],
   "source": [
    "df.columns"
   ]
  },
  {
   "cell_type": "code",
   "execution_count": 96,
   "id": "64e47e28",
   "metadata": {},
   "outputs": [],
   "source": [
    "# Jointplot is plotted to get an idea of relationship between score and tournaments played."
   ]
  },
  {
   "cell_type": "code",
   "execution_count": 97,
   "id": "39870ec1",
   "metadata": {},
   "outputs": [
    {
     "name": "stderr",
     "output_type": "stream",
     "text": [
      "C:\\Users\\KUMUD .LAPTOP-S0T3F3O8\\anaconda3\\lib\\site-packages\\seaborn\\_decorators.py:36: FutureWarning: Pass the following variables as keyword args: x, y. From version 0.12, the only valid positional argument will be `data`, and passing other arguments without an explicit keyword will result in an error or misinterpretation.\n",
      "  warnings.warn(\n"
     ]
    },
    {
     "data": {
      "image/png": "[encoded data removed]",
      "text/plain": [
       "<Figure size 432x432 with 3 Axes>"
      ]
     },
     "metadata": {
      "needs_background": "light"
     },
     "output_type": "display_data"
    }
   ],
   "source": [
    "sns.jointplot( df['Tournament'], df['Score'])\n",
    "plt.xticks(rotation=90)\n",
    "plt.show()"
   ]
  },
  {
   "cell_type": "code",
   "execution_count": 98,
   "id": "9c76b24c",
   "metadata": {},
   "outputs": [
    {
     "name": "stderr",
     "output_type": "stream",
     "text": [
      "C:\\Users\\KUMUD .LAPTOP-S0T3F3O8\\anaconda3\\lib\\site-packages\\seaborn\\_decorators.py:36: FutureWarning: Pass the following variables as keyword args: x, y. From version 0.12, the only valid positional argument will be `data`, and passing other arguments without an explicit keyword will result in an error or misinterpretation.\n",
      "  warnings.warn(\n"
     ]
    },
    {
     "data": {
      "image/png": "[encoded data removed]",
      "text/plain": [
       "<Figure size 432x432 with 3 Axes>"
      ]
     },
     "metadata": {
      "needs_background": "light"
     },
     "output_type": "display_data"
    }
   ],
   "source": [
    "sns.jointplot( df['PlayedGames'], df['WonGames'])\n",
    "plt.xticks(rotation=90)\n",
    "plt.show()"
   ]
  },
  {
   "cell_type": "code",
   "execution_count": 99,
   "id": "e83b93ab",
   "metadata": {},
   "outputs": [
    {
     "name": "stderr",
     "output_type": "stream",
     "text": [
      "C:\\Users\\KUMUD .LAPTOP-S0T3F3O8\\anaconda3\\lib\\site-packages\\seaborn\\_decorators.py:36: FutureWarning: Pass the following variables as keyword args: x, y. From version 0.12, the only valid positional argument will be `data`, and passing other arguments without an explicit keyword will result in an error or misinterpretation.\n",
      "  warnings.warn(\n"
     ]
    },
    {
     "data": {
      "image/png": "[encoded data removed]",
      "text/plain": [
       "<Figure size 432x432 with 3 Axes>"
      ]
     },
     "metadata": {
      "needs_background": "light"
     },
     "output_type": "display_data"
    }
   ],
   "source": [
    "sns.jointplot( df['TournamentChampion'], df['WonGames'])\n",
    "plt.xticks(rotation=90)\n",
    "plt.show()"
   ]
  },
  {
   "cell_type": "markdown",
   "id": "6df10805",
   "metadata": {},
   "source": [
    "### Bivariate Analysis Summary: "
   ]
  },
  {
   "cell_type": "raw",
   "id": "8e504f36",
   "metadata": {},
   "source": [
    "Following can be concluded after the bivariate analysis of the dataset:\n",
    "* Team 1 to Team 10 are the top ten in scores, Tournamentplayed, PLayedgames, Wongames, baskets scored.\n",
    "* Team 7 have lost maximum number of games\n",
    "* Team 1 and Team 2 are highest basket scorer.\n",
    "* Team 8 has given highest baskets around 3800.\n",
    "* Team 1 became Tournamentchampion for 33 times.\n",
    "* Team 2 became Tournamentchampion for 25 times.\n",
    "* Team 12 to Team 61 has not won any championship so far\n",
    "* Team 2 was Runner-up for maximum number of times.\n",
    "* About 60% of the Teams have held top ten position in a tournament.\n",
    "* Team 57 has the maximum Highestposition held value of 20. \n",
    "* Team 51 to 61 have played less tournaments. \n"
   ]
  },
  {
   "cell_type": "markdown",
   "id": "ec8162a8",
   "metadata": {},
   "source": [
    "### Now we check for worst performance by a team "
   ]
  },
  {
   "cell_type": "code",
   "execution_count": 100,
   "id": "c403eb55",
   "metadata": {},
   "outputs": [
    {
     "data": {
      "text/html": [
       "<div>\n",
       "<style scoped>\n",
       "    .dataframe tbody tr th:only-of-type {\n",
       "        vertical-align: middle;\n",
       "    }\n",
       "\n",
       "    .dataframe tbody tr th {\n",
       "        vertical-align: top;\n",
       "    }\n",
       "\n",
       "    .dataframe thead th {\n",
       "        text-align: right;\n",
       "    }\n",
       "</style>\n",
       "<table border=\"1\" class=\"dataframe\">\n",
       "  <thead>\n",
       "    <tr style=\"text-align: right;\">\n",
       "      <th></th>\n",
       "      <th>Team</th>\n",
       "      <th>Tournament</th>\n",
       "      <th>Score</th>\n",
       "      <th>PlayedGames</th>\n",
       "      <th>WonGames</th>\n",
       "      <th>DrawnGames</th>\n",
       "      <th>LostGames</th>\n",
       "      <th>BasketScored</th>\n",
       "      <th>BasketGiven</th>\n",
       "      <th>TournamentChampion</th>\n",
       "      <th>Runner-up</th>\n",
       "      <th>TeamLaunch</th>\n",
       "      <th>HighestPositionHeld</th>\n",
       "    </tr>\n",
       "  </thead>\n",
       "  <tbody>\n",
       "    <tr>\n",
       "      <th>42</th>\n",
       "      <td>Team 43</td>\n",
       "      <td>4</td>\n",
       "      <td>148.0</td>\n",
       "      <td>152.0</td>\n",
       "      <td>37.0</td>\n",
       "      <td>37.0</td>\n",
       "      <td>78.0</td>\n",
       "      <td>155.0</td>\n",
       "      <td>253.0</td>\n",
       "      <td>NaN</td>\n",
       "      <td>NaN</td>\n",
       "      <td>1999to00</td>\n",
       "      <td>17</td>\n",
       "    </tr>\n",
       "    <tr>\n",
       "      <th>47</th>\n",
       "      <td>Team 48</td>\n",
       "      <td>2</td>\n",
       "      <td>83.0</td>\n",
       "      <td>80.0</td>\n",
       "      <td>20.0</td>\n",
       "      <td>23.0</td>\n",
       "      <td>37.0</td>\n",
       "      <td>62.0</td>\n",
       "      <td>117.0</td>\n",
       "      <td>NaN</td>\n",
       "      <td>NaN</td>\n",
       "      <td>1996-97</td>\n",
       "      <td>17</td>\n",
       "    </tr>\n",
       "    <tr>\n",
       "      <th>48</th>\n",
       "      <td>Team 49</td>\n",
       "      <td>2</td>\n",
       "      <td>81.0</td>\n",
       "      <td>80.0</td>\n",
       "      <td>19.0</td>\n",
       "      <td>24.0</td>\n",
       "      <td>37.0</td>\n",
       "      <td>70.0</td>\n",
       "      <td>115.0</td>\n",
       "      <td>NaN</td>\n",
       "      <td>NaN</td>\n",
       "      <td>1995-96</td>\n",
       "      <td>19</td>\n",
       "    </tr>\n",
       "    <tr>\n",
       "      <th>54</th>\n",
       "      <td>Team 55</td>\n",
       "      <td>2</td>\n",
       "      <td>40.0</td>\n",
       "      <td>68.0</td>\n",
       "      <td>13.0</td>\n",
       "      <td>14.0</td>\n",
       "      <td>41.0</td>\n",
       "      <td>70.0</td>\n",
       "      <td>182.0</td>\n",
       "      <td>NaN</td>\n",
       "      <td>NaN</td>\n",
       "      <td>1950-51</td>\n",
       "      <td>16</td>\n",
       "    </tr>\n",
       "    <tr>\n",
       "      <th>55</th>\n",
       "      <td>Team 56</td>\n",
       "      <td>1</td>\n",
       "      <td>35.0</td>\n",
       "      <td>38.0</td>\n",
       "      <td>8.0</td>\n",
       "      <td>11.0</td>\n",
       "      <td>19.0</td>\n",
       "      <td>36.0</td>\n",
       "      <td>55.0</td>\n",
       "      <td>NaN</td>\n",
       "      <td>NaN</td>\n",
       "      <td>2016_17</td>\n",
       "      <td>17</td>\n",
       "    </tr>\n",
       "    <tr>\n",
       "      <th>56</th>\n",
       "      <td>Team 57</td>\n",
       "      <td>1</td>\n",
       "      <td>34.0</td>\n",
       "      <td>38.0</td>\n",
       "      <td>8.0</td>\n",
       "      <td>10.0</td>\n",
       "      <td>20.0</td>\n",
       "      <td>38.0</td>\n",
       "      <td>66.0</td>\n",
       "      <td>NaN</td>\n",
       "      <td>NaN</td>\n",
       "      <td>2009-10</td>\n",
       "      <td>20</td>\n",
       "    </tr>\n",
       "    <tr>\n",
       "      <th>57</th>\n",
       "      <td>Team 58</td>\n",
       "      <td>1</td>\n",
       "      <td>22.0</td>\n",
       "      <td>30.0</td>\n",
       "      <td>7.0</td>\n",
       "      <td>8.0</td>\n",
       "      <td>15.0</td>\n",
       "      <td>37.0</td>\n",
       "      <td>57.0</td>\n",
       "      <td>NaN</td>\n",
       "      <td>NaN</td>\n",
       "      <td>1956-57</td>\n",
       "      <td>16</td>\n",
       "    </tr>\n",
       "    <tr>\n",
       "      <th>58</th>\n",
       "      <td>Team 59</td>\n",
       "      <td>1</td>\n",
       "      <td>19.0</td>\n",
       "      <td>30.0</td>\n",
       "      <td>7.0</td>\n",
       "      <td>5.0</td>\n",
       "      <td>18.0</td>\n",
       "      <td>51.0</td>\n",
       "      <td>85.0</td>\n",
       "      <td>NaN</td>\n",
       "      <td>NaN</td>\n",
       "      <td>1951~52</td>\n",
       "      <td>16</td>\n",
       "    </tr>\n",
       "    <tr>\n",
       "      <th>59</th>\n",
       "      <td>Team 60</td>\n",
       "      <td>1</td>\n",
       "      <td>14.0</td>\n",
       "      <td>30.0</td>\n",
       "      <td>5.0</td>\n",
       "      <td>4.0</td>\n",
       "      <td>21.0</td>\n",
       "      <td>34.0</td>\n",
       "      <td>65.0</td>\n",
       "      <td>NaN</td>\n",
       "      <td>NaN</td>\n",
       "      <td>1955-56</td>\n",
       "      <td>15</td>\n",
       "    </tr>\n",
       "  </tbody>\n",
       "</table>\n",
       "</div>"
      ],
      "text/plain": [
       "       Team  Tournament  Score  PlayedGames  WonGames  DrawnGames  LostGames  \\\n",
       "42  Team 43           4  148.0        152.0      37.0        37.0       78.0   \n",
       "47  Team 48           2   83.0         80.0      20.0        23.0       37.0   \n",
       "48  Team 49           2   81.0         80.0      19.0        24.0       37.0   \n",
       "54  Team 55           2   40.0         68.0      13.0        14.0       41.0   \n",
       "55  Team 56           1   35.0         38.0       8.0        11.0       19.0   \n",
       "56  Team 57           1   34.0         38.0       8.0        10.0       20.0   \n",
       "57  Team 58           1   22.0         30.0       7.0         8.0       15.0   \n",
       "58  Team 59           1   19.0         30.0       7.0         5.0       18.0   \n",
       "59  Team 60           1   14.0         30.0       5.0         4.0       21.0   \n",
       "\n",
       "    BasketScored  BasketGiven  TournamentChampion  Runner-up TeamLaunch  \\\n",
       "42         155.0        253.0                 NaN        NaN   1999to00   \n",
       "47          62.0        117.0                 NaN        NaN    1996-97   \n",
       "48          70.0        115.0                 NaN        NaN    1995-96   \n",
       "54          70.0        182.0                 NaN        NaN    1950-51   \n",
       "55          36.0         55.0                 NaN        NaN    2016_17   \n",
       "56          38.0         66.0                 NaN        NaN    2009-10   \n",
       "57          37.0         57.0                 NaN        NaN    1956-57   \n",
       "58          51.0         85.0                 NaN        NaN    1951~52   \n",
       "59          34.0         65.0                 NaN        NaN    1955-56   \n",
       "\n",
       "    HighestPositionHeld  \n",
       "42                   17  \n",
       "47                   17  \n",
       "48                   19  \n",
       "54                   16  \n",
       "55                   17  \n",
       "56                   20  \n",
       "57                   16  \n",
       "58                   16  \n",
       "59                   15  "
      ]
     },
     "execution_count": 100,
     "metadata": {},
     "output_type": "execute_result"
    }
   ],
   "source": [
    "worst_df= df[df[\"HighestPositionHeld\"]>=15]\n",
    "worst_df"
   ]
  },
  {
   "cell_type": "code",
   "execution_count": null,
   "id": "365f1dee",
   "metadata": {},
   "outputs": [],
   "source": []
  },
  {
   "cell_type": "markdown",
   "id": "d30d7153",
   "metadata": {},
   "source": [
    "### Creating a new Dataframe \n",
    "A new dataframe is created where only such teams are selected which have held position in top ten so far."
   ]
  },
  {
   "cell_type": "code",
   "execution_count": 101,
   "id": "ff7008a5",
   "metadata": {},
   "outputs": [
    {
     "data": {
      "text/plain": [
       "(44, 13)"
      ]
     },
     "execution_count": 101,
     "metadata": {},
     "output_type": "execute_result"
    }
   ],
   "source": [
    "new_df= df[df['HighestPositionHeld']<10]\n",
    "new_df.shape"
   ]
  },
  {
   "cell_type": "code",
   "execution_count": 102,
   "id": "0fab7710",
   "metadata": {},
   "outputs": [],
   "source": [
    "new_df.reset_index(inplace=True, drop=True)"
   ]
  },
  {
   "cell_type": "code",
   "execution_count": 103,
   "id": "9be96b7a",
   "metadata": {},
   "outputs": [
    {
     "name": "stderr",
     "output_type": "stream",
     "text": [
      "C:\\Users\\KUMUD .LAPTOP-S0T3F3O8\\anaconda3\\lib\\site-packages\\pandas\\core\\frame.py:4308: SettingWithCopyWarning: \n",
      "A value is trying to be set on a copy of a slice from a DataFrame\n",
      "\n",
      "See the caveats in the documentation: https://pandas.pydata.org/pandas-docs/stable/user_guide/indexing.html#returning-a-view-versus-a-copy\n",
      "  return super().drop(\n"
     ]
    },
    {
     "data": {
      "text/html": [
       "<div>\n",
       "<style scoped>\n",
       "    .dataframe tbody tr th:only-of-type {\n",
       "        vertical-align: middle;\n",
       "    }\n",
       "\n",
       "    .dataframe tbody tr th {\n",
       "        vertical-align: top;\n",
       "    }\n",
       "\n",
       "    .dataframe thead th {\n",
       "        text-align: right;\n",
       "    }\n",
       "</style>\n",
       "<table border=\"1\" class=\"dataframe\">\n",
       "  <thead>\n",
       "    <tr style=\"text-align: right;\">\n",
       "      <th></th>\n",
       "      <th>Team</th>\n",
       "      <th>Tournament</th>\n",
       "      <th>Score</th>\n",
       "      <th>PlayedGames</th>\n",
       "      <th>WonGames</th>\n",
       "      <th>DrawnGames</th>\n",
       "      <th>LostGames</th>\n",
       "      <th>BasketScored</th>\n",
       "      <th>BasketGiven</th>\n",
       "      <th>TournamentChampion</th>\n",
       "      <th>Runner-up</th>\n",
       "      <th>HighestPositionHeld</th>\n",
       "    </tr>\n",
       "  </thead>\n",
       "  <tbody>\n",
       "    <tr>\n",
       "      <th>0</th>\n",
       "      <td>Team 1</td>\n",
       "      <td>86</td>\n",
       "      <td>4385.0</td>\n",
       "      <td>2762.0</td>\n",
       "      <td>1647.0</td>\n",
       "      <td>552.0</td>\n",
       "      <td>563.0</td>\n",
       "      <td>5947.0</td>\n",
       "      <td>3140.0</td>\n",
       "      <td>33.0</td>\n",
       "      <td>23.0</td>\n",
       "      <td>1</td>\n",
       "    </tr>\n",
       "    <tr>\n",
       "      <th>1</th>\n",
       "      <td>Team 2</td>\n",
       "      <td>86</td>\n",
       "      <td>4262.0</td>\n",
       "      <td>2762.0</td>\n",
       "      <td>1581.0</td>\n",
       "      <td>573.0</td>\n",
       "      <td>608.0</td>\n",
       "      <td>5900.0</td>\n",
       "      <td>3114.0</td>\n",
       "      <td>25.0</td>\n",
       "      <td>25.0</td>\n",
       "      <td>1</td>\n",
       "    </tr>\n",
       "    <tr>\n",
       "      <th>2</th>\n",
       "      <td>Team 3</td>\n",
       "      <td>80</td>\n",
       "      <td>3442.0</td>\n",
       "      <td>2614.0</td>\n",
       "      <td>1241.0</td>\n",
       "      <td>598.0</td>\n",
       "      <td>775.0</td>\n",
       "      <td>4534.0</td>\n",
       "      <td>3309.0</td>\n",
       "      <td>10.0</td>\n",
       "      <td>8.0</td>\n",
       "      <td>1</td>\n",
       "    </tr>\n",
       "    <tr>\n",
       "      <th>3</th>\n",
       "      <td>Team 4</td>\n",
       "      <td>82</td>\n",
       "      <td>3386.0</td>\n",
       "      <td>2664.0</td>\n",
       "      <td>1187.0</td>\n",
       "      <td>616.0</td>\n",
       "      <td>861.0</td>\n",
       "      <td>4398.0</td>\n",
       "      <td>3469.0</td>\n",
       "      <td>6.0</td>\n",
       "      <td>6.0</td>\n",
       "      <td>1</td>\n",
       "    </tr>\n",
       "    <tr>\n",
       "      <th>4</th>\n",
       "      <td>Team 5</td>\n",
       "      <td>86</td>\n",
       "      <td>3368.0</td>\n",
       "      <td>2762.0</td>\n",
       "      <td>1209.0</td>\n",
       "      <td>633.0</td>\n",
       "      <td>920.0</td>\n",
       "      <td>4631.0</td>\n",
       "      <td>3700.0</td>\n",
       "      <td>8.0</td>\n",
       "      <td>7.0</td>\n",
       "      <td>1</td>\n",
       "    </tr>\n",
       "    <tr>\n",
       "      <th>5</th>\n",
       "      <td>Team 6</td>\n",
       "      <td>73</td>\n",
       "      <td>2819.0</td>\n",
       "      <td>2408.0</td>\n",
       "      <td>990.0</td>\n",
       "      <td>531.0</td>\n",
       "      <td>887.0</td>\n",
       "      <td>3680.0</td>\n",
       "      <td>3373.0</td>\n",
       "      <td>1.0</td>\n",
       "      <td>4.0</td>\n",
       "      <td>1</td>\n",
       "    </tr>\n",
       "    <tr>\n",
       "      <th>6</th>\n",
       "      <td>Team 7</td>\n",
       "      <td>82</td>\n",
       "      <td>2792.0</td>\n",
       "      <td>2626.0</td>\n",
       "      <td>948.0</td>\n",
       "      <td>608.0</td>\n",
       "      <td>1070.0</td>\n",
       "      <td>3609.0</td>\n",
       "      <td>3889.0</td>\n",
       "      <td>NaN</td>\n",
       "      <td>NaN</td>\n",
       "      <td>3</td>\n",
       "    </tr>\n",
       "    <tr>\n",
       "      <th>7</th>\n",
       "      <td>Team 8</td>\n",
       "      <td>70</td>\n",
       "      <td>2573.0</td>\n",
       "      <td>2302.0</td>\n",
       "      <td>864.0</td>\n",
       "      <td>577.0</td>\n",
       "      <td>861.0</td>\n",
       "      <td>3228.0</td>\n",
       "      <td>3230.0</td>\n",
       "      <td>2.0</td>\n",
       "      <td>3.0</td>\n",
       "      <td>1</td>\n",
       "    </tr>\n",
       "    <tr>\n",
       "      <th>8</th>\n",
       "      <td>Team 9</td>\n",
       "      <td>58</td>\n",
       "      <td>2109.0</td>\n",
       "      <td>1986.0</td>\n",
       "      <td>698.0</td>\n",
       "      <td>522.0</td>\n",
       "      <td>766.0</td>\n",
       "      <td>2683.0</td>\n",
       "      <td>2847.0</td>\n",
       "      <td>NaN</td>\n",
       "      <td>1.0</td>\n",
       "      <td>2</td>\n",
       "    </tr>\n",
       "    <tr>\n",
       "      <th>9</th>\n",
       "      <td>Team 10</td>\n",
       "      <td>51</td>\n",
       "      <td>1884.0</td>\n",
       "      <td>1728.0</td>\n",
       "      <td>606.0</td>\n",
       "      <td>440.0</td>\n",
       "      <td>682.0</td>\n",
       "      <td>2159.0</td>\n",
       "      <td>2492.0</td>\n",
       "      <td>1.0</td>\n",
       "      <td>NaN</td>\n",
       "      <td>1</td>\n",
       "    </tr>\n",
       "    <tr>\n",
       "      <th>10</th>\n",
       "      <td>Team 11</td>\n",
       "      <td>45</td>\n",
       "      <td>1814.0</td>\n",
       "      <td>1530.0</td>\n",
       "      <td>563.0</td>\n",
       "      <td>392.0</td>\n",
       "      <td>575.0</td>\n",
       "      <td>2052.0</td>\n",
       "      <td>2188.0</td>\n",
       "      <td>1.0</td>\n",
       "      <td>5.0</td>\n",
       "      <td>1</td>\n",
       "    </tr>\n",
       "    <tr>\n",
       "      <th>11</th>\n",
       "      <td>Team 12</td>\n",
       "      <td>51</td>\n",
       "      <td>1789.0</td>\n",
       "      <td>1698.0</td>\n",
       "      <td>586.0</td>\n",
       "      <td>389.0</td>\n",
       "      <td>723.0</td>\n",
       "      <td>2278.0</td>\n",
       "      <td>2624.0</td>\n",
       "      <td>NaN</td>\n",
       "      <td>NaN</td>\n",
       "      <td>4</td>\n",
       "    </tr>\n",
       "    <tr>\n",
       "      <th>12</th>\n",
       "      <td>Team 13</td>\n",
       "      <td>42</td>\n",
       "      <td>1471.0</td>\n",
       "      <td>1466.0</td>\n",
       "      <td>463.0</td>\n",
       "      <td>384.0</td>\n",
       "      <td>619.0</td>\n",
       "      <td>1767.0</td>\n",
       "      <td>2180.0</td>\n",
       "      <td>NaN</td>\n",
       "      <td>NaN</td>\n",
       "      <td>4</td>\n",
       "    </tr>\n",
       "    <tr>\n",
       "      <th>13</th>\n",
       "      <td>Team 14</td>\n",
       "      <td>44</td>\n",
       "      <td>1416.0</td>\n",
       "      <td>1428.0</td>\n",
       "      <td>453.0</td>\n",
       "      <td>336.0</td>\n",
       "      <td>639.0</td>\n",
       "      <td>1843.0</td>\n",
       "      <td>2368.0</td>\n",
       "      <td>NaN</td>\n",
       "      <td>1.0</td>\n",
       "      <td>2</td>\n",
       "    </tr>\n",
       "    <tr>\n",
       "      <th>14</th>\n",
       "      <td>Team 15</td>\n",
       "      <td>43</td>\n",
       "      <td>1389.0</td>\n",
       "      <td>1458.0</td>\n",
       "      <td>471.0</td>\n",
       "      <td>358.0</td>\n",
       "      <td>629.0</td>\n",
       "      <td>1753.0</td>\n",
       "      <td>2152.0</td>\n",
       "      <td>NaN</td>\n",
       "      <td>1.0</td>\n",
       "      <td>2</td>\n",
       "    </tr>\n",
       "    <tr>\n",
       "      <th>15</th>\n",
       "      <td>Team 16</td>\n",
       "      <td>37</td>\n",
       "      <td>1351.0</td>\n",
       "      <td>1318.0</td>\n",
       "      <td>426.0</td>\n",
       "      <td>327.0</td>\n",
       "      <td>565.0</td>\n",
       "      <td>1500.0</td>\n",
       "      <td>1834.0</td>\n",
       "      <td>NaN</td>\n",
       "      <td>NaN</td>\n",
       "      <td>4</td>\n",
       "    </tr>\n",
       "    <tr>\n",
       "      <th>16</th>\n",
       "      <td>Team 17</td>\n",
       "      <td>36</td>\n",
       "      <td>1314.0</td>\n",
       "      <td>1255.0</td>\n",
       "      <td>390.0</td>\n",
       "      <td>330.0</td>\n",
       "      <td>535.0</td>\n",
       "      <td>1421.0</td>\n",
       "      <td>1763.0</td>\n",
       "      <td>NaN</td>\n",
       "      <td>NaN</td>\n",
       "      <td>4</td>\n",
       "    </tr>\n",
       "    <tr>\n",
       "      <th>17</th>\n",
       "      <td>Team 18</td>\n",
       "      <td>38</td>\n",
       "      <td>1174.0</td>\n",
       "      <td>1192.0</td>\n",
       "      <td>408.0</td>\n",
       "      <td>292.0</td>\n",
       "      <td>492.0</td>\n",
       "      <td>1642.0</td>\n",
       "      <td>1951.0</td>\n",
       "      <td>NaN</td>\n",
       "      <td>NaN</td>\n",
       "      <td>3</td>\n",
       "    </tr>\n",
       "    <tr>\n",
       "      <th>18</th>\n",
       "      <td>Team 19</td>\n",
       "      <td>27</td>\n",
       "      <td>1148.0</td>\n",
       "      <td>988.0</td>\n",
       "      <td>333.0</td>\n",
       "      <td>256.0</td>\n",
       "      <td>399.0</td>\n",
       "      <td>1182.0</td>\n",
       "      <td>1371.0</td>\n",
       "      <td>NaN</td>\n",
       "      <td>NaN</td>\n",
       "      <td>3</td>\n",
       "    </tr>\n",
       "    <tr>\n",
       "      <th>19</th>\n",
       "      <td>Team 20</td>\n",
       "      <td>33</td>\n",
       "      <td>1020.0</td>\n",
       "      <td>1096.0</td>\n",
       "      <td>367.0</td>\n",
       "      <td>242.0</td>\n",
       "      <td>487.0</td>\n",
       "      <td>1347.0</td>\n",
       "      <td>1746.0</td>\n",
       "      <td>NaN</td>\n",
       "      <td>1.0</td>\n",
       "      <td>2</td>\n",
       "    </tr>\n",
       "    <tr>\n",
       "      <th>20</th>\n",
       "      <td>Team 21</td>\n",
       "      <td>17</td>\n",
       "      <td>970.0</td>\n",
       "      <td>646.0</td>\n",
       "      <td>266.0</td>\n",
       "      <td>172.0</td>\n",
       "      <td>208.0</td>\n",
       "      <td>892.0</td>\n",
       "      <td>789.0</td>\n",
       "      <td>NaN</td>\n",
       "      <td>1.0</td>\n",
       "      <td>2</td>\n",
       "    </tr>\n",
       "    <tr>\n",
       "      <th>21</th>\n",
       "      <td>Team 22</td>\n",
       "      <td>23</td>\n",
       "      <td>667.0</td>\n",
       "      <td>742.0</td>\n",
       "      <td>218.0</td>\n",
       "      <td>175.0</td>\n",
       "      <td>349.0</td>\n",
       "      <td>819.0</td>\n",
       "      <td>1157.0</td>\n",
       "      <td>NaN</td>\n",
       "      <td>NaN</td>\n",
       "      <td>6</td>\n",
       "    </tr>\n",
       "    <tr>\n",
       "      <th>22</th>\n",
       "      <td>Team 23</td>\n",
       "      <td>17</td>\n",
       "      <td>662.0</td>\n",
       "      <td>652.0</td>\n",
       "      <td>189.0</td>\n",
       "      <td>148.0</td>\n",
       "      <td>305.0</td>\n",
       "      <td>760.0</td>\n",
       "      <td>1088.0</td>\n",
       "      <td>NaN</td>\n",
       "      <td>NaN</td>\n",
       "      <td>8</td>\n",
       "    </tr>\n",
       "    <tr>\n",
       "      <th>23</th>\n",
       "      <td>Team 24</td>\n",
       "      <td>21</td>\n",
       "      <td>606.0</td>\n",
       "      <td>678.0</td>\n",
       "      <td>203.0</td>\n",
       "      <td>180.0</td>\n",
       "      <td>295.0</td>\n",
       "      <td>750.0</td>\n",
       "      <td>1022.0</td>\n",
       "      <td>NaN</td>\n",
       "      <td>NaN</td>\n",
       "      <td>5</td>\n",
       "    </tr>\n",
       "    <tr>\n",
       "      <th>24</th>\n",
       "      <td>Team 25</td>\n",
       "      <td>12</td>\n",
       "      <td>553.0</td>\n",
       "      <td>456.0</td>\n",
       "      <td>147.0</td>\n",
       "      <td>112.0</td>\n",
       "      <td>197.0</td>\n",
       "      <td>520.0</td>\n",
       "      <td>633.0</td>\n",
       "      <td>NaN</td>\n",
       "      <td>NaN</td>\n",
       "      <td>6</td>\n",
       "    </tr>\n",
       "    <tr>\n",
       "      <th>25</th>\n",
       "      <td>Team 26</td>\n",
       "      <td>20</td>\n",
       "      <td>538.0</td>\n",
       "      <td>628.0</td>\n",
       "      <td>184.0</td>\n",
       "      <td>149.0</td>\n",
       "      <td>295.0</td>\n",
       "      <td>716.0</td>\n",
       "      <td>1050.0</td>\n",
       "      <td>NaN</td>\n",
       "      <td>NaN</td>\n",
       "      <td>5</td>\n",
       "    </tr>\n",
       "    <tr>\n",
       "      <th>26</th>\n",
       "      <td>Team 27</td>\n",
       "      <td>13</td>\n",
       "      <td>510.0</td>\n",
       "      <td>494.0</td>\n",
       "      <td>155.0</td>\n",
       "      <td>128.0</td>\n",
       "      <td>211.0</td>\n",
       "      <td>619.0</td>\n",
       "      <td>744.0</td>\n",
       "      <td>NaN</td>\n",
       "      <td>NaN</td>\n",
       "      <td>5</td>\n",
       "    </tr>\n",
       "    <tr>\n",
       "      <th>27</th>\n",
       "      <td>Team 29</td>\n",
       "      <td>12</td>\n",
       "      <td>421.0</td>\n",
       "      <td>380.0</td>\n",
       "      <td>125.0</td>\n",
       "      <td>81.0</td>\n",
       "      <td>174.0</td>\n",
       "      <td>458.0</td>\n",
       "      <td>623.0</td>\n",
       "      <td>NaN</td>\n",
       "      <td>NaN</td>\n",
       "      <td>6</td>\n",
       "    </tr>\n",
       "    <tr>\n",
       "      <th>28</th>\n",
       "      <td>Team 30</td>\n",
       "      <td>11</td>\n",
       "      <td>416.0</td>\n",
       "      <td>402.0</td>\n",
       "      <td>113.0</td>\n",
       "      <td>95.0</td>\n",
       "      <td>194.0</td>\n",
       "      <td>430.0</td>\n",
       "      <td>632.0</td>\n",
       "      <td>NaN</td>\n",
       "      <td>NaN</td>\n",
       "      <td>6</td>\n",
       "    </tr>\n",
       "    <tr>\n",
       "      <th>29</th>\n",
       "      <td>Team 31</td>\n",
       "      <td>12</td>\n",
       "      <td>375.0</td>\n",
       "      <td>423.0</td>\n",
       "      <td>123.0</td>\n",
       "      <td>102.0</td>\n",
       "      <td>198.0</td>\n",
       "      <td>422.0</td>\n",
       "      <td>581.0</td>\n",
       "      <td>NaN</td>\n",
       "      <td>NaN</td>\n",
       "      <td>7</td>\n",
       "    </tr>\n",
       "    <tr>\n",
       "      <th>30</th>\n",
       "      <td>Team 32</td>\n",
       "      <td>14</td>\n",
       "      <td>353.0</td>\n",
       "      <td>426.0</td>\n",
       "      <td>129.0</td>\n",
       "      <td>95.0</td>\n",
       "      <td>202.0</td>\n",
       "      <td>492.0</td>\n",
       "      <td>720.0</td>\n",
       "      <td>NaN</td>\n",
       "      <td>NaN</td>\n",
       "      <td>4</td>\n",
       "    </tr>\n",
       "    <tr>\n",
       "      <th>31</th>\n",
       "      <td>Team 34</td>\n",
       "      <td>9</td>\n",
       "      <td>293.0</td>\n",
       "      <td>346.0</td>\n",
       "      <td>96.0</td>\n",
       "      <td>92.0</td>\n",
       "      <td>158.0</td>\n",
       "      <td>291.0</td>\n",
       "      <td>489.0</td>\n",
       "      <td>NaN</td>\n",
       "      <td>NaN</td>\n",
       "      <td>7</td>\n",
       "    </tr>\n",
       "    <tr>\n",
       "      <th>32</th>\n",
       "      <td>Team 35</td>\n",
       "      <td>11</td>\n",
       "      <td>285.0</td>\n",
       "      <td>334.0</td>\n",
       "      <td>103.0</td>\n",
       "      <td>79.0</td>\n",
       "      <td>152.0</td>\n",
       "      <td>419.0</td>\n",
       "      <td>588.0</td>\n",
       "      <td>NaN</td>\n",
       "      <td>NaN</td>\n",
       "      <td>4</td>\n",
       "    </tr>\n",
       "    <tr>\n",
       "      <th>33</th>\n",
       "      <td>Team 36</td>\n",
       "      <td>7</td>\n",
       "      <td>277.0</td>\n",
       "      <td>270.0</td>\n",
       "      <td>76.0</td>\n",
       "      <td>76.0</td>\n",
       "      <td>118.0</td>\n",
       "      <td>320.0</td>\n",
       "      <td>410.0</td>\n",
       "      <td>NaN</td>\n",
       "      <td>NaN</td>\n",
       "      <td>7</td>\n",
       "    </tr>\n",
       "    <tr>\n",
       "      <th>34</th>\n",
       "      <td>Team 37</td>\n",
       "      <td>6</td>\n",
       "      <td>242.0</td>\n",
       "      <td>228.0</td>\n",
       "      <td>62.0</td>\n",
       "      <td>56.0</td>\n",
       "      <td>110.0</td>\n",
       "      <td>244.0</td>\n",
       "      <td>366.0</td>\n",
       "      <td>NaN</td>\n",
       "      <td>NaN</td>\n",
       "      <td>8</td>\n",
       "    </tr>\n",
       "    <tr>\n",
       "      <th>35</th>\n",
       "      <td>Team 38</td>\n",
       "      <td>9</td>\n",
       "      <td>230.0</td>\n",
       "      <td>282.0</td>\n",
       "      <td>82.0</td>\n",
       "      <td>63.0</td>\n",
       "      <td>137.0</td>\n",
       "      <td>285.0</td>\n",
       "      <td>430.0</td>\n",
       "      <td>NaN</td>\n",
       "      <td>NaN</td>\n",
       "      <td>5</td>\n",
       "    </tr>\n",
       "    <tr>\n",
       "      <th>36</th>\n",
       "      <td>Team 40</td>\n",
       "      <td>5</td>\n",
       "      <td>188.0</td>\n",
       "      <td>186.0</td>\n",
       "      <td>50.0</td>\n",
       "      <td>46.0</td>\n",
       "      <td>90.0</td>\n",
       "      <td>202.0</td>\n",
       "      <td>296.0</td>\n",
       "      <td>NaN</td>\n",
       "      <td>NaN</td>\n",
       "      <td>8</td>\n",
       "    </tr>\n",
       "    <tr>\n",
       "      <th>37</th>\n",
       "      <td>Team 42</td>\n",
       "      <td>6</td>\n",
       "      <td>150.0</td>\n",
       "      <td>180.0</td>\n",
       "      <td>53.0</td>\n",
       "      <td>44.0</td>\n",
       "      <td>83.0</td>\n",
       "      <td>165.0</td>\n",
       "      <td>221.0</td>\n",
       "      <td>NaN</td>\n",
       "      <td>NaN</td>\n",
       "      <td>7</td>\n",
       "    </tr>\n",
       "    <tr>\n",
       "      <th>38</th>\n",
       "      <td>Team 45</td>\n",
       "      <td>7</td>\n",
       "      <td>107.0</td>\n",
       "      <td>130.0</td>\n",
       "      <td>43.0</td>\n",
       "      <td>21.0</td>\n",
       "      <td>66.0</td>\n",
       "      <td>227.0</td>\n",
       "      <td>308.0</td>\n",
       "      <td>NaN</td>\n",
       "      <td>NaN</td>\n",
       "      <td>3</td>\n",
       "    </tr>\n",
       "    <tr>\n",
       "      <th>39</th>\n",
       "      <td>Team 46</td>\n",
       "      <td>3</td>\n",
       "      <td>96.0</td>\n",
       "      <td>114.0</td>\n",
       "      <td>26.0</td>\n",
       "      <td>44.0</td>\n",
       "      <td>44.0</td>\n",
       "      <td>101.0</td>\n",
       "      <td>139.0</td>\n",
       "      <td>NaN</td>\n",
       "      <td>NaN</td>\n",
       "      <td>9</td>\n",
       "    </tr>\n",
       "    <tr>\n",
       "      <th>40</th>\n",
       "      <td>Team 47</td>\n",
       "      <td>4</td>\n",
       "      <td>91.0</td>\n",
       "      <td>116.0</td>\n",
       "      <td>34.0</td>\n",
       "      <td>16.0</td>\n",
       "      <td>66.0</td>\n",
       "      <td>181.0</td>\n",
       "      <td>295.0</td>\n",
       "      <td>NaN</td>\n",
       "      <td>NaN</td>\n",
       "      <td>7</td>\n",
       "    </tr>\n",
       "    <tr>\n",
       "      <th>41</th>\n",
       "      <td>Team 52</td>\n",
       "      <td>4</td>\n",
       "      <td>56.0</td>\n",
       "      <td>72.0</td>\n",
       "      <td>21.0</td>\n",
       "      <td>14.0</td>\n",
       "      <td>37.0</td>\n",
       "      <td>153.0</td>\n",
       "      <td>184.0</td>\n",
       "      <td>NaN</td>\n",
       "      <td>NaN</td>\n",
       "      <td>6</td>\n",
       "    </tr>\n",
       "    <tr>\n",
       "      <th>42</th>\n",
       "      <td>Team 54</td>\n",
       "      <td>3</td>\n",
       "      <td>42.0</td>\n",
       "      <td>54.0</td>\n",
       "      <td>18.0</td>\n",
       "      <td>6.0</td>\n",
       "      <td>30.0</td>\n",
       "      <td>97.0</td>\n",
       "      <td>131.0</td>\n",
       "      <td>NaN</td>\n",
       "      <td>NaN</td>\n",
       "      <td>8</td>\n",
       "    </tr>\n",
       "    <tr>\n",
       "      <th>43</th>\n",
       "      <td>Team 61</td>\n",
       "      <td>1</td>\n",
       "      <td>NaN</td>\n",
       "      <td>NaN</td>\n",
       "      <td>NaN</td>\n",
       "      <td>NaN</td>\n",
       "      <td>NaN</td>\n",
       "      <td>NaN</td>\n",
       "      <td>NaN</td>\n",
       "      <td>NaN</td>\n",
       "      <td>NaN</td>\n",
       "      <td>9</td>\n",
       "    </tr>\n",
       "  </tbody>\n",
       "</table>\n",
       "</div>"
      ],
      "text/plain": [
       "       Team  Tournament   Score  PlayedGames  WonGames  DrawnGames  LostGames  \\\n",
       "0    Team 1          86  4385.0       2762.0    1647.0       552.0      563.0   \n",
       "1    Team 2          86  4262.0       2762.0    1581.0       573.0      608.0   \n",
       "2    Team 3          80  3442.0       2614.0    1241.0       598.0      775.0   \n",
       "3    Team 4          82  3386.0       2664.0    1187.0       616.0      861.0   \n",
       "4    Team 5          86  3368.0       2762.0    1209.0       633.0      920.0   \n",
       "5    Team 6          73  2819.0       2408.0     990.0       531.0      887.0   \n",
       "6    Team 7          82  2792.0       2626.0     948.0       608.0     1070.0   \n",
       "7    Team 8          70  2573.0       2302.0     864.0       577.0      861.0   \n",
       "8    Team 9          58  2109.0       1986.0     698.0       522.0      766.0   \n",
       "9   Team 10          51  1884.0       1728.0     606.0       440.0      682.0   \n",
       "10  Team 11          45  1814.0       1530.0     563.0       392.0      575.0   \n",
       "11  Team 12          51  1789.0       1698.0     586.0       389.0      723.0   \n",
       "12  Team 13          42  1471.0       1466.0     463.0       384.0      619.0   \n",
       "13  Team 14          44  1416.0       1428.0     453.0       336.0      639.0   \n",
       "14  Team 15          43  1389.0       1458.0     471.0       358.0      629.0   \n",
       "15  Team 16          37  1351.0       1318.0     426.0       327.0      565.0   \n",
       "16  Team 17          36  1314.0       1255.0     390.0       330.0      535.0   \n",
       "17  Team 18          38  1174.0       1192.0     408.0       292.0      492.0   \n",
       "18  Team 19          27  1148.0        988.0     333.0       256.0      399.0   \n",
       "19  Team 20          33  1020.0       1096.0     367.0       242.0      487.0   \n",
       "20  Team 21          17   970.0        646.0     266.0       172.0      208.0   \n",
       "21  Team 22          23   667.0        742.0     218.0       175.0      349.0   \n",
       "22  Team 23          17   662.0        652.0     189.0       148.0      305.0   \n",
       "23  Team 24          21   606.0        678.0     203.0       180.0      295.0   \n",
       "24  Team 25          12   553.0        456.0     147.0       112.0      197.0   \n",
       "25  Team 26          20   538.0        628.0     184.0       149.0      295.0   \n",
       "26  Team 27          13   510.0        494.0     155.0       128.0      211.0   \n",
       "27  Team 29          12   421.0        380.0     125.0        81.0      174.0   \n",
       "28  Team 30          11   416.0        402.0     113.0        95.0      194.0   \n",
       "29  Team 31          12   375.0        423.0     123.0       102.0      198.0   \n",
       "30  Team 32          14   353.0        426.0     129.0        95.0      202.0   \n",
       "31  Team 34           9   293.0        346.0      96.0        92.0      158.0   \n",
       "32  Team 35          11   285.0        334.0     103.0        79.0      152.0   \n",
       "33  Team 36           7   277.0        270.0      76.0        76.0      118.0   \n",
       "34  Team 37           6   242.0        228.0      62.0        56.0      110.0   \n",
       "35  Team 38           9   230.0        282.0      82.0        63.0      137.0   \n",
       "36  Team 40           5   188.0        186.0      50.0        46.0       90.0   \n",
       "37  Team 42           6   150.0        180.0      53.0        44.0       83.0   \n",
       "38  Team 45           7   107.0        130.0      43.0        21.0       66.0   \n",
       "39  Team 46           3    96.0        114.0      26.0        44.0       44.0   \n",
       "40  Team 47           4    91.0        116.0      34.0        16.0       66.0   \n",
       "41  Team 52           4    56.0         72.0      21.0        14.0       37.0   \n",
       "42  Team 54           3    42.0         54.0      18.0         6.0       30.0   \n",
       "43  Team 61           1     NaN          NaN       NaN         NaN        NaN   \n",
       "\n",
       "    BasketScored  BasketGiven  TournamentChampion  Runner-up  \\\n",
       "0         5947.0       3140.0                33.0       23.0   \n",
       "1         5900.0       3114.0                25.0       25.0   \n",
       "2         4534.0       3309.0                10.0        8.0   \n",
       "3         4398.0       3469.0                 6.0        6.0   \n",
       "4         4631.0       3700.0                 8.0        7.0   \n",
       "5         3680.0       3373.0                 1.0        4.0   \n",
       "6         3609.0       3889.0                 NaN        NaN   \n",
       "7         3228.0       3230.0                 2.0        3.0   \n",
       "8         2683.0       2847.0                 NaN        1.0   \n",
       "9         2159.0       2492.0                 1.0        NaN   \n",
       "10        2052.0       2188.0                 1.0        5.0   \n",
       "11        2278.0       2624.0                 NaN        NaN   \n",
       "12        1767.0       2180.0                 NaN        NaN   \n",
       "13        1843.0       2368.0                 NaN        1.0   \n",
       "14        1753.0       2152.0                 NaN        1.0   \n",
       "15        1500.0       1834.0                 NaN        NaN   \n",
       "16        1421.0       1763.0                 NaN        NaN   \n",
       "17        1642.0       1951.0                 NaN        NaN   \n",
       "18        1182.0       1371.0                 NaN        NaN   \n",
       "19        1347.0       1746.0                 NaN        1.0   \n",
       "20         892.0        789.0                 NaN        1.0   \n",
       "21         819.0       1157.0                 NaN        NaN   \n",
       "22         760.0       1088.0                 NaN        NaN   \n",
       "23         750.0       1022.0                 NaN        NaN   \n",
       "24         520.0        633.0                 NaN        NaN   \n",
       "25         716.0       1050.0                 NaN        NaN   \n",
       "26         619.0        744.0                 NaN        NaN   \n",
       "27         458.0        623.0                 NaN        NaN   \n",
       "28         430.0        632.0                 NaN        NaN   \n",
       "29         422.0        581.0                 NaN        NaN   \n",
       "30         492.0        720.0                 NaN        NaN   \n",
       "31         291.0        489.0                 NaN        NaN   \n",
       "32         419.0        588.0                 NaN        NaN   \n",
       "33         320.0        410.0                 NaN        NaN   \n",
       "34         244.0        366.0                 NaN        NaN   \n",
       "35         285.0        430.0                 NaN        NaN   \n",
       "36         202.0        296.0                 NaN        NaN   \n",
       "37         165.0        221.0                 NaN        NaN   \n",
       "38         227.0        308.0                 NaN        NaN   \n",
       "39         101.0        139.0                 NaN        NaN   \n",
       "40         181.0        295.0                 NaN        NaN   \n",
       "41         153.0        184.0                 NaN        NaN   \n",
       "42          97.0        131.0                 NaN        NaN   \n",
       "43           NaN          NaN                 NaN        NaN   \n",
       "\n",
       "    HighestPositionHeld  \n",
       "0                     1  \n",
       "1                     1  \n",
       "2                     1  \n",
       "3                     1  \n",
       "4                     1  \n",
       "5                     1  \n",
       "6                     3  \n",
       "7                     1  \n",
       "8                     2  \n",
       "9                     1  \n",
       "10                    1  \n",
       "11                    4  \n",
       "12                    4  \n",
       "13                    2  \n",
       "14                    2  \n",
       "15                    4  \n",
       "16                    4  \n",
       "17                    3  \n",
       "18                    3  \n",
       "19                    2  \n",
       "20                    2  \n",
       "21                    6  \n",
       "22                    8  \n",
       "23                    5  \n",
       "24                    6  \n",
       "25                    5  \n",
       "26                    5  \n",
       "27                    6  \n",
       "28                    6  \n",
       "29                    7  \n",
       "30                    4  \n",
       "31                    7  \n",
       "32                    4  \n",
       "33                    7  \n",
       "34                    8  \n",
       "35                    5  \n",
       "36                    8  \n",
       "37                    7  \n",
       "38                    3  \n",
       "39                    9  \n",
       "40                    7  \n",
       "41                    6  \n",
       "42                    8  \n",
       "43                    9  "
      ]
     },
     "execution_count": 103,
     "metadata": {},
     "output_type": "execute_result"
    }
   ],
   "source": [
    "# we dont need team launch year so dropping it to make our dataframe more crisp\n",
    "new_df.drop(['TeamLaunch'], axis=1, inplace=True )\n",
    "new_df"
   ]
  },
  {
   "cell_type": "markdown",
   "id": "10067644",
   "metadata": {},
   "source": [
    "**we dont have any data for Team 61, so we are dropping it from our \n",
    "dataframe as it has played only 1 tournament so far**\n"
   ]
  },
  {
   "cell_type": "code",
   "execution_count": 104,
   "id": "b68b7c06",
   "metadata": {},
   "outputs": [
    {
     "name": "stderr",
     "output_type": "stream",
     "text": [
      "C:\\Users\\KUMUD .LAPTOP-S0T3F3O8\\anaconda3\\lib\\site-packages\\pandas\\core\\frame.py:4308: SettingWithCopyWarning: \n",
      "A value is trying to be set on a copy of a slice from a DataFrame\n",
      "\n",
      "See the caveats in the documentation: https://pandas.pydata.org/pandas-docs/stable/user_guide/indexing.html#returning-a-view-versus-a-copy\n",
      "  return super().drop(\n"
     ]
    }
   ],
   "source": [
    "new_df.drop(index=[43], inplace= True)\n"
   ]
  },
  {
   "cell_type": "code",
   "execution_count": 105,
   "id": "05325801",
   "metadata": {},
   "outputs": [
    {
     "data": {
      "text/plain": [
       "(43, 12)"
      ]
     },
     "execution_count": 105,
     "metadata": {},
     "output_type": "execute_result"
    }
   ],
   "source": [
    "new_df.shape"
   ]
  },
  {
   "cell_type": "code",
   "execution_count": 106,
   "id": "c11d689c",
   "metadata": {},
   "outputs": [],
   "source": [
    "# adding new column of winning percentage and Basketscore percentage for better understanding\n",
    "Win_Percentage= new_df[\"WonGames\"]/new_df[\"PlayedGames\"]\n",
    "total_basket= new_df[\"BasketGiven\"]+ new_df[\"BasketScored\"]\n",
    "Basket_Percentage= new_df[\"BasketScored\"]/total_basket\n",
    "\n",
    "# We add another column of SpT(Score per tournament)\n",
    "SpT= new_df[\"Score\"]/new_df[\"Tournament\"]"
   ]
  },
  {
   "cell_type": "code",
   "execution_count": 107,
   "id": "f433b198",
   "metadata": {},
   "outputs": [
    {
     "name": "stderr",
     "output_type": "stream",
     "text": [
      "<ipython-input-107-28a5d7012577>:1: SettingWithCopyWarning: \n",
      "A value is trying to be set on a copy of a slice from a DataFrame.\n",
      "Try using .loc[row_indexer,col_indexer] = value instead\n",
      "\n",
      "See the caveats in the documentation: https://pandas.pydata.org/pandas-docs/stable/user_guide/indexing.html#returning-a-view-versus-a-copy\n",
      "  new_df[\"Win_Percentage\"]= Win_Percentage\n",
      "<ipython-input-107-28a5d7012577>:2: SettingWithCopyWarning: \n",
      "A value is trying to be set on a copy of a slice from a DataFrame.\n",
      "Try using .loc[row_indexer,col_indexer] = value instead\n",
      "\n",
      "See the caveats in the documentation: https://pandas.pydata.org/pandas-docs/stable/user_guide/indexing.html#returning-a-view-versus-a-copy\n",
      "  new_df[\"Basket_Percentage\"]= Basket_Percentage\n",
      "<ipython-input-107-28a5d7012577>:3: SettingWithCopyWarning: \n",
      "A value is trying to be set on a copy of a slice from a DataFrame.\n",
      "Try using .loc[row_indexer,col_indexer] = value instead\n",
      "\n",
      "See the caveats in the documentation: https://pandas.pydata.org/pandas-docs/stable/user_guide/indexing.html#returning-a-view-versus-a-copy\n",
      "  new_df[\"SpT\"]= SpT\n"
     ]
    }
   ],
   "source": [
    "new_df[\"Win_Percentage\"]= Win_Percentage\n",
    "new_df[\"Basket_Percentage\"]= Basket_Percentage\n",
    "new_df[\"SpT\"]= SpT"
   ]
  },
  {
   "cell_type": "code",
   "execution_count": 108,
   "id": "86de4aed",
   "metadata": {},
   "outputs": [
    {
     "data": {
      "text/html": [
       "<div>\n",
       "<style scoped>\n",
       "    .dataframe tbody tr th:only-of-type {\n",
       "        vertical-align: middle;\n",
       "    }\n",
       "\n",
       "    .dataframe tbody tr th {\n",
       "        vertical-align: top;\n",
       "    }\n",
       "\n",
       "    .dataframe thead th {\n",
       "        text-align: right;\n",
       "    }\n",
       "</style>\n",
       "<table border=\"1\" class=\"dataframe\">\n",
       "  <thead>\n",
       "    <tr style=\"text-align: right;\">\n",
       "      <th></th>\n",
       "      <th>Team</th>\n",
       "      <th>Tournament</th>\n",
       "      <th>Score</th>\n",
       "      <th>PlayedGames</th>\n",
       "      <th>WonGames</th>\n",
       "      <th>DrawnGames</th>\n",
       "      <th>LostGames</th>\n",
       "      <th>BasketScored</th>\n",
       "      <th>BasketGiven</th>\n",
       "      <th>TournamentChampion</th>\n",
       "      <th>Runner-up</th>\n",
       "      <th>HighestPositionHeld</th>\n",
       "      <th>Win_Percentage</th>\n",
       "      <th>Basket_Percentage</th>\n",
       "      <th>SpT</th>\n",
       "    </tr>\n",
       "  </thead>\n",
       "  <tbody>\n",
       "    <tr>\n",
       "      <th>0</th>\n",
       "      <td>Team 1</td>\n",
       "      <td>86</td>\n",
       "      <td>4385.0</td>\n",
       "      <td>2762.0</td>\n",
       "      <td>1647.0</td>\n",
       "      <td>552.0</td>\n",
       "      <td>563.0</td>\n",
       "      <td>5947.0</td>\n",
       "      <td>3140.0</td>\n",
       "      <td>33.0</td>\n",
       "      <td>23.0</td>\n",
       "      <td>1</td>\n",
       "      <td>0.596307</td>\n",
       "      <td>0.654451</td>\n",
       "      <td>50.988372</td>\n",
       "    </tr>\n",
       "    <tr>\n",
       "      <th>1</th>\n",
       "      <td>Team 2</td>\n",
       "      <td>86</td>\n",
       "      <td>4262.0</td>\n",
       "      <td>2762.0</td>\n",
       "      <td>1581.0</td>\n",
       "      <td>573.0</td>\n",
       "      <td>608.0</td>\n",
       "      <td>5900.0</td>\n",
       "      <td>3114.0</td>\n",
       "      <td>25.0</td>\n",
       "      <td>25.0</td>\n",
       "      <td>1</td>\n",
       "      <td>0.572411</td>\n",
       "      <td>0.654537</td>\n",
       "      <td>49.558140</td>\n",
       "    </tr>\n",
       "    <tr>\n",
       "      <th>2</th>\n",
       "      <td>Team 3</td>\n",
       "      <td>80</td>\n",
       "      <td>3442.0</td>\n",
       "      <td>2614.0</td>\n",
       "      <td>1241.0</td>\n",
       "      <td>598.0</td>\n",
       "      <td>775.0</td>\n",
       "      <td>4534.0</td>\n",
       "      <td>3309.0</td>\n",
       "      <td>10.0</td>\n",
       "      <td>8.0</td>\n",
       "      <td>1</td>\n",
       "      <td>0.474751</td>\n",
       "      <td>0.578095</td>\n",
       "      <td>43.025000</td>\n",
       "    </tr>\n",
       "    <tr>\n",
       "      <th>3</th>\n",
       "      <td>Team 4</td>\n",
       "      <td>82</td>\n",
       "      <td>3386.0</td>\n",
       "      <td>2664.0</td>\n",
       "      <td>1187.0</td>\n",
       "      <td>616.0</td>\n",
       "      <td>861.0</td>\n",
       "      <td>4398.0</td>\n",
       "      <td>3469.0</td>\n",
       "      <td>6.0</td>\n",
       "      <td>6.0</td>\n",
       "      <td>1</td>\n",
       "      <td>0.445571</td>\n",
       "      <td>0.559044</td>\n",
       "      <td>41.292683</td>\n",
       "    </tr>\n",
       "    <tr>\n",
       "      <th>4</th>\n",
       "      <td>Team 5</td>\n",
       "      <td>86</td>\n",
       "      <td>3368.0</td>\n",
       "      <td>2762.0</td>\n",
       "      <td>1209.0</td>\n",
       "      <td>633.0</td>\n",
       "      <td>920.0</td>\n",
       "      <td>4631.0</td>\n",
       "      <td>3700.0</td>\n",
       "      <td>8.0</td>\n",
       "      <td>7.0</td>\n",
       "      <td>1</td>\n",
       "      <td>0.437726</td>\n",
       "      <td>0.555876</td>\n",
       "      <td>39.162791</td>\n",
       "    </tr>\n",
       "  </tbody>\n",
       "</table>\n",
       "</div>"
      ],
      "text/plain": [
       "     Team  Tournament   Score  PlayedGames  WonGames  DrawnGames  LostGames  \\\n",
       "0  Team 1          86  4385.0       2762.0    1647.0       552.0      563.0   \n",
       "1  Team 2          86  4262.0       2762.0    1581.0       573.0      608.0   \n",
       "2  Team 3          80  3442.0       2614.0    1241.0       598.0      775.0   \n",
       "3  Team 4          82  3386.0       2664.0    1187.0       616.0      861.0   \n",
       "4  Team 5          86  3368.0       2762.0    1209.0       633.0      920.0   \n",
       "\n",
       "   BasketScored  BasketGiven  TournamentChampion  Runner-up  \\\n",
       "0        5947.0       3140.0                33.0       23.0   \n",
       "1        5900.0       3114.0                25.0       25.0   \n",
       "2        4534.0       3309.0                10.0        8.0   \n",
       "3        4398.0       3469.0                 6.0        6.0   \n",
       "4        4631.0       3700.0                 8.0        7.0   \n",
       "\n",
       "   HighestPositionHeld  Win_Percentage  Basket_Percentage        SpT  \n",
       "0                    1        0.596307           0.654451  50.988372  \n",
       "1                    1        0.572411           0.654537  49.558140  \n",
       "2                    1        0.474751           0.578095  43.025000  \n",
       "3                    1        0.445571           0.559044  41.292683  \n",
       "4                    1        0.437726           0.555876  39.162791  "
      ]
     },
     "execution_count": 108,
     "metadata": {},
     "output_type": "execute_result"
    }
   ],
   "source": [
    "new_df.head()"
   ]
  },
  {
   "cell_type": "code",
   "execution_count": 109,
   "id": "c13e4195",
   "metadata": {},
   "outputs": [
    {
     "data": {
      "text/html": [
       "<div>\n",
       "<style scoped>\n",
       "    .dataframe tbody tr th:only-of-type {\n",
       "        vertical-align: middle;\n",
       "    }\n",
       "\n",
       "    .dataframe tbody tr th {\n",
       "        vertical-align: top;\n",
       "    }\n",
       "\n",
       "    .dataframe thead th {\n",
       "        text-align: right;\n",
       "    }\n",
       "</style>\n",
       "<table border=\"1\" class=\"dataframe\">\n",
       "  <thead>\n",
       "    <tr style=\"text-align: right;\">\n",
       "      <th></th>\n",
       "      <th>Team</th>\n",
       "      <th>Tournament</th>\n",
       "      <th>Score</th>\n",
       "      <th>PlayedGames</th>\n",
       "      <th>WonGames</th>\n",
       "      <th>DrawnGames</th>\n",
       "      <th>LostGames</th>\n",
       "      <th>BasketScored</th>\n",
       "      <th>BasketGiven</th>\n",
       "      <th>TournamentChampion</th>\n",
       "      <th>Runner-up</th>\n",
       "      <th>HighestPositionHeld</th>\n",
       "      <th>Win_Percentage</th>\n",
       "      <th>Basket_Percentage</th>\n",
       "      <th>SpT</th>\n",
       "    </tr>\n",
       "  </thead>\n",
       "  <tbody>\n",
       "    <tr>\n",
       "      <th>38</th>\n",
       "      <td>Team 45</td>\n",
       "      <td>7</td>\n",
       "      <td>107.0</td>\n",
       "      <td>130.0</td>\n",
       "      <td>43.0</td>\n",
       "      <td>21.0</td>\n",
       "      <td>66.0</td>\n",
       "      <td>227.0</td>\n",
       "      <td>308.0</td>\n",
       "      <td>NaN</td>\n",
       "      <td>NaN</td>\n",
       "      <td>3</td>\n",
       "      <td>0.330769</td>\n",
       "      <td>0.424299</td>\n",
       "      <td>15.285714</td>\n",
       "    </tr>\n",
       "    <tr>\n",
       "      <th>39</th>\n",
       "      <td>Team 46</td>\n",
       "      <td>3</td>\n",
       "      <td>96.0</td>\n",
       "      <td>114.0</td>\n",
       "      <td>26.0</td>\n",
       "      <td>44.0</td>\n",
       "      <td>44.0</td>\n",
       "      <td>101.0</td>\n",
       "      <td>139.0</td>\n",
       "      <td>NaN</td>\n",
       "      <td>NaN</td>\n",
       "      <td>9</td>\n",
       "      <td>0.228070</td>\n",
       "      <td>0.420833</td>\n",
       "      <td>32.000000</td>\n",
       "    </tr>\n",
       "    <tr>\n",
       "      <th>40</th>\n",
       "      <td>Team 47</td>\n",
       "      <td>4</td>\n",
       "      <td>91.0</td>\n",
       "      <td>116.0</td>\n",
       "      <td>34.0</td>\n",
       "      <td>16.0</td>\n",
       "      <td>66.0</td>\n",
       "      <td>181.0</td>\n",
       "      <td>295.0</td>\n",
       "      <td>NaN</td>\n",
       "      <td>NaN</td>\n",
       "      <td>7</td>\n",
       "      <td>0.293103</td>\n",
       "      <td>0.380252</td>\n",
       "      <td>22.750000</td>\n",
       "    </tr>\n",
       "    <tr>\n",
       "      <th>41</th>\n",
       "      <td>Team 52</td>\n",
       "      <td>4</td>\n",
       "      <td>56.0</td>\n",
       "      <td>72.0</td>\n",
       "      <td>21.0</td>\n",
       "      <td>14.0</td>\n",
       "      <td>37.0</td>\n",
       "      <td>153.0</td>\n",
       "      <td>184.0</td>\n",
       "      <td>NaN</td>\n",
       "      <td>NaN</td>\n",
       "      <td>6</td>\n",
       "      <td>0.291667</td>\n",
       "      <td>0.454006</td>\n",
       "      <td>14.000000</td>\n",
       "    </tr>\n",
       "    <tr>\n",
       "      <th>42</th>\n",
       "      <td>Team 54</td>\n",
       "      <td>3</td>\n",
       "      <td>42.0</td>\n",
       "      <td>54.0</td>\n",
       "      <td>18.0</td>\n",
       "      <td>6.0</td>\n",
       "      <td>30.0</td>\n",
       "      <td>97.0</td>\n",
       "      <td>131.0</td>\n",
       "      <td>NaN</td>\n",
       "      <td>NaN</td>\n",
       "      <td>8</td>\n",
       "      <td>0.333333</td>\n",
       "      <td>0.425439</td>\n",
       "      <td>14.000000</td>\n",
       "    </tr>\n",
       "  </tbody>\n",
       "</table>\n",
       "</div>"
      ],
      "text/plain": [
       "       Team  Tournament  Score  PlayedGames  WonGames  DrawnGames  LostGames  \\\n",
       "38  Team 45           7  107.0        130.0      43.0        21.0       66.0   \n",
       "39  Team 46           3   96.0        114.0      26.0        44.0       44.0   \n",
       "40  Team 47           4   91.0        116.0      34.0        16.0       66.0   \n",
       "41  Team 52           4   56.0         72.0      21.0        14.0       37.0   \n",
       "42  Team 54           3   42.0         54.0      18.0         6.0       30.0   \n",
       "\n",
       "    BasketScored  BasketGiven  TournamentChampion  Runner-up  \\\n",
       "38         227.0        308.0                 NaN        NaN   \n",
       "39         101.0        139.0                 NaN        NaN   \n",
       "40         181.0        295.0                 NaN        NaN   \n",
       "41         153.0        184.0                 NaN        NaN   \n",
       "42          97.0        131.0                 NaN        NaN   \n",
       "\n",
       "    HighestPositionHeld  Win_Percentage  Basket_Percentage        SpT  \n",
       "38                    3        0.330769           0.424299  15.285714  \n",
       "39                    9        0.228070           0.420833  32.000000  \n",
       "40                    7        0.293103           0.380252  22.750000  \n",
       "41                    6        0.291667           0.454006  14.000000  \n",
       "42                    8        0.333333           0.425439  14.000000  "
      ]
     },
     "execution_count": 109,
     "metadata": {},
     "output_type": "execute_result"
    }
   ],
   "source": [
    "new_df.tail()"
   ]
  },
  {
   "cell_type": "markdown",
   "id": "8eed01ae",
   "metadata": {},
   "source": [
    "### We apply another condition on the new dataframe to filter better team with more credentials."
   ]
  },
  {
   "cell_type": "code",
   "execution_count": 110,
   "id": "1514b8a1",
   "metadata": {},
   "outputs": [],
   "source": [
    "final_df=new_df[(new_df['Win_Percentage']>=0.35) & (new_df['Basket_Percentage']>=0.35)]"
   ]
  },
  {
   "cell_type": "markdown",
   "id": "1befede8",
   "metadata": {},
   "source": [
    "### We drop columns which are not needed that is playedgames, wongames, basketcored, basketgiven, score, tournament"
   ]
  },
  {
   "cell_type": "code",
   "execution_count": 111,
   "id": "7a7d01b0",
   "metadata": {},
   "outputs": [
    {
     "data": {
      "text/plain": [
       "Index(['Team', 'Tournament', 'Score', 'PlayedGames', 'WonGames', 'DrawnGames',\n",
       "       'LostGames', 'BasketScored', 'BasketGiven', 'TournamentChampion',\n",
       "       'Runner-up', 'HighestPositionHeld', 'Win_Percentage',\n",
       "       'Basket_Percentage', 'SpT'],\n",
       "      dtype='object')"
      ]
     },
     "execution_count": 111,
     "metadata": {},
     "output_type": "execute_result"
    }
   ],
   "source": [
    "final_df.columns"
   ]
  },
  {
   "cell_type": "code",
   "execution_count": 112,
   "id": "7f795d1d",
   "metadata": {},
   "outputs": [
    {
     "name": "stderr",
     "output_type": "stream",
     "text": [
      "C:\\Users\\KUMUD .LAPTOP-S0T3F3O8\\anaconda3\\lib\\site-packages\\pandas\\core\\frame.py:4308: SettingWithCopyWarning: \n",
      "A value is trying to be set on a copy of a slice from a DataFrame\n",
      "\n",
      "See the caveats in the documentation: https://pandas.pydata.org/pandas-docs/stable/user_guide/indexing.html#returning-a-view-versus-a-copy\n",
      "  return super().drop(\n"
     ]
    }
   ],
   "source": [
    "final_df.drop(columns=['Tournament', 'Score', 'PlayedGames','DrawnGames','WonGames', 'LostGames', 'BasketScored','BasketGiven'], axis=1,inplace= True)"
   ]
  },
  {
   "cell_type": "code",
   "execution_count": 113,
   "id": "01ebf78d",
   "metadata": {},
   "outputs": [
    {
     "data": {
      "text/html": [
       "<div>\n",
       "<style scoped>\n",
       "    .dataframe tbody tr th:only-of-type {\n",
       "        vertical-align: middle;\n",
       "    }\n",
       "\n",
       "    .dataframe tbody tr th {\n",
       "        vertical-align: top;\n",
       "    }\n",
       "\n",
       "    .dataframe thead th {\n",
       "        text-align: right;\n",
       "    }\n",
       "</style>\n",
       "<table border=\"1\" class=\"dataframe\">\n",
       "  <thead>\n",
       "    <tr style=\"text-align: right;\">\n",
       "      <th></th>\n",
       "      <th>Team</th>\n",
       "      <th>TournamentChampion</th>\n",
       "      <th>Runner-up</th>\n",
       "      <th>HighestPositionHeld</th>\n",
       "      <th>Win_Percentage</th>\n",
       "      <th>Basket_Percentage</th>\n",
       "      <th>SpT</th>\n",
       "    </tr>\n",
       "  </thead>\n",
       "  <tbody>\n",
       "    <tr>\n",
       "      <th>0</th>\n",
       "      <td>Team 1</td>\n",
       "      <td>33.0</td>\n",
       "      <td>23.0</td>\n",
       "      <td>1</td>\n",
       "      <td>0.596307</td>\n",
       "      <td>0.654451</td>\n",
       "      <td>50.988372</td>\n",
       "    </tr>\n",
       "    <tr>\n",
       "      <th>1</th>\n",
       "      <td>Team 2</td>\n",
       "      <td>25.0</td>\n",
       "      <td>25.0</td>\n",
       "      <td>1</td>\n",
       "      <td>0.572411</td>\n",
       "      <td>0.654537</td>\n",
       "      <td>49.558140</td>\n",
       "    </tr>\n",
       "    <tr>\n",
       "      <th>2</th>\n",
       "      <td>Team 3</td>\n",
       "      <td>10.0</td>\n",
       "      <td>8.0</td>\n",
       "      <td>1</td>\n",
       "      <td>0.474751</td>\n",
       "      <td>0.578095</td>\n",
       "      <td>43.025000</td>\n",
       "    </tr>\n",
       "    <tr>\n",
       "      <th>3</th>\n",
       "      <td>Team 4</td>\n",
       "      <td>6.0</td>\n",
       "      <td>6.0</td>\n",
       "      <td>1</td>\n",
       "      <td>0.445571</td>\n",
       "      <td>0.559044</td>\n",
       "      <td>41.292683</td>\n",
       "    </tr>\n",
       "    <tr>\n",
       "      <th>4</th>\n",
       "      <td>Team 5</td>\n",
       "      <td>8.0</td>\n",
       "      <td>7.0</td>\n",
       "      <td>1</td>\n",
       "      <td>0.437726</td>\n",
       "      <td>0.555876</td>\n",
       "      <td>39.162791</td>\n",
       "    </tr>\n",
       "    <tr>\n",
       "      <th>5</th>\n",
       "      <td>Team 6</td>\n",
       "      <td>1.0</td>\n",
       "      <td>4.0</td>\n",
       "      <td>1</td>\n",
       "      <td>0.411130</td>\n",
       "      <td>0.521764</td>\n",
       "      <td>38.616438</td>\n",
       "    </tr>\n",
       "    <tr>\n",
       "      <th>6</th>\n",
       "      <td>Team 7</td>\n",
       "      <td>NaN</td>\n",
       "      <td>NaN</td>\n",
       "      <td>3</td>\n",
       "      <td>0.361005</td>\n",
       "      <td>0.481328</td>\n",
       "      <td>34.048780</td>\n",
       "    </tr>\n",
       "    <tr>\n",
       "      <th>7</th>\n",
       "      <td>Team 8</td>\n",
       "      <td>2.0</td>\n",
       "      <td>3.0</td>\n",
       "      <td>1</td>\n",
       "      <td>0.375326</td>\n",
       "      <td>0.499845</td>\n",
       "      <td>36.757143</td>\n",
       "    </tr>\n",
       "    <tr>\n",
       "      <th>8</th>\n",
       "      <td>Team 9</td>\n",
       "      <td>NaN</td>\n",
       "      <td>1.0</td>\n",
       "      <td>2</td>\n",
       "      <td>0.351460</td>\n",
       "      <td>0.485172</td>\n",
       "      <td>36.362069</td>\n",
       "    </tr>\n",
       "    <tr>\n",
       "      <th>9</th>\n",
       "      <td>Team 10</td>\n",
       "      <td>1.0</td>\n",
       "      <td>NaN</td>\n",
       "      <td>1</td>\n",
       "      <td>0.350694</td>\n",
       "      <td>0.464201</td>\n",
       "      <td>36.941176</td>\n",
       "    </tr>\n",
       "    <tr>\n",
       "      <th>10</th>\n",
       "      <td>Team 11</td>\n",
       "      <td>1.0</td>\n",
       "      <td>5.0</td>\n",
       "      <td>1</td>\n",
       "      <td>0.367974</td>\n",
       "      <td>0.483962</td>\n",
       "      <td>40.311111</td>\n",
       "    </tr>\n",
       "    <tr>\n",
       "      <th>20</th>\n",
       "      <td>Team 21</td>\n",
       "      <td>NaN</td>\n",
       "      <td>1.0</td>\n",
       "      <td>2</td>\n",
       "      <td>0.411765</td>\n",
       "      <td>0.530637</td>\n",
       "      <td>57.058824</td>\n",
       "    </tr>\n",
       "  </tbody>\n",
       "</table>\n",
       "</div>"
      ],
      "text/plain": [
       "       Team  TournamentChampion  Runner-up  HighestPositionHeld  \\\n",
       "0    Team 1                33.0       23.0                    1   \n",
       "1    Team 2                25.0       25.0                    1   \n",
       "2    Team 3                10.0        8.0                    1   \n",
       "3    Team 4                 6.0        6.0                    1   \n",
       "4    Team 5                 8.0        7.0                    1   \n",
       "5    Team 6                 1.0        4.0                    1   \n",
       "6    Team 7                 NaN        NaN                    3   \n",
       "7    Team 8                 2.0        3.0                    1   \n",
       "8    Team 9                 NaN        1.0                    2   \n",
       "9   Team 10                 1.0        NaN                    1   \n",
       "10  Team 11                 1.0        5.0                    1   \n",
       "20  Team 21                 NaN        1.0                    2   \n",
       "\n",
       "    Win_Percentage  Basket_Percentage        SpT  \n",
       "0         0.596307           0.654451  50.988372  \n",
       "1         0.572411           0.654537  49.558140  \n",
       "2         0.474751           0.578095  43.025000  \n",
       "3         0.445571           0.559044  41.292683  \n",
       "4         0.437726           0.555876  39.162791  \n",
       "5         0.411130           0.521764  38.616438  \n",
       "6         0.361005           0.481328  34.048780  \n",
       "7         0.375326           0.499845  36.757143  \n",
       "8         0.351460           0.485172  36.362069  \n",
       "9         0.350694           0.464201  36.941176  \n",
       "10        0.367974           0.483962  40.311111  \n",
       "20        0.411765           0.530637  57.058824  "
      ]
     },
     "execution_count": 113,
     "metadata": {},
     "output_type": "execute_result"
    }
   ],
   "source": [
    "final_df"
   ]
  },
  {
   "cell_type": "code",
   "execution_count": null,
   "id": "0b446aa5",
   "metadata": {},
   "outputs": [],
   "source": []
  },
  {
   "cell_type": "code",
   "execution_count": 114,
   "id": "657f84ba",
   "metadata": {},
   "outputs": [
    {
     "name": "stderr",
     "output_type": "stream",
     "text": [
      "C:\\Users\\KUMUD .LAPTOP-S0T3F3O8\\anaconda3\\lib\\site-packages\\seaborn\\_decorators.py:36: FutureWarning: Pass the following variables as keyword args: x, y. From version 0.12, the only valid positional argument will be `data`, and passing other arguments without an explicit keyword will result in an error or misinterpretation.\n",
      "  warnings.warn(\n"
     ]
    },
    {
     "data": {
      "image/png": "[encoded data removed]",
      "text/plain": [
       "<Figure size 432x288 with 1 Axes>"
      ]
     },
     "metadata": {
      "needs_background": "light"
     },
     "output_type": "display_data"
    }
   ],
   "source": [
    "sns.barplot(final_df[\"Team\"], final_df[\"Win_Percentage\"])\n",
    "plt.xticks(rotation=90)\n",
    "plt.show()"
   ]
  },
  {
   "cell_type": "code",
   "execution_count": 115,
   "id": "b5175875",
   "metadata": {},
   "outputs": [
    {
     "name": "stderr",
     "output_type": "stream",
     "text": [
      "C:\\Users\\KUMUD .LAPTOP-S0T3F3O8\\anaconda3\\lib\\site-packages\\seaborn\\_decorators.py:36: FutureWarning: Pass the following variables as keyword args: x, y. From version 0.12, the only valid positional argument will be `data`, and passing other arguments without an explicit keyword will result in an error or misinterpretation.\n",
      "  warnings.warn(\n"
     ]
    },
    {
     "data": {
      "image/png": "[encoded data removed]",
      "text/plain": [
       "<Figure size 432x288 with 1 Axes>"
      ]
     },
     "metadata": {
      "needs_background": "light"
     },
     "output_type": "display_data"
    }
   ],
   "source": [
    "sns.barplot(final_df[\"Team\"], final_df[\"Basket_Percentage\"])\n",
    "plt.xticks(rotation=90)\n",
    "plt.show()"
   ]
  },
  {
   "cell_type": "code",
   "execution_count": 116,
   "id": "81f1f445",
   "metadata": {},
   "outputs": [
    {
     "name": "stderr",
     "output_type": "stream",
     "text": [
      "C:\\Users\\KUMUD .LAPTOP-S0T3F3O8\\anaconda3\\lib\\site-packages\\seaborn\\_decorators.py:36: FutureWarning: Pass the following variables as keyword args: x, y. From version 0.12, the only valid positional argument will be `data`, and passing other arguments without an explicit keyword will result in an error or misinterpretation.\n",
      "  warnings.warn(\n"
     ]
    },
    {
     "data": {
      "image/png": "[encoded data removed]",
      "text/plain": [
       "<Figure size 432x288 with 1 Axes>"
      ]
     },
     "metadata": {
      "needs_background": "light"
     },
     "output_type": "display_data"
    }
   ],
   "source": [
    "sns.barplot(final_df[\"Team\"], final_df[\"SpT\"])\n",
    "plt.xticks(rotation=90)\n",
    "plt.show()"
   ]
  },
  {
   "cell_type": "code",
   "execution_count": 117,
   "id": "941436c8",
   "metadata": {},
   "outputs": [
    {
     "data": {
      "text/html": [
       "<div>\n",
       "<style scoped>\n",
       "    .dataframe tbody tr th:only-of-type {\n",
       "        vertical-align: middle;\n",
       "    }\n",
       "\n",
       "    .dataframe tbody tr th {\n",
       "        vertical-align: top;\n",
       "    }\n",
       "\n",
       "    .dataframe thead th {\n",
       "        text-align: right;\n",
       "    }\n",
       "</style>\n",
       "<table border=\"1\" class=\"dataframe\">\n",
       "  <thead>\n",
       "    <tr style=\"text-align: right;\">\n",
       "      <th></th>\n",
       "      <th>Team</th>\n",
       "      <th>TournamentChampion</th>\n",
       "      <th>Runner-up</th>\n",
       "      <th>HighestPositionHeld</th>\n",
       "      <th>Win_Percentage</th>\n",
       "      <th>Basket_Percentage</th>\n",
       "      <th>SpT</th>\n",
       "    </tr>\n",
       "  </thead>\n",
       "  <tbody>\n",
       "    <tr>\n",
       "      <th>0</th>\n",
       "      <td>Team 1</td>\n",
       "      <td>33.0</td>\n",
       "      <td>23.0</td>\n",
       "      <td>1</td>\n",
       "      <td>0.596307</td>\n",
       "      <td>0.654451</td>\n",
       "      <td>50.988372</td>\n",
       "    </tr>\n",
       "    <tr>\n",
       "      <th>1</th>\n",
       "      <td>Team 2</td>\n",
       "      <td>25.0</td>\n",
       "      <td>25.0</td>\n",
       "      <td>1</td>\n",
       "      <td>0.572411</td>\n",
       "      <td>0.654537</td>\n",
       "      <td>49.558140</td>\n",
       "    </tr>\n",
       "    <tr>\n",
       "      <th>2</th>\n",
       "      <td>Team 3</td>\n",
       "      <td>10.0</td>\n",
       "      <td>8.0</td>\n",
       "      <td>1</td>\n",
       "      <td>0.474751</td>\n",
       "      <td>0.578095</td>\n",
       "      <td>43.025000</td>\n",
       "    </tr>\n",
       "    <tr>\n",
       "      <th>3</th>\n",
       "      <td>Team 4</td>\n",
       "      <td>6.0</td>\n",
       "      <td>6.0</td>\n",
       "      <td>1</td>\n",
       "      <td>0.445571</td>\n",
       "      <td>0.559044</td>\n",
       "      <td>41.292683</td>\n",
       "    </tr>\n",
       "    <tr>\n",
       "      <th>4</th>\n",
       "      <td>Team 5</td>\n",
       "      <td>8.0</td>\n",
       "      <td>7.0</td>\n",
       "      <td>1</td>\n",
       "      <td>0.437726</td>\n",
       "      <td>0.555876</td>\n",
       "      <td>39.162791</td>\n",
       "    </tr>\n",
       "  </tbody>\n",
       "</table>\n",
       "</div>"
      ],
      "text/plain": [
       "     Team  TournamentChampion  Runner-up  HighestPositionHeld  Win_Percentage  \\\n",
       "0  Team 1                33.0       23.0                    1        0.596307   \n",
       "1  Team 2                25.0       25.0                    1        0.572411   \n",
       "2  Team 3                10.0        8.0                    1        0.474751   \n",
       "3  Team 4                 6.0        6.0                    1        0.445571   \n",
       "4  Team 5                 8.0        7.0                    1        0.437726   \n",
       "\n",
       "   Basket_Percentage        SpT  \n",
       "0           0.654451  50.988372  \n",
       "1           0.654537  49.558140  \n",
       "2           0.578095  43.025000  \n",
       "3           0.559044  41.292683  \n",
       "4           0.555876  39.162791  "
      ]
     },
     "execution_count": 117,
     "metadata": {},
     "output_type": "execute_result"
    }
   ],
   "source": [
    "final_df1= final_df.head(5)\n",
    "final_df1"
   ]
  },
  {
   "cell_type": "code",
   "execution_count": 118,
   "id": "eac35a7c",
   "metadata": {},
   "outputs": [
    {
     "data": {
      "image/png": "[encoded data removed]",
      "text/plain": [
       "<Figure size 1151.62x1080 with 42 Axes>"
      ]
     },
     "metadata": {
      "needs_background": "light"
     },
     "output_type": "display_data"
    }
   ],
   "source": [
    "sns.pairplot(final_df1, markers='v', diag_kind= 'hist', palette= 'bright', hue='Team')\n",
    "plt.show()"
   ]
  },
  {
   "cell_type": "code",
   "execution_count": 119,
   "id": "f2a86b13",
   "metadata": {},
   "outputs": [
    {
     "name": "stderr",
     "output_type": "stream",
     "text": [
      "C:\\Users\\KUMUD .LAPTOP-S0T3F3O8\\anaconda3\\lib\\site-packages\\seaborn\\_decorators.py:36: FutureWarning: Pass the following variables as keyword args: x, y. From version 0.12, the only valid positional argument will be `data`, and passing other arguments without an explicit keyword will result in an error or misinterpretation.\n",
      "  warnings.warn(\n"
     ]
    },
    {
     "data": {
      "image/png": "[encoded data removed]",
      "text/plain": [
       "<Figure size 432x288 with 1 Axes>"
      ]
     },
     "metadata": {
      "needs_background": "light"
     },
     "output_type": "display_data"
    }
   ],
   "source": [
    "sns.barplot(final_df1[\"Team\"], final_df1[\"TournamentChampion\"])\n",
    "plt.xticks(rotation=90)\n",
    "plt.show()"
   ]
  },
  {
   "cell_type": "code",
   "execution_count": 120,
   "id": "ff0ae605",
   "metadata": {},
   "outputs": [
    {
     "name": "stderr",
     "output_type": "stream",
     "text": [
      "C:\\Users\\KUMUD .LAPTOP-S0T3F3O8\\anaconda3\\lib\\site-packages\\seaborn\\_decorators.py:36: FutureWarning: Pass the following variables as keyword args: x, y. From version 0.12, the only valid positional argument will be `data`, and passing other arguments without an explicit keyword will result in an error or misinterpretation.\n",
      "  warnings.warn(\n"
     ]
    },
    {
     "data": {
      "image/png": "[encoded data removed]",
      "text/plain": [
       "<Figure size 432x288 with 1 Axes>"
      ]
     },
     "metadata": {
      "needs_background": "light"
     },
     "output_type": "display_data"
    }
   ],
   "source": [
    "sns.barplot(final_df1[\"Team\"], final_df1[\"Runner-up\"])\n",
    "plt.xticks(rotation=90)\n",
    "plt.show()"
   ]
  },
  {
   "cell_type": "code",
   "execution_count": 121,
   "id": "b24ab875",
   "metadata": {},
   "outputs": [
    {
     "name": "stderr",
     "output_type": "stream",
     "text": [
      "C:\\Users\\KUMUD .LAPTOP-S0T3F3O8\\anaconda3\\lib\\site-packages\\seaborn\\_decorators.py:36: FutureWarning: Pass the following variables as keyword args: x, y. From version 0.12, the only valid positional argument will be `data`, and passing other arguments without an explicit keyword will result in an error or misinterpretation.\n",
      "  warnings.warn(\n"
     ]
    },
    {
     "data": {
      "image/png": "[encoded data removed]",
      "text/plain": [
       "<Figure size 432x288 with 1 Axes>"
      ]
     },
     "metadata": {
      "needs_background": "light"
     },
     "output_type": "display_data"
    }
   ],
   "source": [
    "sns.barplot(final_df1[\"Team\"], final_df1[\"Win_Percentage\"])\n",
    "plt.xticks(rotation=90)\n",
    "plt.show()"
   ]
  },
  {
   "cell_type": "code",
   "execution_count": 122,
   "id": "37086375",
   "metadata": {},
   "outputs": [
    {
     "name": "stderr",
     "output_type": "stream",
     "text": [
      "C:\\Users\\KUMUD .LAPTOP-S0T3F3O8\\anaconda3\\lib\\site-packages\\seaborn\\_decorators.py:36: FutureWarning: Pass the following variables as keyword args: x, y. From version 0.12, the only valid positional argument will be `data`, and passing other arguments without an explicit keyword will result in an error or misinterpretation.\n",
      "  warnings.warn(\n"
     ]
    },
    {
     "data": {
      "image/png": "[encoded data removed]",
      "text/plain": [
       "<Figure size 432x288 with 1 Axes>"
      ]
     },
     "metadata": {
      "needs_background": "light"
     },
     "output_type": "display_data"
    }
   ],
   "source": [
    "sns.barplot(final_df1[\"Team\"], final_df1[\"Basket_Percentage\"])\n",
    "plt.xticks(rotation=90)\n",
    "plt.show()"
   ]
  },
  {
   "cell_type": "code",
   "execution_count": 123,
   "id": "a74b7cea",
   "metadata": {},
   "outputs": [
    {
     "name": "stderr",
     "output_type": "stream",
     "text": [
      "C:\\Users\\KUMUD .LAPTOP-S0T3F3O8\\anaconda3\\lib\\site-packages\\seaborn\\_decorators.py:36: FutureWarning: Pass the following variables as keyword args: x, y. From version 0.12, the only valid positional argument will be `data`, and passing other arguments without an explicit keyword will result in an error or misinterpretation.\n",
      "  warnings.warn(\n"
     ]
    },
    {
     "data": {
      "image/png": "[encoded data removed]",
      "text/plain": [
       "<Figure size 432x288 with 1 Axes>"
      ]
     },
     "metadata": {
      "needs_background": "light"
     },
     "output_type": "display_data"
    }
   ],
   "source": [
    "sns.barplot(final_df1[\"Team\"], final_df1[\"SpT\"])\n",
    "plt.xticks(rotation=90)\n",
    "plt.show()"
   ]
  },
  {
   "cell_type": "markdown",
   "id": "e7f99779",
   "metadata": {},
   "source": [
    "## Summary of Steps Followed:\n"
   ]
  },
  {
   "cell_type": "raw",
   "id": "0385ffea",
   "metadata": {},
   "source": [
    "1. After doing univariate and bivariate analysis, a new dataframe is created from the original   \n",
    "   DataFrame.\n",
    "2. Teams which have held positions less than ten, were selected in this dataframe.\n",
    "3. we dont have any data for Team 61, so we dropped it from our dataframe as it has played \n",
    "   only 1 tournament so far.\n",
    "4. Three new columns are added in this new dataframe: \n",
    "    * Win_Percentage = WonGames/Playedgames\n",
    "    * Basket_Percentage= (BasketScored)/(BasketGiven + basketScored)\n",
    "    * SpT= (Score)/(Tournament)\n",
    "5. These three new columns are the indicator of top performances by any team.\n",
    "6. SpT is calculated because Teams have played unequal tournaments, to make information more precise.\n",
    "7. SpT is an indicator of Score per tournament of a team.\n",
    "8. A new condition is applied on this dataframe, Win_Percentage>=0.35, Basket_Percentage>=0.35. Those    teams which have both these parameters above 0.35 is saved. \n",
    "9. Most of the columns which were not required were dropped from this dataset. These columns were\n",
    "   mainly 'Tournament', 'Score', 'PlayedGames','DrawnGames','WonGames', 'LostGames', 'BasketScored',\n",
    "   'BasketGiven'. \n",
    "10. After plotting the data, top 5 teams were selected on the basis of Win percentage, Basket scored, \n",
    "    and scores per tournament.\n",
    "11. Team 1, team 2, team 3, Team 4, Team 5 are the top performers.\n",
    "12. Although team 21 has highest SpT (0.57), it is not selected because of the winning percentage and \n",
    "    baskets scored.\n",
    "13. Team 55,58,59,60 are the worst performers as per the Highestposition held and score of the   \n",
    "    tournament."
   ]
  },
  {
   "cell_type": "raw",
   "id": "1757f66a",
   "metadata": {},
   "source": []
  },
  {
   "cell_type": "markdown",
   "id": "5efe0ef8",
   "metadata": {},
   "source": [
    "## Conclusion: "
   ]
  },
  {
   "cell_type": "raw",
   "id": "29b5c41d",
   "metadata": {},
   "source": [
    " As per the analysis done, following points can be concluded:\n",
    " \n",
    "        * Team 1, Team 2, Team 3, Team 4, Team 5 are the oldest teams.\n",
    "        * Winning percentage of Team 1 & team 2 is 50%.\n",
    "        * Team 1 , Team 2 and Team 3 have basket score percentage of more than 50%. \n",
    "        * Team 1 has highest score per tournament. \n",
    "        * These 5 teams have played more number of tournaments and have a lot of experience.\n",
    "        * These teams should be Bet on for a deal. \n",
    "        \n",
    "        \n",
    "        "
   ]
  },
  {
   "cell_type": "markdown",
   "id": "230a984f",
   "metadata": {},
   "source": [
    "## Future Improvements"
   ]
  },
  {
   "cell_type": "raw",
   "id": "521fc344",
   "metadata": {},
   "source": [
    "Following points must be kept in mind for future data collection:\n",
    "    * The dataset lacks information regarding which teams have exited from the tournament. \n",
    "    * No clear picture whether the old teams which have played 1 or 2 tournaments are still \n",
    "      continuing or not.\n",
    "    * No idea about how many tournaments have been played so far. \n",
    "    * What is the maximum score and scale of giving scores to the teams ?\n",
    "    * More variety can be added to the dataset. example- last ten years performance of the teams\n",
    "    * Not clear information about the games won. We dont know how a team is performing for the last \n",
    "      few years. In a sports analysis, current few years data is very crucial. If a team has \n",
    "      performed very well in the beginning years but from the last few years they are continuously \n",
    "      loosing.\n",
    "    * The team launch year should be provided in a single year rather than a year period. example:\n",
    "      1995 not as 1995to96, or 1995-96. One format should be followed while collecting data.\n",
    "    * Null values in the dataset should be recorded properly rather than using '-' symbol, NaN can be       written. \n",
    "      \n",
    "    "
   ]
  },
  {
   "cell_type": "markdown",
   "id": "470365e3",
   "metadata": {},
   "source": [
    "# PART-C"
   ]
  },
  {
   "cell_type": "code",
   "execution_count": 124,
   "id": "df609d2f",
   "metadata": {},
   "outputs": [
    {
     "data": {
      "text/html": [
       "<div>\n",
       "<style scoped>\n",
       "    .dataframe tbody tr th:only-of-type {\n",
       "        vertical-align: middle;\n",
       "    }\n",
       "\n",
       "    .dataframe tbody tr th {\n",
       "        vertical-align: top;\n",
       "    }\n",
       "\n",
       "    .dataframe thead th {\n",
       "        text-align: right;\n",
       "    }\n",
       "</style>\n",
       "<table border=\"1\" class=\"dataframe\">\n",
       "  <thead>\n",
       "    <tr style=\"text-align: right;\">\n",
       "      <th></th>\n",
       "      <th>Startup</th>\n",
       "      <th>Product</th>\n",
       "      <th>Funding</th>\n",
       "      <th>Event</th>\n",
       "      <th>Result</th>\n",
       "      <th>OperatingState</th>\n",
       "    </tr>\n",
       "  </thead>\n",
       "  <tbody>\n",
       "    <tr>\n",
       "      <th>0</th>\n",
       "      <td>2600Hz</td>\n",
       "      <td>2600hz.com</td>\n",
       "      <td>NaN</td>\n",
       "      <td>Disrupt SF 2013</td>\n",
       "      <td>Contestant</td>\n",
       "      <td>Operating</td>\n",
       "    </tr>\n",
       "    <tr>\n",
       "      <th>1</th>\n",
       "      <td>3DLT</td>\n",
       "      <td>3dlt.com</td>\n",
       "      <td>$630K</td>\n",
       "      <td>Disrupt NYC 2013</td>\n",
       "      <td>Contestant</td>\n",
       "      <td>Closed</td>\n",
       "    </tr>\n",
       "    <tr>\n",
       "      <th>2</th>\n",
       "      <td>3DPrinterOS</td>\n",
       "      <td>3dprinteros.com</td>\n",
       "      <td>NaN</td>\n",
       "      <td>Disrupt SF 2016</td>\n",
       "      <td>Contestant</td>\n",
       "      <td>Operating</td>\n",
       "    </tr>\n",
       "    <tr>\n",
       "      <th>3</th>\n",
       "      <td>3Dprintler</td>\n",
       "      <td>3dprintler.com</td>\n",
       "      <td>$1M</td>\n",
       "      <td>Disrupt NY 2016</td>\n",
       "      <td>Audience choice</td>\n",
       "      <td>Operating</td>\n",
       "    </tr>\n",
       "    <tr>\n",
       "      <th>4</th>\n",
       "      <td>42 Technologies</td>\n",
       "      <td>42technologies.com</td>\n",
       "      <td>NaN</td>\n",
       "      <td>Disrupt NYC 2013</td>\n",
       "      <td>Contestant</td>\n",
       "      <td>Operating</td>\n",
       "    </tr>\n",
       "    <tr>\n",
       "      <th>...</th>\n",
       "      <td>...</td>\n",
       "      <td>...</td>\n",
       "      <td>...</td>\n",
       "      <td>...</td>\n",
       "      <td>...</td>\n",
       "      <td>...</td>\n",
       "    </tr>\n",
       "    <tr>\n",
       "      <th>657</th>\n",
       "      <td>Zivity</td>\n",
       "      <td>zivity.com</td>\n",
       "      <td>$8M</td>\n",
       "      <td>TC40 2007</td>\n",
       "      <td>Contestant</td>\n",
       "      <td>Operating</td>\n",
       "    </tr>\n",
       "    <tr>\n",
       "      <th>658</th>\n",
       "      <td>Zmorph</td>\n",
       "      <td>zmorph3d.com</td>\n",
       "      <td>$1M</td>\n",
       "      <td>-</td>\n",
       "      <td>Audience choice</td>\n",
       "      <td>Operating</td>\n",
       "    </tr>\n",
       "    <tr>\n",
       "      <th>659</th>\n",
       "      <td>Zocdoc</td>\n",
       "      <td>zocdoc.com</td>\n",
       "      <td>$223M</td>\n",
       "      <td>TC40 2007</td>\n",
       "      <td>Contestant</td>\n",
       "      <td>Operating</td>\n",
       "    </tr>\n",
       "    <tr>\n",
       "      <th>660</th>\n",
       "      <td>Zula</td>\n",
       "      <td>zulaapp.com</td>\n",
       "      <td>$3.4M</td>\n",
       "      <td>Disrupt SF 2013</td>\n",
       "      <td>Audience choice</td>\n",
       "      <td>Operating</td>\n",
       "    </tr>\n",
       "    <tr>\n",
       "      <th>661</th>\n",
       "      <td>Zumper</td>\n",
       "      <td>zumper.com</td>\n",
       "      <td>$31.5M</td>\n",
       "      <td>Disrupt SF 2012</td>\n",
       "      <td>Finalist</td>\n",
       "      <td>Operating</td>\n",
       "    </tr>\n",
       "  </tbody>\n",
       "</table>\n",
       "<p>662 rows × 6 columns</p>\n",
       "</div>"
      ],
      "text/plain": [
       "             Startup             Product Funding             Event  \\\n",
       "0             2600Hz          2600hz.com     NaN   Disrupt SF 2013   \n",
       "1               3DLT            3dlt.com   $630K  Disrupt NYC 2013   \n",
       "2        3DPrinterOS     3dprinteros.com     NaN   Disrupt SF 2016   \n",
       "3         3Dprintler      3dprintler.com     $1M   Disrupt NY 2016   \n",
       "4    42 Technologies  42technologies.com     NaN  Disrupt NYC 2013   \n",
       "..               ...                 ...     ...               ...   \n",
       "657           Zivity          zivity.com     $8M         TC40 2007   \n",
       "658           Zmorph        zmorph3d.com     $1M                 -   \n",
       "659           Zocdoc          zocdoc.com   $223M         TC40 2007   \n",
       "660             Zula         zulaapp.com   $3.4M   Disrupt SF 2013   \n",
       "661           Zumper          zumper.com  $31.5M   Disrupt SF 2012   \n",
       "\n",
       "              Result OperatingState  \n",
       "0         Contestant      Operating  \n",
       "1         Contestant         Closed  \n",
       "2         Contestant      Operating  \n",
       "3    Audience choice      Operating  \n",
       "4         Contestant      Operating  \n",
       "..               ...            ...  \n",
       "657       Contestant      Operating  \n",
       "658  Audience choice      Operating  \n",
       "659       Contestant      Operating  \n",
       "660  Audience choice      Operating  \n",
       "661         Finalist      Operating  \n",
       "\n",
       "[662 rows x 6 columns]"
      ]
     },
     "execution_count": 124,
     "metadata": {},
     "output_type": "execute_result"
    }
   ],
   "source": [
    "start= pd.read_csv(\"CompanyX_EU.csv\")\n",
    "start"
   ]
  },
  {
   "cell_type": "code",
   "execution_count": 125,
   "id": "f2fc0a02",
   "metadata": {},
   "outputs": [
    {
     "data": {
      "text/plain": [
       "(662, 6)"
      ]
     },
     "execution_count": 125,
     "metadata": {},
     "output_type": "execute_result"
    }
   ],
   "source": [
    "start.shape"
   ]
  },
  {
   "cell_type": "markdown",
   "id": "1dce6ee2",
   "metadata": {},
   "source": [
    "### Datatypes of each attribute"
   ]
  },
  {
   "cell_type": "code",
   "execution_count": 126,
   "id": "06e52c24",
   "metadata": {},
   "outputs": [
    {
     "data": {
      "text/html": [
       "<div>\n",
       "<style scoped>\n",
       "    .dataframe tbody tr th:only-of-type {\n",
       "        vertical-align: middle;\n",
       "    }\n",
       "\n",
       "    .dataframe tbody tr th {\n",
       "        vertical-align: top;\n",
       "    }\n",
       "\n",
       "    .dataframe thead th {\n",
       "        text-align: right;\n",
       "    }\n",
       "</style>\n",
       "<table border=\"1\" class=\"dataframe\">\n",
       "  <thead>\n",
       "    <tr style=\"text-align: right;\">\n",
       "      <th></th>\n",
       "      <th>Startup</th>\n",
       "      <th>Product</th>\n",
       "      <th>Funding</th>\n",
       "      <th>Event</th>\n",
       "      <th>Result</th>\n",
       "      <th>OperatingState</th>\n",
       "    </tr>\n",
       "  </thead>\n",
       "  <tbody>\n",
       "    <tr>\n",
       "      <th>0</th>\n",
       "      <td>object</td>\n",
       "      <td>object</td>\n",
       "      <td>object</td>\n",
       "      <td>object</td>\n",
       "      <td>object</td>\n",
       "      <td>object</td>\n",
       "    </tr>\n",
       "  </tbody>\n",
       "</table>\n",
       "</div>"
      ],
      "text/plain": [
       "  Startup Product Funding   Event  Result OperatingState\n",
       "0  object  object  object  object  object         object"
      ]
     },
     "execution_count": 126,
     "metadata": {},
     "output_type": "execute_result"
    }
   ],
   "source": [
    "daf= pd.DataFrame(start.dtypes)\n",
    "daf.T"
   ]
  },
  {
   "cell_type": "markdown",
   "id": "e98c2f82",
   "metadata": {},
   "source": [
    "### Checking null values "
   ]
  },
  {
   "cell_type": "code",
   "execution_count": 127,
   "id": "0cfb6068",
   "metadata": {},
   "outputs": [
    {
     "data": {
      "text/html": [
       "<div>\n",
       "<style scoped>\n",
       "    .dataframe tbody tr th:only-of-type {\n",
       "        vertical-align: middle;\n",
       "    }\n",
       "\n",
       "    .dataframe tbody tr th {\n",
       "        vertical-align: top;\n",
       "    }\n",
       "\n",
       "    .dataframe thead th {\n",
       "        text-align: right;\n",
       "    }\n",
       "</style>\n",
       "<table border=\"1\" class=\"dataframe\">\n",
       "  <thead>\n",
       "    <tr style=\"text-align: right;\">\n",
       "      <th></th>\n",
       "      <th>Startup</th>\n",
       "      <th>Product</th>\n",
       "      <th>Funding</th>\n",
       "      <th>Event</th>\n",
       "      <th>Result</th>\n",
       "      <th>OperatingState</th>\n",
       "    </tr>\n",
       "  </thead>\n",
       "  <tbody>\n",
       "    <tr>\n",
       "      <th>0</th>\n",
       "      <td>0</td>\n",
       "      <td>6</td>\n",
       "      <td>214</td>\n",
       "      <td>0</td>\n",
       "      <td>0</td>\n",
       "      <td>0</td>\n",
       "    </tr>\n",
       "  </tbody>\n",
       "</table>\n",
       "</div>"
      ],
      "text/plain": [
       "   Startup  Product  Funding  Event  Result  OperatingState\n",
       "0        0        6      214      0       0               0"
      ]
     },
     "execution_count": 127,
     "metadata": {},
     "output_type": "execute_result"
    }
   ],
   "source": [
    "daf2= pd.DataFrame(start.isnull().sum())\n",
    "daf2.T"
   ]
  },
  {
   "cell_type": "markdown",
   "id": "dc89cae6",
   "metadata": {},
   "source": [
    "### Dropping null values"
   ]
  },
  {
   "cell_type": "code",
   "execution_count": 128,
   "id": "52114de3",
   "metadata": {},
   "outputs": [
    {
     "data": {
      "text/html": [
       "<div>\n",
       "<style scoped>\n",
       "    .dataframe tbody tr th:only-of-type {\n",
       "        vertical-align: middle;\n",
       "    }\n",
       "\n",
       "    .dataframe tbody tr th {\n",
       "        vertical-align: top;\n",
       "    }\n",
       "\n",
       "    .dataframe thead th {\n",
       "        text-align: right;\n",
       "    }\n",
       "</style>\n",
       "<table border=\"1\" class=\"dataframe\">\n",
       "  <thead>\n",
       "    <tr style=\"text-align: right;\">\n",
       "      <th></th>\n",
       "      <th>Startup</th>\n",
       "      <th>Product</th>\n",
       "      <th>Funding</th>\n",
       "      <th>Event</th>\n",
       "      <th>Result</th>\n",
       "      <th>OperatingState</th>\n",
       "    </tr>\n",
       "  </thead>\n",
       "  <tbody>\n",
       "    <tr>\n",
       "      <th>1</th>\n",
       "      <td>3DLT</td>\n",
       "      <td>3dlt.com</td>\n",
       "      <td>$630K</td>\n",
       "      <td>Disrupt NYC 2013</td>\n",
       "      <td>Contestant</td>\n",
       "      <td>Closed</td>\n",
       "    </tr>\n",
       "    <tr>\n",
       "      <th>3</th>\n",
       "      <td>3Dprintler</td>\n",
       "      <td>3dprintler.com</td>\n",
       "      <td>$1M</td>\n",
       "      <td>Disrupt NY 2016</td>\n",
       "      <td>Audience choice</td>\n",
       "      <td>Operating</td>\n",
       "    </tr>\n",
       "    <tr>\n",
       "      <th>5</th>\n",
       "      <td>5to1</td>\n",
       "      <td>5to1.com</td>\n",
       "      <td>$19.3M</td>\n",
       "      <td>TC50 2009</td>\n",
       "      <td>Contestant</td>\n",
       "      <td>Acquired</td>\n",
       "    </tr>\n",
       "    <tr>\n",
       "      <th>6</th>\n",
       "      <td>8 Securities</td>\n",
       "      <td>8securities.com</td>\n",
       "      <td>$29M</td>\n",
       "      <td>Disrupt Beijing 2011</td>\n",
       "      <td>Finalist</td>\n",
       "      <td>Operating</td>\n",
       "    </tr>\n",
       "    <tr>\n",
       "      <th>10</th>\n",
       "      <td>AdhereTech</td>\n",
       "      <td>adheretech.com</td>\n",
       "      <td>$1.8M</td>\n",
       "      <td>Hardware Battlefield 2014</td>\n",
       "      <td>Contestant</td>\n",
       "      <td>Operating</td>\n",
       "    </tr>\n",
       "    <tr>\n",
       "      <th>...</th>\n",
       "      <td>...</td>\n",
       "      <td>...</td>\n",
       "      <td>...</td>\n",
       "      <td>...</td>\n",
       "      <td>...</td>\n",
       "      <td>...</td>\n",
       "    </tr>\n",
       "    <tr>\n",
       "      <th>657</th>\n",
       "      <td>Zivity</td>\n",
       "      <td>zivity.com</td>\n",
       "      <td>$8M</td>\n",
       "      <td>TC40 2007</td>\n",
       "      <td>Contestant</td>\n",
       "      <td>Operating</td>\n",
       "    </tr>\n",
       "    <tr>\n",
       "      <th>658</th>\n",
       "      <td>Zmorph</td>\n",
       "      <td>zmorph3d.com</td>\n",
       "      <td>$1M</td>\n",
       "      <td>-</td>\n",
       "      <td>Audience choice</td>\n",
       "      <td>Operating</td>\n",
       "    </tr>\n",
       "    <tr>\n",
       "      <th>659</th>\n",
       "      <td>Zocdoc</td>\n",
       "      <td>zocdoc.com</td>\n",
       "      <td>$223M</td>\n",
       "      <td>TC40 2007</td>\n",
       "      <td>Contestant</td>\n",
       "      <td>Operating</td>\n",
       "    </tr>\n",
       "    <tr>\n",
       "      <th>660</th>\n",
       "      <td>Zula</td>\n",
       "      <td>zulaapp.com</td>\n",
       "      <td>$3.4M</td>\n",
       "      <td>Disrupt SF 2013</td>\n",
       "      <td>Audience choice</td>\n",
       "      <td>Operating</td>\n",
       "    </tr>\n",
       "    <tr>\n",
       "      <th>661</th>\n",
       "      <td>Zumper</td>\n",
       "      <td>zumper.com</td>\n",
       "      <td>$31.5M</td>\n",
       "      <td>Disrupt SF 2012</td>\n",
       "      <td>Finalist</td>\n",
       "      <td>Operating</td>\n",
       "    </tr>\n",
       "  </tbody>\n",
       "</table>\n",
       "<p>446 rows × 6 columns</p>\n",
       "</div>"
      ],
      "text/plain": [
       "          Startup          Product Funding                      Event  \\\n",
       "1            3DLT         3dlt.com   $630K           Disrupt NYC 2013   \n",
       "3      3Dprintler   3dprintler.com     $1M            Disrupt NY 2016   \n",
       "5            5to1         5to1.com  $19.3M                  TC50 2009   \n",
       "6    8 Securities  8securities.com    $29M       Disrupt Beijing 2011   \n",
       "10     AdhereTech   adheretech.com   $1.8M  Hardware Battlefield 2014   \n",
       "..            ...              ...     ...                        ...   \n",
       "657        Zivity       zivity.com     $8M                  TC40 2007   \n",
       "658        Zmorph     zmorph3d.com     $1M                          -   \n",
       "659        Zocdoc       zocdoc.com   $223M                  TC40 2007   \n",
       "660          Zula      zulaapp.com   $3.4M            Disrupt SF 2013   \n",
       "661        Zumper       zumper.com  $31.5M            Disrupt SF 2012   \n",
       "\n",
       "              Result OperatingState  \n",
       "1         Contestant         Closed  \n",
       "3    Audience choice      Operating  \n",
       "5         Contestant       Acquired  \n",
       "6           Finalist      Operating  \n",
       "10        Contestant      Operating  \n",
       "..               ...            ...  \n",
       "657       Contestant      Operating  \n",
       "658  Audience choice      Operating  \n",
       "659       Contestant      Operating  \n",
       "660  Audience choice      Operating  \n",
       "661         Finalist      Operating  \n",
       "\n",
       "[446 rows x 6 columns]"
      ]
     },
     "execution_count": 128,
     "metadata": {},
     "output_type": "execute_result"
    }
   ],
   "source": [
    "startup= start.dropna()\n",
    "startup"
   ]
  },
  {
   "cell_type": "code",
   "execution_count": 129,
   "id": "2156b8f4",
   "metadata": {},
   "outputs": [
    {
     "data": {
      "text/plain": [
       "Startup           0\n",
       "Product           0\n",
       "Funding           0\n",
       "Event             0\n",
       "Result            0\n",
       "OperatingState    0\n",
       "dtype: int64"
      ]
     },
     "execution_count": 129,
     "metadata": {},
     "output_type": "execute_result"
    }
   ],
   "source": [
    "# Now checking for null values after dropping all the null values.\n",
    "startup.isnull().sum()"
   ]
  },
  {
   "cell_type": "code",
   "execution_count": 130,
   "id": "74a5458c",
   "metadata": {},
   "outputs": [
    {
     "name": "stderr",
     "output_type": "stream",
     "text": [
      "C:\\Users\\KUMUD .LAPTOP-S0T3F3O8\\anaconda3\\lib\\site-packages\\pandas\\core\\indexing.py:1597: SettingWithCopyWarning: \n",
      "A value is trying to be set on a copy of a slice from a DataFrame.\n",
      "Try using .loc[row_indexer,col_indexer] = value instead\n",
      "\n",
      "See the caveats in the documentation: https://pandas.pydata.org/pandas-docs/stable/user_guide/indexing.html#returning-a-view-versus-a-copy\n",
      "  self.obj[key] = value\n",
      "C:\\Users\\KUMUD .LAPTOP-S0T3F3O8\\anaconda3\\lib\\site-packages\\pandas\\core\\indexing.py:1676: SettingWithCopyWarning: \n",
      "A value is trying to be set on a copy of a slice from a DataFrame.\n",
      "Try using .loc[row_indexer,col_indexer] = value instead\n",
      "\n",
      "See the caveats in the documentation: https://pandas.pydata.org/pandas-docs/stable/user_guide/indexing.html#returning-a-view-versus-a-copy\n",
      "  self._setitem_single_column(ilocs[0], value, pi)\n"
     ]
    }
   ],
   "source": [
    "startup.loc[:,'Funds_in_million'] = startup['Funding'].apply(lambda x: float(x[1:-1])/1000 if x[-1] == 'K' else (float(x[1:-1])*1000 if x[-1] == 'B' else float(x[1:-1])))"
   ]
  },
  {
   "cell_type": "code",
   "execution_count": 131,
   "id": "682d3062",
   "metadata": {},
   "outputs": [
    {
     "data": {
      "text/html": [
       "<div>\n",
       "<style scoped>\n",
       "    .dataframe tbody tr th:only-of-type {\n",
       "        vertical-align: middle;\n",
       "    }\n",
       "\n",
       "    .dataframe tbody tr th {\n",
       "        vertical-align: top;\n",
       "    }\n",
       "\n",
       "    .dataframe thead th {\n",
       "        text-align: right;\n",
       "    }\n",
       "</style>\n",
       "<table border=\"1\" class=\"dataframe\">\n",
       "  <thead>\n",
       "    <tr style=\"text-align: right;\">\n",
       "      <th></th>\n",
       "      <th>Startup</th>\n",
       "      <th>Product</th>\n",
       "      <th>Funding</th>\n",
       "      <th>Event</th>\n",
       "      <th>Result</th>\n",
       "      <th>OperatingState</th>\n",
       "      <th>Funds_in_million</th>\n",
       "    </tr>\n",
       "  </thead>\n",
       "  <tbody>\n",
       "    <tr>\n",
       "      <th>1</th>\n",
       "      <td>3DLT</td>\n",
       "      <td>3dlt.com</td>\n",
       "      <td>$630K</td>\n",
       "      <td>Disrupt NYC 2013</td>\n",
       "      <td>Contestant</td>\n",
       "      <td>Closed</td>\n",
       "      <td>0.63</td>\n",
       "    </tr>\n",
       "    <tr>\n",
       "      <th>3</th>\n",
       "      <td>3Dprintler</td>\n",
       "      <td>3dprintler.com</td>\n",
       "      <td>$1M</td>\n",
       "      <td>Disrupt NY 2016</td>\n",
       "      <td>Audience choice</td>\n",
       "      <td>Operating</td>\n",
       "      <td>1.00</td>\n",
       "    </tr>\n",
       "    <tr>\n",
       "      <th>5</th>\n",
       "      <td>5to1</td>\n",
       "      <td>5to1.com</td>\n",
       "      <td>$19.3M</td>\n",
       "      <td>TC50 2009</td>\n",
       "      <td>Contestant</td>\n",
       "      <td>Acquired</td>\n",
       "      <td>19.30</td>\n",
       "    </tr>\n",
       "    <tr>\n",
       "      <th>6</th>\n",
       "      <td>8 Securities</td>\n",
       "      <td>8securities.com</td>\n",
       "      <td>$29M</td>\n",
       "      <td>Disrupt Beijing 2011</td>\n",
       "      <td>Finalist</td>\n",
       "      <td>Operating</td>\n",
       "      <td>29.00</td>\n",
       "    </tr>\n",
       "    <tr>\n",
       "      <th>10</th>\n",
       "      <td>AdhereTech</td>\n",
       "      <td>adheretech.com</td>\n",
       "      <td>$1.8M</td>\n",
       "      <td>Hardware Battlefield 2014</td>\n",
       "      <td>Contestant</td>\n",
       "      <td>Operating</td>\n",
       "      <td>1.80</td>\n",
       "    </tr>\n",
       "    <tr>\n",
       "      <th>...</th>\n",
       "      <td>...</td>\n",
       "      <td>...</td>\n",
       "      <td>...</td>\n",
       "      <td>...</td>\n",
       "      <td>...</td>\n",
       "      <td>...</td>\n",
       "      <td>...</td>\n",
       "    </tr>\n",
       "    <tr>\n",
       "      <th>657</th>\n",
       "      <td>Zivity</td>\n",
       "      <td>zivity.com</td>\n",
       "      <td>$8M</td>\n",
       "      <td>TC40 2007</td>\n",
       "      <td>Contestant</td>\n",
       "      <td>Operating</td>\n",
       "      <td>8.00</td>\n",
       "    </tr>\n",
       "    <tr>\n",
       "      <th>658</th>\n",
       "      <td>Zmorph</td>\n",
       "      <td>zmorph3d.com</td>\n",
       "      <td>$1M</td>\n",
       "      <td>-</td>\n",
       "      <td>Audience choice</td>\n",
       "      <td>Operating</td>\n",
       "      <td>1.00</td>\n",
       "    </tr>\n",
       "    <tr>\n",
       "      <th>659</th>\n",
       "      <td>Zocdoc</td>\n",
       "      <td>zocdoc.com</td>\n",
       "      <td>$223M</td>\n",
       "      <td>TC40 2007</td>\n",
       "      <td>Contestant</td>\n",
       "      <td>Operating</td>\n",
       "      <td>223.00</td>\n",
       "    </tr>\n",
       "    <tr>\n",
       "      <th>660</th>\n",
       "      <td>Zula</td>\n",
       "      <td>zulaapp.com</td>\n",
       "      <td>$3.4M</td>\n",
       "      <td>Disrupt SF 2013</td>\n",
       "      <td>Audience choice</td>\n",
       "      <td>Operating</td>\n",
       "      <td>3.40</td>\n",
       "    </tr>\n",
       "    <tr>\n",
       "      <th>661</th>\n",
       "      <td>Zumper</td>\n",
       "      <td>zumper.com</td>\n",
       "      <td>$31.5M</td>\n",
       "      <td>Disrupt SF 2012</td>\n",
       "      <td>Finalist</td>\n",
       "      <td>Operating</td>\n",
       "      <td>31.50</td>\n",
       "    </tr>\n",
       "  </tbody>\n",
       "</table>\n",
       "<p>446 rows × 7 columns</p>\n",
       "</div>"
      ],
      "text/plain": [
       "          Startup          Product Funding                      Event  \\\n",
       "1            3DLT         3dlt.com   $630K           Disrupt NYC 2013   \n",
       "3      3Dprintler   3dprintler.com     $1M            Disrupt NY 2016   \n",
       "5            5to1         5to1.com  $19.3M                  TC50 2009   \n",
       "6    8 Securities  8securities.com    $29M       Disrupt Beijing 2011   \n",
       "10     AdhereTech   adheretech.com   $1.8M  Hardware Battlefield 2014   \n",
       "..            ...              ...     ...                        ...   \n",
       "657        Zivity       zivity.com     $8M                  TC40 2007   \n",
       "658        Zmorph     zmorph3d.com     $1M                          -   \n",
       "659        Zocdoc       zocdoc.com   $223M                  TC40 2007   \n",
       "660          Zula      zulaapp.com   $3.4M            Disrupt SF 2013   \n",
       "661        Zumper       zumper.com  $31.5M            Disrupt SF 2012   \n",
       "\n",
       "              Result OperatingState  Funds_in_million  \n",
       "1         Contestant         Closed              0.63  \n",
       "3    Audience choice      Operating              1.00  \n",
       "5         Contestant       Acquired             19.30  \n",
       "6           Finalist      Operating             29.00  \n",
       "10        Contestant      Operating              1.80  \n",
       "..               ...            ...               ...  \n",
       "657       Contestant      Operating              8.00  \n",
       "658  Audience choice      Operating              1.00  \n",
       "659       Contestant      Operating            223.00  \n",
       "660  Audience choice      Operating              3.40  \n",
       "661         Finalist      Operating             31.50  \n",
       "\n",
       "[446 rows x 7 columns]"
      ]
     },
     "execution_count": 131,
     "metadata": {},
     "output_type": "execute_result"
    }
   ],
   "source": [
    "startup"
   ]
  },
  {
   "cell_type": "code",
   "execution_count": 132,
   "id": "5e7f70b5",
   "metadata": {},
   "outputs": [
    {
     "data": {
      "text/html": [
       "<div>\n",
       "<style scoped>\n",
       "    .dataframe tbody tr th:only-of-type {\n",
       "        vertical-align: middle;\n",
       "    }\n",
       "\n",
       "    .dataframe tbody tr th {\n",
       "        vertical-align: top;\n",
       "    }\n",
       "\n",
       "    .dataframe thead th {\n",
       "        text-align: right;\n",
       "    }\n",
       "</style>\n",
       "<table border=\"1\" class=\"dataframe\">\n",
       "  <thead>\n",
       "    <tr style=\"text-align: right;\">\n",
       "      <th></th>\n",
       "      <th>Funds_in_million</th>\n",
       "    </tr>\n",
       "  </thead>\n",
       "  <tbody>\n",
       "    <tr>\n",
       "      <th>count</th>\n",
       "      <td>446.000000</td>\n",
       "    </tr>\n",
       "    <tr>\n",
       "      <th>mean</th>\n",
       "      <td>17.241489</td>\n",
       "    </tr>\n",
       "    <tr>\n",
       "      <th>std</th>\n",
       "      <td>90.483710</td>\n",
       "    </tr>\n",
       "    <tr>\n",
       "      <th>min</th>\n",
       "      <td>0.005000</td>\n",
       "    </tr>\n",
       "    <tr>\n",
       "      <th>25%</th>\n",
       "      <td>0.745250</td>\n",
       "    </tr>\n",
       "    <tr>\n",
       "      <th>50%</th>\n",
       "      <td>2.200000</td>\n",
       "    </tr>\n",
       "    <tr>\n",
       "      <th>75%</th>\n",
       "      <td>9.475000</td>\n",
       "    </tr>\n",
       "    <tr>\n",
       "      <th>max</th>\n",
       "      <td>1700.000000</td>\n",
       "    </tr>\n",
       "  </tbody>\n",
       "</table>\n",
       "</div>"
      ],
      "text/plain": [
       "       Funds_in_million\n",
       "count        446.000000\n",
       "mean          17.241489\n",
       "std           90.483710\n",
       "min            0.005000\n",
       "25%            0.745250\n",
       "50%            2.200000\n",
       "75%            9.475000\n",
       "max         1700.000000"
      ]
     },
     "execution_count": 132,
     "metadata": {},
     "output_type": "execute_result"
    }
   ],
   "source": [
    "startup.describe()"
   ]
  },
  {
   "cell_type": "markdown",
   "id": "8adcafc1",
   "metadata": {},
   "source": [
    "### Plotting boxplot "
   ]
  },
  {
   "cell_type": "code",
   "execution_count": 133,
   "id": "9ec90448",
   "metadata": {},
   "outputs": [
    {
     "data": {
      "image/png": "[encoded data removed]",
      "text/plain": [
       "<Figure size 720x576 with 1 Axes>"
      ]
     },
     "metadata": {
      "needs_background": "light"
     },
     "output_type": "display_data"
    }
   ],
   "source": [
    "plt.figure(figsize=[10,8])\n",
    "sns.boxplot(y=startup[\"Funds_in_million\"])\n",
    "plt.show()"
   ]
  },
  {
   "cell_type": "markdown",
   "id": "ed30aea8",
   "metadata": {},
   "source": [
    "### Number of outliers greater than Upper Fence = 60"
   ]
  },
  {
   "cell_type": "code",
   "execution_count": 134,
   "id": "a91994d2",
   "metadata": {},
   "outputs": [
    {
     "data": {
      "text/plain": [
       "(0.74525, 9.475, 8.72975)"
      ]
     },
     "execution_count": 134,
     "metadata": {},
     "output_type": "execute_result"
    }
   ],
   "source": [
    "Q1= np.quantile(startup[\"Funds_in_million\"], 0.25)\n",
    "Q3= np.quantile(startup[\"Funds_in_million\"], 0.75)\n",
    "Iqr= Q3-Q1\n",
    "Q1, Q3, Iqr"
   ]
  },
  {
   "cell_type": "code",
   "execution_count": 135,
   "id": "4aed9b31",
   "metadata": {},
   "outputs": [],
   "source": [
    "outlier=startup[startup[\"Funds_in_million\"]>(Q3+1.5*Iqr)]"
   ]
  },
  {
   "cell_type": "code",
   "execution_count": 136,
   "id": "8367f022",
   "metadata": {},
   "outputs": [
    {
     "data": {
      "text/plain": [
       "(60, 7)"
      ]
     },
     "execution_count": 136,
     "metadata": {},
     "output_type": "execute_result"
    }
   ],
   "source": [
    "outlier.shape\n",
    "\n",
    "# Number of outliers greater than upper fence is 60"
   ]
  },
  {
   "cell_type": "markdown",
   "id": "a49bc8fb",
   "metadata": {},
   "source": [
    "### OperatingState  classes"
   ]
  },
  {
   "cell_type": "code",
   "execution_count": 137,
   "id": "63d21992",
   "metadata": {},
   "outputs": [
    {
     "data": {
      "text/plain": [
       "Operating    319\n",
       "Acquired      66\n",
       "Closed        57\n",
       "Ipo            4\n",
       "Name: OperatingState, dtype: int64"
      ]
     },
     "execution_count": 137,
     "metadata": {},
     "output_type": "execute_result"
    }
   ],
   "source": [
    "startup['OperatingState'].value_counts()"
   ]
  },
  {
   "cell_type": "markdown",
   "id": "166848ed",
   "metadata": {},
   "source": [
    "### Statistical Analysis"
   ]
  },
  {
   "cell_type": "code",
   "execution_count": 138,
   "id": "b74b76c3",
   "metadata": {},
   "outputs": [
    {
     "data": {
      "text/html": [
       "<div>\n",
       "<style scoped>\n",
       "    .dataframe tbody tr th:only-of-type {\n",
       "        vertical-align: middle;\n",
       "    }\n",
       "\n",
       "    .dataframe tbody tr th {\n",
       "        vertical-align: top;\n",
       "    }\n",
       "\n",
       "    .dataframe thead th {\n",
       "        text-align: right;\n",
       "    }\n",
       "</style>\n",
       "<table border=\"1\" class=\"dataframe\">\n",
       "  <thead>\n",
       "    <tr style=\"text-align: right;\">\n",
       "      <th></th>\n",
       "      <th>Startup</th>\n",
       "      <th>Product</th>\n",
       "      <th>Funding</th>\n",
       "      <th>Event</th>\n",
       "      <th>Result</th>\n",
       "      <th>OperatingState</th>\n",
       "      <th>Funds_in_million</th>\n",
       "    </tr>\n",
       "  </thead>\n",
       "  <tbody>\n",
       "    <tr>\n",
       "      <th>0</th>\n",
       "      <td>3Dprintler</td>\n",
       "      <td>3dprintler.com</td>\n",
       "      <td>$1M</td>\n",
       "      <td>Disrupt NY 2016</td>\n",
       "      <td>Audience choice</td>\n",
       "      <td>Operating</td>\n",
       "      <td>1.00</td>\n",
       "    </tr>\n",
       "    <tr>\n",
       "      <th>1</th>\n",
       "      <td>8 Securities</td>\n",
       "      <td>8securities.com</td>\n",
       "      <td>$29M</td>\n",
       "      <td>Disrupt Beijing 2011</td>\n",
       "      <td>Finalist</td>\n",
       "      <td>Operating</td>\n",
       "      <td>29.00</td>\n",
       "    </tr>\n",
       "    <tr>\n",
       "      <th>2</th>\n",
       "      <td>AdhereTech</td>\n",
       "      <td>adheretech.com</td>\n",
       "      <td>$1.8M</td>\n",
       "      <td>Hardware Battlefield 2014</td>\n",
       "      <td>Contestant</td>\n",
       "      <td>Operating</td>\n",
       "      <td>1.80</td>\n",
       "    </tr>\n",
       "    <tr>\n",
       "      <th>3</th>\n",
       "      <td>Agrilyst</td>\n",
       "      <td>agrilyst.com</td>\n",
       "      <td>$1M</td>\n",
       "      <td>Disrupt SF 2015</td>\n",
       "      <td>Winner</td>\n",
       "      <td>Operating</td>\n",
       "      <td>1.00</td>\n",
       "    </tr>\n",
       "    <tr>\n",
       "      <th>4</th>\n",
       "      <td>Aiden</td>\n",
       "      <td>aiden.ai</td>\n",
       "      <td>$750K</td>\n",
       "      <td>Disrupt London 2016</td>\n",
       "      <td>Contestant</td>\n",
       "      <td>Operating</td>\n",
       "      <td>0.75</td>\n",
       "    </tr>\n",
       "  </tbody>\n",
       "</table>\n",
       "</div>"
      ],
      "text/plain": [
       "        Startup          Product Funding                      Event  \\\n",
       "0    3Dprintler   3dprintler.com     $1M            Disrupt NY 2016   \n",
       "1  8 Securities  8securities.com    $29M       Disrupt Beijing 2011   \n",
       "2    AdhereTech   adheretech.com   $1.8M  Hardware Battlefield 2014   \n",
       "3      Agrilyst     agrilyst.com     $1M            Disrupt SF 2015   \n",
       "4         Aiden         aiden.ai   $750K        Disrupt London 2016   \n",
       "\n",
       "            Result OperatingState  Funds_in_million  \n",
       "0  Audience choice      Operating              1.00  \n",
       "1         Finalist      Operating             29.00  \n",
       "2       Contestant      Operating              1.80  \n",
       "3           Winner      Operating              1.00  \n",
       "4       Contestant      Operating              0.75  "
      ]
     },
     "execution_count": 138,
     "metadata": {},
     "output_type": "execute_result"
    }
   ],
   "source": [
    "operating= startup[startup[\"OperatingState\"]==\"Operating\"]\n",
    "operating.reset_index(inplace=True, drop=True)\n",
    "operating.head(5)"
   ]
  },
  {
   "cell_type": "code",
   "execution_count": 139,
   "id": "714f3d27",
   "metadata": {},
   "outputs": [
    {
     "data": {
      "text/html": [
       "<div>\n",
       "<style scoped>\n",
       "    .dataframe tbody tr th:only-of-type {\n",
       "        vertical-align: middle;\n",
       "    }\n",
       "\n",
       "    .dataframe tbody tr th {\n",
       "        vertical-align: top;\n",
       "    }\n",
       "\n",
       "    .dataframe thead th {\n",
       "        text-align: right;\n",
       "    }\n",
       "</style>\n",
       "<table border=\"1\" class=\"dataframe\">\n",
       "  <thead>\n",
       "    <tr style=\"text-align: right;\">\n",
       "      <th></th>\n",
       "      <th>Funds_in_million</th>\n",
       "    </tr>\n",
       "  </thead>\n",
       "  <tbody>\n",
       "    <tr>\n",
       "      <th>count</th>\n",
       "      <td>319.000000</td>\n",
       "    </tr>\n",
       "    <tr>\n",
       "      <th>mean</th>\n",
       "      <td>19.062186</td>\n",
       "    </tr>\n",
       "    <tr>\n",
       "      <th>std</th>\n",
       "      <td>104.677241</td>\n",
       "    </tr>\n",
       "    <tr>\n",
       "      <th>min</th>\n",
       "      <td>0.005000</td>\n",
       "    </tr>\n",
       "    <tr>\n",
       "      <th>25%</th>\n",
       "      <td>0.745500</td>\n",
       "    </tr>\n",
       "    <tr>\n",
       "      <th>50%</th>\n",
       "      <td>2.200000</td>\n",
       "    </tr>\n",
       "    <tr>\n",
       "      <th>75%</th>\n",
       "      <td>8.250000</td>\n",
       "    </tr>\n",
       "    <tr>\n",
       "      <th>max</th>\n",
       "      <td>1700.000000</td>\n",
       "    </tr>\n",
       "  </tbody>\n",
       "</table>\n",
       "</div>"
      ],
      "text/plain": [
       "       Funds_in_million\n",
       "count        319.000000\n",
       "mean          19.062186\n",
       "std          104.677241\n",
       "min            0.005000\n",
       "25%            0.745500\n",
       "50%            2.200000\n",
       "75%            8.250000\n",
       "max         1700.000000"
      ]
     },
     "execution_count": 139,
     "metadata": {},
     "output_type": "execute_result"
    }
   ],
   "source": [
    "operating.describe()"
   ]
  },
  {
   "cell_type": "code",
   "execution_count": 140,
   "id": "1463a54f",
   "metadata": {},
   "outputs": [
    {
     "name": "stderr",
     "output_type": "stream",
     "text": [
      "C:\\Users\\KUMUD .LAPTOP-S0T3F3O8\\anaconda3\\lib\\site-packages\\seaborn\\distributions.py:2557: FutureWarning: `distplot` is a deprecated function and will be removed in a future version. Please adapt your code to use either `displot` (a figure-level function with similar flexibility) or `histplot` (an axes-level function for histograms).\n",
      "  warnings.warn(msg, FutureWarning)\n"
     ]
    },
    {
     "data": {
      "text/plain": [
       "<AxesSubplot:xlabel='Funds_in_million', ylabel='Density'>"
      ]
     },
     "execution_count": 140,
     "metadata": {},
     "output_type": "execute_result"
    },
    {
     "data": {
      "image/png": "[encoded data removed]",
      "text/plain": [
       "<Figure size 432x288 with 1 Axes>"
      ]
     },
     "metadata": {
      "needs_background": "light"
     },
     "output_type": "display_data"
    }
   ],
   "source": [
    "sns.distplot(operating['Funds_in_million'])"
   ]
  },
  {
   "cell_type": "code",
   "execution_count": 141,
   "id": "49fb9ef1",
   "metadata": {},
   "outputs": [
    {
     "data": {
      "text/plain": [
       "Funds_in_million    13.730096\n",
       "dtype: float64"
      ]
     },
     "execution_count": 141,
     "metadata": {},
     "output_type": "execute_result"
    }
   ],
   "source": [
    "operating.skew()"
   ]
  },
  {
   "cell_type": "code",
   "execution_count": 142,
   "id": "7a5e7be4",
   "metadata": {},
   "outputs": [],
   "source": [
    "#operating dataframe funds in million attribute is not normal"
   ]
  },
  {
   "cell_type": "code",
   "execution_count": 143,
   "id": "b62aefe2",
   "metadata": {},
   "outputs": [
    {
     "data": {
      "text/html": [
       "<div>\n",
       "<style scoped>\n",
       "    .dataframe tbody tr th:only-of-type {\n",
       "        vertical-align: middle;\n",
       "    }\n",
       "\n",
       "    .dataframe tbody tr th {\n",
       "        vertical-align: top;\n",
       "    }\n",
       "\n",
       "    .dataframe thead th {\n",
       "        text-align: right;\n",
       "    }\n",
       "</style>\n",
       "<table border=\"1\" class=\"dataframe\">\n",
       "  <thead>\n",
       "    <tr style=\"text-align: right;\">\n",
       "      <th></th>\n",
       "      <th>Startup</th>\n",
       "      <th>Product</th>\n",
       "      <th>Funding</th>\n",
       "      <th>Event</th>\n",
       "      <th>Result</th>\n",
       "      <th>OperatingState</th>\n",
       "      <th>Funds_in_million</th>\n",
       "    </tr>\n",
       "  </thead>\n",
       "  <tbody>\n",
       "    <tr>\n",
       "      <th>0</th>\n",
       "      <td>3DLT</td>\n",
       "      <td>3dlt.com</td>\n",
       "      <td>$630K</td>\n",
       "      <td>Disrupt NYC 2013</td>\n",
       "      <td>Contestant</td>\n",
       "      <td>Closed</td>\n",
       "      <td>0.63</td>\n",
       "    </tr>\n",
       "    <tr>\n",
       "      <th>1</th>\n",
       "      <td>AdRocket</td>\n",
       "      <td>adrocket.com</td>\n",
       "      <td>$1M</td>\n",
       "      <td>TC50 2008</td>\n",
       "      <td>Contestant</td>\n",
       "      <td>Closed</td>\n",
       "      <td>1.00</td>\n",
       "    </tr>\n",
       "  </tbody>\n",
       "</table>\n",
       "</div>"
      ],
      "text/plain": [
       "    Startup       Product Funding             Event      Result  \\\n",
       "0      3DLT      3dlt.com   $630K  Disrupt NYC 2013  Contestant   \n",
       "1  AdRocket  adrocket.com     $1M         TC50 2008  Contestant   \n",
       "\n",
       "  OperatingState  Funds_in_million  \n",
       "0         Closed              0.63  \n",
       "1         Closed              1.00  "
      ]
     },
     "execution_count": 143,
     "metadata": {},
     "output_type": "execute_result"
    }
   ],
   "source": [
    "closed= startup[startup[\"OperatingState\"]==\"Closed\"]\n",
    "closed.reset_index(inplace=True, drop=True)\n",
    "closed.head(2)"
   ]
  },
  {
   "cell_type": "code",
   "execution_count": 144,
   "id": "bdb97356",
   "metadata": {},
   "outputs": [
    {
     "data": {
      "text/html": [
       "<div>\n",
       "<style scoped>\n",
       "    .dataframe tbody tr th:only-of-type {\n",
       "        vertical-align: middle;\n",
       "    }\n",
       "\n",
       "    .dataframe tbody tr th {\n",
       "        vertical-align: top;\n",
       "    }\n",
       "\n",
       "    .dataframe thead th {\n",
       "        text-align: right;\n",
       "    }\n",
       "</style>\n",
       "<table border=\"1\" class=\"dataframe\">\n",
       "  <thead>\n",
       "    <tr style=\"text-align: right;\">\n",
       "      <th></th>\n",
       "      <th>Funds_in_million</th>\n",
       "    </tr>\n",
       "  </thead>\n",
       "  <tbody>\n",
       "    <tr>\n",
       "      <th>count</th>\n",
       "      <td>57.000000</td>\n",
       "    </tr>\n",
       "    <tr>\n",
       "      <th>mean</th>\n",
       "      <td>3.258170</td>\n",
       "    </tr>\n",
       "    <tr>\n",
       "      <th>std</th>\n",
       "      <td>5.923294</td>\n",
       "    </tr>\n",
       "    <tr>\n",
       "      <th>min</th>\n",
       "      <td>0.093000</td>\n",
       "    </tr>\n",
       "    <tr>\n",
       "      <th>25%</th>\n",
       "      <td>0.475000</td>\n",
       "    </tr>\n",
       "    <tr>\n",
       "      <th>50%</th>\n",
       "      <td>0.929200</td>\n",
       "    </tr>\n",
       "    <tr>\n",
       "      <th>75%</th>\n",
       "      <td>3.500000</td>\n",
       "    </tr>\n",
       "    <tr>\n",
       "      <th>max</th>\n",
       "      <td>35.500000</td>\n",
       "    </tr>\n",
       "  </tbody>\n",
       "</table>\n",
       "</div>"
      ],
      "text/plain": [
       "       Funds_in_million\n",
       "count         57.000000\n",
       "mean           3.258170\n",
       "std            5.923294\n",
       "min            0.093000\n",
       "25%            0.475000\n",
       "50%            0.929200\n",
       "75%            3.500000\n",
       "max           35.500000"
      ]
     },
     "execution_count": 144,
     "metadata": {},
     "output_type": "execute_result"
    }
   ],
   "source": [
    "closed.describe()"
   ]
  },
  {
   "cell_type": "code",
   "execution_count": 145,
   "id": "21fc0edc",
   "metadata": {},
   "outputs": [
    {
     "data": {
      "text/plain": [
       "Funds_in_million    3.662491\n",
       "dtype: float64"
      ]
     },
     "execution_count": 145,
     "metadata": {},
     "output_type": "execute_result"
    }
   ],
   "source": [
    "closed.skew()"
   ]
  },
  {
   "cell_type": "code",
   "execution_count": 146,
   "id": "bc21d0c0",
   "metadata": {},
   "outputs": [
    {
     "name": "stderr",
     "output_type": "stream",
     "text": [
      "C:\\Users\\KUMUD .LAPTOP-S0T3F3O8\\anaconda3\\lib\\site-packages\\seaborn\\distributions.py:2557: FutureWarning: `distplot` is a deprecated function and will be removed in a future version. Please adapt your code to use either `displot` (a figure-level function with similar flexibility) or `histplot` (an axes-level function for histograms).\n",
      "  warnings.warn(msg, FutureWarning)\n"
     ]
    },
    {
     "data": {
      "image/png": "[encoded data removed]",
      "text/plain": [
       "<Figure size 432x288 with 1 Axes>"
      ]
     },
     "metadata": {
      "needs_background": "light"
     },
     "output_type": "display_data"
    }
   ],
   "source": [
    "sns.distplot(closed['Funds_in_million'], color='r')\n",
    "plt.xlabel(\" Funds for Closed companies\")\n",
    "plt.show()"
   ]
  },
  {
   "cell_type": "code",
   "execution_count": 147,
   "id": "3f6edd27",
   "metadata": {},
   "outputs": [
    {
     "name": "stderr",
     "output_type": "stream",
     "text": [
      "C:\\Users\\KUMUD .LAPTOP-S0T3F3O8\\anaconda3\\lib\\site-packages\\seaborn\\distributions.py:2557: FutureWarning: `distplot` is a deprecated function and will be removed in a future version. Please adapt your code to use either `displot` (a figure-level function with similar flexibility) or `histplot` (an axes-level function for histograms).\n",
      "  warnings.warn(msg, FutureWarning)\n"
     ]
    },
    {
     "data": {
      "image/png": "[encoded data removed]",
      "text/plain": [
       "<Figure size 432x288 with 1 Axes>"
      ]
     },
     "metadata": {
      "needs_background": "light"
     },
     "output_type": "display_data"
    }
   ],
   "source": [
    "sns.distplot(operating['Funds_in_million'], color='g')\n",
    "plt.xlabel(\" Funds for Operating companies\")\n",
    "plt.show()"
   ]
  },
  {
   "cell_type": "code",
   "execution_count": null,
   "id": "2fdb73ad",
   "metadata": {},
   "outputs": [],
   "source": []
  },
  {
   "cell_type": "code",
   "execution_count": 148,
   "id": "f52e30fb",
   "metadata": {},
   "outputs": [],
   "source": [
    "from scipy.stats import ttest_ind, shapiro"
   ]
  },
  {
   "cell_type": "code",
   "execution_count": 149,
   "id": "6b313cce",
   "metadata": {},
   "outputs": [
    {
     "name": "stdout",
     "output_type": "stream",
     "text": [
      " t_stat value is:  0.14107364416122437\n",
      " p_val is : 1.4312869151163209e-35\n",
      " \n",
      " operating data is skewed\n"
     ]
    }
   ],
   "source": [
    "#shapiro test tells wether the data is normal or not\n",
    "alpha= 0.05\n",
    "t_stat, p_val=shapiro(operating['Funds_in_million'])\n",
    "print(\" t_stat value is: \", t_stat)\n",
    "print(\" p_val is :\", p_val)\n",
    "\n",
    "if p_val>alpha:\n",
    "    print(\" \\n operating data is normal\")\n",
    "else:\n",
    "    print(\" \\n operating data is skewed\")"
   ]
  },
  {
   "cell_type": "code",
   "execution_count": 150,
   "id": "23261023",
   "metadata": {},
   "outputs": [
    {
     "name": "stdout",
     "output_type": "stream",
     "text": [
      " t_stat value is:  0.5478071570396423\n",
      " p_val is : 5.488791712804364e-12\n",
      " \n",
      " closed data is skewed\n"
     ]
    }
   ],
   "source": [
    "alpha= 0.05\n",
    "t_stat, p_val=shapiro(closed['Funds_in_million'])\n",
    "print(\" t_stat value is: \", t_stat)\n",
    "print(\" p_val is :\", p_val)\n",
    "\n",
    "if p_val>alpha:\n",
    "    print(\" \\n closed data is normal\")\n",
    "else:\n",
    "    print(\" \\n closed data is skewed\")\n"
   ]
  },
  {
   "cell_type": "markdown",
   "id": "07a8e79a",
   "metadata": {},
   "source": [
    "### Hypothesis\n",
    "   **NULL HYPOTHESIS: H0**: Funds raised by companies still operating and closed down is equal \n",
    "   \n",
    "   **ALTERNATIVE HYPOTHESIS: Ha**: Funds raised by companies still operating and closed down is not   \n",
    "                                   equal"
   ]
  },
  {
   "cell_type": "code",
   "execution_count": 151,
   "id": "682880dd",
   "metadata": {},
   "outputs": [
    {
     "name": "stdout",
     "output_type": "stream",
     "text": [
      " \n",
      " t_stat value is:  6897.5\n",
      " \n",
      " p_val is:  0.0018515582110210957\n",
      " \n",
      " Alternate Hypothesis is valid\n"
     ]
    }
   ],
   "source": [
    "# since data is skewed , we use mannwhitneyu test \n",
    "from scipy.stats import mannwhitneyu\n",
    "alpha= 0.05\n",
    "t_stat, p_val= mannwhitneyu(operating['Funds_in_million'], closed['Funds_in_million'])\n",
    "print(\" \\n t_stat value is: \", t_stat)\n",
    "print(\" \\n p_val is: \", p_val)\n",
    "\n",
    "if p_val>alpha:\n",
    "    print(\" \\n Null Hypothesis is valid\")\n",
    "else: \n",
    "    print(\" \\n Alternate Hypothesis is valid\")"
   ]
  },
  {
   "cell_type": "raw",
   "id": "b4a125fc",
   "metadata": {},
   "source": [
    "Mannwhitneyu test tells that the original data needs log transformation. hence, we apply log transformation to the data. And then use ttest_ind to get the result."
   ]
  },
  {
   "cell_type": "markdown",
   "id": "d566e0a8",
   "metadata": {},
   "source": [
    "#### Since both operating and closed data is not normal .\n",
    "    We use log transformation to transform the data into normal distribution. \n",
    "    Then ttest_ind test is done to get the p_value\n",
    "  "
   ]
  },
  {
   "cell_type": "code",
   "execution_count": 152,
   "id": "1d766000",
   "metadata": {},
   "outputs": [
    {
     "name": "stdout",
     "output_type": "stream",
     "text": [
      " \n",
      " Value of t_stat is :  3.075017075417791\n",
      " \n",
      " Value of p_val is :  0.0022595899078155565\n",
      " \n",
      " Significant difference between funds raised by companies that are still operating vs companies that are closed down\n"
     ]
    }
   ],
   "source": [
    "logtransfr1= np.log1p(operating['Funds_in_million'])\n",
    "logtransfr2= np.log1p(closed['Funds_in_million'])\n",
    "\n",
    "alpha= 0.05\n",
    "t_stat, p_val= ttest_ind(logtransfr1, logtransfr2)\n",
    "\n",
    "print(\" \\n Value of t_stat is : \", t_stat)\n",
    "print(\" \\n Value of p_val is : \", p_val)\n",
    "\n",
    "if p_val>alpha:\n",
    "    print(\" \\n Funds raised by companies that are still operating vs companies that are closed down is Equal\")\n",
    "else:\n",
    "    print(\" \\n Significant difference between funds raised by companies that are still operating vs companies that are closed down\")"
   ]
  },
  {
   "cell_type": "code",
   "execution_count": null,
   "id": "62b472f5",
   "metadata": {},
   "outputs": [],
   "source": []
  },
  {
   "cell_type": "markdown",
   "id": "fe9c3811",
   "metadata": {},
   "source": [
    "### 4. SUMMARY: "
   ]
  },
  {
   "cell_type": "raw",
   "id": "35f49d84",
   "metadata": {},
   "source": [
    "A) Yes, there are significant difference between funds raised by companies that are still\n",
    "   operating vs companies that are closed down\n",
    "   \n",
    "B) H0: Funds raised by companies still operating and closed down is equal\n",
    "   Ha: Funds raised by companies still operating and closed down is not equal\n",
    "   \n",
    "C) We check both the data for normal distribution.\n",
    "   Both data are skewed and independent. so mannwhitneyu test is used.\n",
    "   pvalue= 0.00185 or 0.185% < alpha(0.05 or 5%)\n",
    "   so, Null hypothesis is rejected.\n",
    "   \n",
    "   After doing mannwhitneyu test we transform the data using np.log1p and \n",
    "   apply 2 sample t test. Both favours the alternative hypothesis.\n",
    "   \n",
    "   Conclusion: Funds raised by companies still operating and closed down is not equal. \n",
    "   \n",
    "   "
   ]
  },
  {
   "cell_type": "markdown",
   "id": "9230d66c",
   "metadata": {},
   "source": [
    "### D) Copy of original dataframe "
   ]
  },
  {
   "cell_type": "code",
   "execution_count": 153,
   "id": "4216e114",
   "metadata": {},
   "outputs": [
    {
     "data": {
      "text/html": [
       "<div>\n",
       "<style scoped>\n",
       "    .dataframe tbody tr th:only-of-type {\n",
       "        vertical-align: middle;\n",
       "    }\n",
       "\n",
       "    .dataframe tbody tr th {\n",
       "        vertical-align: top;\n",
       "    }\n",
       "\n",
       "    .dataframe thead th {\n",
       "        text-align: right;\n",
       "    }\n",
       "</style>\n",
       "<table border=\"1\" class=\"dataframe\">\n",
       "  <thead>\n",
       "    <tr style=\"text-align: right;\">\n",
       "      <th></th>\n",
       "      <th>Startup</th>\n",
       "      <th>Product</th>\n",
       "      <th>Funding</th>\n",
       "      <th>Event</th>\n",
       "      <th>Result</th>\n",
       "      <th>OperatingState</th>\n",
       "    </tr>\n",
       "  </thead>\n",
       "  <tbody>\n",
       "    <tr>\n",
       "      <th>0</th>\n",
       "      <td>2600Hz</td>\n",
       "      <td>2600hz.com</td>\n",
       "      <td>NaN</td>\n",
       "      <td>Disrupt SF 2013</td>\n",
       "      <td>Contestant</td>\n",
       "      <td>Operating</td>\n",
       "    </tr>\n",
       "    <tr>\n",
       "      <th>1</th>\n",
       "      <td>3DLT</td>\n",
       "      <td>3dlt.com</td>\n",
       "      <td>$630K</td>\n",
       "      <td>Disrupt NYC 2013</td>\n",
       "      <td>Contestant</td>\n",
       "      <td>Closed</td>\n",
       "    </tr>\n",
       "    <tr>\n",
       "      <th>2</th>\n",
       "      <td>3DPrinterOS</td>\n",
       "      <td>3dprinteros.com</td>\n",
       "      <td>NaN</td>\n",
       "      <td>Disrupt SF 2016</td>\n",
       "      <td>Contestant</td>\n",
       "      <td>Operating</td>\n",
       "    </tr>\n",
       "    <tr>\n",
       "      <th>3</th>\n",
       "      <td>3Dprintler</td>\n",
       "      <td>3dprintler.com</td>\n",
       "      <td>$1M</td>\n",
       "      <td>Disrupt NY 2016</td>\n",
       "      <td>Audience choice</td>\n",
       "      <td>Operating</td>\n",
       "    </tr>\n",
       "    <tr>\n",
       "      <th>4</th>\n",
       "      <td>42 Technologies</td>\n",
       "      <td>42technologies.com</td>\n",
       "      <td>NaN</td>\n",
       "      <td>Disrupt NYC 2013</td>\n",
       "      <td>Contestant</td>\n",
       "      <td>Operating</td>\n",
       "    </tr>\n",
       "    <tr>\n",
       "      <th>...</th>\n",
       "      <td>...</td>\n",
       "      <td>...</td>\n",
       "      <td>...</td>\n",
       "      <td>...</td>\n",
       "      <td>...</td>\n",
       "      <td>...</td>\n",
       "    </tr>\n",
       "    <tr>\n",
       "      <th>657</th>\n",
       "      <td>Zivity</td>\n",
       "      <td>zivity.com</td>\n",
       "      <td>$8M</td>\n",
       "      <td>TC40 2007</td>\n",
       "      <td>Contestant</td>\n",
       "      <td>Operating</td>\n",
       "    </tr>\n",
       "    <tr>\n",
       "      <th>658</th>\n",
       "      <td>Zmorph</td>\n",
       "      <td>zmorph3d.com</td>\n",
       "      <td>$1M</td>\n",
       "      <td>-</td>\n",
       "      <td>Audience choice</td>\n",
       "      <td>Operating</td>\n",
       "    </tr>\n",
       "    <tr>\n",
       "      <th>659</th>\n",
       "      <td>Zocdoc</td>\n",
       "      <td>zocdoc.com</td>\n",
       "      <td>$223M</td>\n",
       "      <td>TC40 2007</td>\n",
       "      <td>Contestant</td>\n",
       "      <td>Operating</td>\n",
       "    </tr>\n",
       "    <tr>\n",
       "      <th>660</th>\n",
       "      <td>Zula</td>\n",
       "      <td>zulaapp.com</td>\n",
       "      <td>$3.4M</td>\n",
       "      <td>Disrupt SF 2013</td>\n",
       "      <td>Audience choice</td>\n",
       "      <td>Operating</td>\n",
       "    </tr>\n",
       "    <tr>\n",
       "      <th>661</th>\n",
       "      <td>Zumper</td>\n",
       "      <td>zumper.com</td>\n",
       "      <td>$31.5M</td>\n",
       "      <td>Disrupt SF 2012</td>\n",
       "      <td>Finalist</td>\n",
       "      <td>Operating</td>\n",
       "    </tr>\n",
       "  </tbody>\n",
       "</table>\n",
       "<p>662 rows × 6 columns</p>\n",
       "</div>"
      ],
      "text/plain": [
       "             Startup             Product Funding             Event  \\\n",
       "0             2600Hz          2600hz.com     NaN   Disrupt SF 2013   \n",
       "1               3DLT            3dlt.com   $630K  Disrupt NYC 2013   \n",
       "2        3DPrinterOS     3dprinteros.com     NaN   Disrupt SF 2016   \n",
       "3         3Dprintler      3dprintler.com     $1M   Disrupt NY 2016   \n",
       "4    42 Technologies  42technologies.com     NaN  Disrupt NYC 2013   \n",
       "..               ...                 ...     ...               ...   \n",
       "657           Zivity          zivity.com     $8M         TC40 2007   \n",
       "658           Zmorph        zmorph3d.com     $1M                 -   \n",
       "659           Zocdoc          zocdoc.com   $223M         TC40 2007   \n",
       "660             Zula         zulaapp.com   $3.4M   Disrupt SF 2013   \n",
       "661           Zumper          zumper.com  $31.5M   Disrupt SF 2012   \n",
       "\n",
       "              Result OperatingState  \n",
       "0         Contestant      Operating  \n",
       "1         Contestant         Closed  \n",
       "2         Contestant      Operating  \n",
       "3    Audience choice      Operating  \n",
       "4         Contestant      Operating  \n",
       "..               ...            ...  \n",
       "657       Contestant      Operating  \n",
       "658  Audience choice      Operating  \n",
       "659       Contestant      Operating  \n",
       "660  Audience choice      Operating  \n",
       "661         Finalist      Operating  \n",
       "\n",
       "[662 rows x 6 columns]"
      ]
     },
     "execution_count": 153,
     "metadata": {},
     "output_type": "execute_result"
    }
   ],
   "source": [
    "df_copy= start.copy()\n",
    "df_copy"
   ]
  },
  {
   "cell_type": "markdown",
   "id": "d9698a69",
   "metadata": {},
   "source": [
    "### E) Frequency distribution of result variables "
   ]
  },
  {
   "cell_type": "code",
   "execution_count": 154,
   "id": "2020246d",
   "metadata": {},
   "outputs": [
    {
     "data": {
      "text/plain": [
       "Contestant         488\n",
       "Finalist            84\n",
       "Audience choice     41\n",
       "Winner              26\n",
       "Runner up           23\n",
       "Name: Result, dtype: int64"
      ]
     },
     "execution_count": 154,
     "metadata": {},
     "output_type": "execute_result"
    }
   ],
   "source": [
    "df_copy['Result'].value_counts()"
   ]
  },
  {
   "cell_type": "markdown",
   "id": "1528bbc7",
   "metadata": {},
   "source": [
    "### F) Percentage of contestants and winner that are still Operating \n",
    "\n",
    "**percentage_Contestant= 0.713978**  \n",
    "**percentage_Winner= 0.04086**"
   ]
  },
  {
   "cell_type": "code",
   "execution_count": 155,
   "id": "378cd207",
   "metadata": {},
   "outputs": [],
   "source": [
    "data_Operating= df_copy[df_copy[\"OperatingState\"]=='Operating']"
   ]
  },
  {
   "cell_type": "code",
   "execution_count": 156,
   "id": "cb2d6c03",
   "metadata": {},
   "outputs": [
    {
     "data": {
      "text/html": [
       "<div>\n",
       "<style scoped>\n",
       "    .dataframe tbody tr th:only-of-type {\n",
       "        vertical-align: middle;\n",
       "    }\n",
       "\n",
       "    .dataframe tbody tr th {\n",
       "        vertical-align: top;\n",
       "    }\n",
       "\n",
       "    .dataframe thead th {\n",
       "        text-align: right;\n",
       "    }\n",
       "</style>\n",
       "<table border=\"1\" class=\"dataframe\">\n",
       "  <thead>\n",
       "    <tr style=\"text-align: right;\">\n",
       "      <th></th>\n",
       "      <th>Startup</th>\n",
       "      <th>Product</th>\n",
       "      <th>Funding</th>\n",
       "      <th>Event</th>\n",
       "      <th>Result</th>\n",
       "      <th>OperatingState</th>\n",
       "    </tr>\n",
       "  </thead>\n",
       "  <tbody>\n",
       "    <tr>\n",
       "      <th>0</th>\n",
       "      <td>2600Hz</td>\n",
       "      <td>2600hz.com</td>\n",
       "      <td>NaN</td>\n",
       "      <td>Disrupt SF 2013</td>\n",
       "      <td>Contestant</td>\n",
       "      <td>Operating</td>\n",
       "    </tr>\n",
       "    <tr>\n",
       "      <th>2</th>\n",
       "      <td>3DPrinterOS</td>\n",
       "      <td>3dprinteros.com</td>\n",
       "      <td>NaN</td>\n",
       "      <td>Disrupt SF 2016</td>\n",
       "      <td>Contestant</td>\n",
       "      <td>Operating</td>\n",
       "    </tr>\n",
       "    <tr>\n",
       "      <th>3</th>\n",
       "      <td>3Dprintler</td>\n",
       "      <td>3dprintler.com</td>\n",
       "      <td>$1M</td>\n",
       "      <td>Disrupt NY 2016</td>\n",
       "      <td>Audience choice</td>\n",
       "      <td>Operating</td>\n",
       "    </tr>\n",
       "    <tr>\n",
       "      <th>4</th>\n",
       "      <td>42 Technologies</td>\n",
       "      <td>42technologies.com</td>\n",
       "      <td>NaN</td>\n",
       "      <td>Disrupt NYC 2013</td>\n",
       "      <td>Contestant</td>\n",
       "      <td>Operating</td>\n",
       "    </tr>\n",
       "    <tr>\n",
       "      <th>6</th>\n",
       "      <td>8 Securities</td>\n",
       "      <td>8securities.com</td>\n",
       "      <td>$29M</td>\n",
       "      <td>Disrupt Beijing 2011</td>\n",
       "      <td>Finalist</td>\n",
       "      <td>Operating</td>\n",
       "    </tr>\n",
       "    <tr>\n",
       "      <th>...</th>\n",
       "      <td>...</td>\n",
       "      <td>...</td>\n",
       "      <td>...</td>\n",
       "      <td>...</td>\n",
       "      <td>...</td>\n",
       "      <td>...</td>\n",
       "    </tr>\n",
       "    <tr>\n",
       "      <th>657</th>\n",
       "      <td>Zivity</td>\n",
       "      <td>zivity.com</td>\n",
       "      <td>$8M</td>\n",
       "      <td>TC40 2007</td>\n",
       "      <td>Contestant</td>\n",
       "      <td>Operating</td>\n",
       "    </tr>\n",
       "    <tr>\n",
       "      <th>658</th>\n",
       "      <td>Zmorph</td>\n",
       "      <td>zmorph3d.com</td>\n",
       "      <td>$1M</td>\n",
       "      <td>-</td>\n",
       "      <td>Audience choice</td>\n",
       "      <td>Operating</td>\n",
       "    </tr>\n",
       "    <tr>\n",
       "      <th>659</th>\n",
       "      <td>Zocdoc</td>\n",
       "      <td>zocdoc.com</td>\n",
       "      <td>$223M</td>\n",
       "      <td>TC40 2007</td>\n",
       "      <td>Contestant</td>\n",
       "      <td>Operating</td>\n",
       "    </tr>\n",
       "    <tr>\n",
       "      <th>660</th>\n",
       "      <td>Zula</td>\n",
       "      <td>zulaapp.com</td>\n",
       "      <td>$3.4M</td>\n",
       "      <td>Disrupt SF 2013</td>\n",
       "      <td>Audience choice</td>\n",
       "      <td>Operating</td>\n",
       "    </tr>\n",
       "    <tr>\n",
       "      <th>661</th>\n",
       "      <td>Zumper</td>\n",
       "      <td>zumper.com</td>\n",
       "      <td>$31.5M</td>\n",
       "      <td>Disrupt SF 2012</td>\n",
       "      <td>Finalist</td>\n",
       "      <td>Operating</td>\n",
       "    </tr>\n",
       "  </tbody>\n",
       "</table>\n",
       "<p>465 rows × 6 columns</p>\n",
       "</div>"
      ],
      "text/plain": [
       "             Startup             Product Funding                 Event  \\\n",
       "0             2600Hz          2600hz.com     NaN       Disrupt SF 2013   \n",
       "2        3DPrinterOS     3dprinteros.com     NaN       Disrupt SF 2016   \n",
       "3         3Dprintler      3dprintler.com     $1M       Disrupt NY 2016   \n",
       "4    42 Technologies  42technologies.com     NaN      Disrupt NYC 2013   \n",
       "6       8 Securities     8securities.com    $29M  Disrupt Beijing 2011   \n",
       "..               ...                 ...     ...                   ...   \n",
       "657           Zivity          zivity.com     $8M             TC40 2007   \n",
       "658           Zmorph        zmorph3d.com     $1M                     -   \n",
       "659           Zocdoc          zocdoc.com   $223M             TC40 2007   \n",
       "660             Zula         zulaapp.com   $3.4M       Disrupt SF 2013   \n",
       "661           Zumper          zumper.com  $31.5M       Disrupt SF 2012   \n",
       "\n",
       "              Result OperatingState  \n",
       "0         Contestant      Operating  \n",
       "2         Contestant      Operating  \n",
       "3    Audience choice      Operating  \n",
       "4         Contestant      Operating  \n",
       "6           Finalist      Operating  \n",
       "..               ...            ...  \n",
       "657       Contestant      Operating  \n",
       "658  Audience choice      Operating  \n",
       "659       Contestant      Operating  \n",
       "660  Audience choice      Operating  \n",
       "661         Finalist      Operating  \n",
       "\n",
       "[465 rows x 6 columns]"
      ]
     },
     "execution_count": 156,
     "metadata": {},
     "output_type": "execute_result"
    }
   ],
   "source": [
    "data_Operating"
   ]
  },
  {
   "cell_type": "code",
   "execution_count": 157,
   "id": "0b826db3",
   "metadata": {},
   "outputs": [
    {
     "data": {
      "text/html": [
       "<div>\n",
       "<style scoped>\n",
       "    .dataframe tbody tr th:only-of-type {\n",
       "        vertical-align: middle;\n",
       "    }\n",
       "\n",
       "    .dataframe tbody tr th {\n",
       "        vertical-align: top;\n",
       "    }\n",
       "\n",
       "    .dataframe thead th {\n",
       "        text-align: right;\n",
       "    }\n",
       "</style>\n",
       "<table border=\"1\" class=\"dataframe\">\n",
       "  <thead>\n",
       "    <tr style=\"text-align: right;\">\n",
       "      <th></th>\n",
       "      <th>Result</th>\n",
       "    </tr>\n",
       "  </thead>\n",
       "  <tbody>\n",
       "    <tr>\n",
       "      <th>Contestant</th>\n",
       "      <td>332</td>\n",
       "    </tr>\n",
       "    <tr>\n",
       "      <th>Finalist</th>\n",
       "      <td>61</td>\n",
       "    </tr>\n",
       "    <tr>\n",
       "      <th>Audience choice</th>\n",
       "      <td>32</td>\n",
       "    </tr>\n",
       "    <tr>\n",
       "      <th>Runner up</th>\n",
       "      <td>21</td>\n",
       "    </tr>\n",
       "    <tr>\n",
       "      <th>Winner</th>\n",
       "      <td>19</td>\n",
       "    </tr>\n",
       "  </tbody>\n",
       "</table>\n",
       "</div>"
      ],
      "text/plain": [
       "                 Result\n",
       "Contestant          332\n",
       "Finalist             61\n",
       "Audience choice      32\n",
       "Runner up            21\n",
       "Winner               19"
      ]
     },
     "execution_count": 157,
     "metadata": {},
     "output_type": "execute_result"
    }
   ],
   "source": [
    "percentage= pd.DataFrame(data_Operating[\"Result\"].value_counts())\n",
    "percentage"
   ]
  },
  {
   "cell_type": "code",
   "execution_count": 158,
   "id": "1365a3d5",
   "metadata": {},
   "outputs": [
    {
     "data": {
      "text/html": [
       "<div>\n",
       "<style scoped>\n",
       "    .dataframe tbody tr th:only-of-type {\n",
       "        vertical-align: middle;\n",
       "    }\n",
       "\n",
       "    .dataframe tbody tr th {\n",
       "        vertical-align: top;\n",
       "    }\n",
       "\n",
       "    .dataframe thead th {\n",
       "        text-align: right;\n",
       "    }\n",
       "</style>\n",
       "<table border=\"1\" class=\"dataframe\">\n",
       "  <thead>\n",
       "    <tr style=\"text-align: right;\">\n",
       "      <th></th>\n",
       "      <th>Contestant</th>\n",
       "      <th>Finalist</th>\n",
       "      <th>Audience choice</th>\n",
       "      <th>Runner up</th>\n",
       "      <th>Winner</th>\n",
       "    </tr>\n",
       "  </thead>\n",
       "  <tbody>\n",
       "    <tr>\n",
       "      <th>Result</th>\n",
       "      <td>0.713978</td>\n",
       "      <td>0.131183</td>\n",
       "      <td>0.068817</td>\n",
       "      <td>0.045161</td>\n",
       "      <td>0.04086</td>\n",
       "    </tr>\n",
       "  </tbody>\n",
       "</table>\n",
       "</div>"
      ],
      "text/plain": [
       "        Contestant  Finalist  Audience choice  Runner up   Winner\n",
       "Result    0.713978  0.131183         0.068817   0.045161  0.04086"
      ]
     },
     "execution_count": 158,
     "metadata": {},
     "output_type": "execute_result"
    }
   ],
   "source": [
    "percentage= pd.DataFrame(data_Operating[\"Result\"].value_counts(normalize= True))\n",
    "percentage.T"
   ]
  },
  {
   "cell_type": "markdown",
   "id": "5b10718f",
   "metadata": {},
   "source": [
    "### G) & H) "
   ]
  },
  {
   "cell_type": "code",
   "execution_count": 159,
   "id": "5f88466c",
   "metadata": {},
   "outputs": [],
   "source": [
    "from statsmodels.stats.proportion import proportions_ztest"
   ]
  },
  {
   "cell_type": "code",
   "execution_count": 160,
   "id": "de4b2ff4",
   "metadata": {},
   "outputs": [
    {
     "data": {
      "text/plain": [
       "(21.173515526915622, 1.6757881290464125e-99)"
      ]
     },
     "execution_count": 160,
     "metadata": {},
     "output_type": "execute_result"
    }
   ],
   "source": [
    "proportions_ztest([332,19], [465,465])"
   ]
  },
  {
   "cell_type": "code",
   "execution_count": 161,
   "id": "386489fa",
   "metadata": {},
   "outputs": [],
   "source": [
    "pvalue= 1.67e-99 <0.05"
   ]
  },
  {
   "cell_type": "markdown",
   "id": "3d5f71f6",
   "metadata": {},
   "source": [
    "###  Summary:\n",
    "\n",
    "   * H0: Null Hypothesis- Proportion of companies operating between winners and contestants is same\n",
    "   * Ha: Alternative Hypothesis- Proportion of companies operating between winner and contestants is      different\n",
    "   * level of significance is 0.05 or 5 %.\n",
    "   * pvalue by proportions_ztest is very less.(less than 5%)\n",
    "   * So we reject Null Hypothesis.\n",
    "   \n",
    "   conclusion: Proportions of companies operating between winner and contestants is not same. \n",
    "   \n"
   ]
  },
  {
   "cell_type": "markdown",
   "id": "6ea8f1ab",
   "metadata": {},
   "source": [
    "### Event that has ‘disrupt’ keyword from 2013 onwards "
   ]
  },
  {
   "cell_type": "code",
   "execution_count": 162,
   "id": "6d842ac6",
   "metadata": {
    "scrolled": true
   },
   "outputs": [
    {
     "data": {
      "text/html": [
       "<div>\n",
       "<style scoped>\n",
       "    .dataframe tbody tr th:only-of-type {\n",
       "        vertical-align: middle;\n",
       "    }\n",
       "\n",
       "    .dataframe tbody tr th {\n",
       "        vertical-align: top;\n",
       "    }\n",
       "\n",
       "    .dataframe thead th {\n",
       "        text-align: right;\n",
       "    }\n",
       "</style>\n",
       "<table border=\"1\" class=\"dataframe\">\n",
       "  <thead>\n",
       "    <tr style=\"text-align: right;\">\n",
       "      <th></th>\n",
       "      <th>Startup</th>\n",
       "      <th>Product</th>\n",
       "      <th>Funding</th>\n",
       "      <th>Event</th>\n",
       "      <th>Result</th>\n",
       "      <th>OperatingState</th>\n",
       "    </tr>\n",
       "  </thead>\n",
       "  <tbody>\n",
       "    <tr>\n",
       "      <th>0</th>\n",
       "      <td>2600Hz</td>\n",
       "      <td>2600hz.com</td>\n",
       "      <td>NaN</td>\n",
       "      <td>Disrupt SF 2013</td>\n",
       "      <td>Contestant</td>\n",
       "      <td>Operating</td>\n",
       "    </tr>\n",
       "    <tr>\n",
       "      <th>1</th>\n",
       "      <td>3DLT</td>\n",
       "      <td>3dlt.com</td>\n",
       "      <td>$630K</td>\n",
       "      <td>Disrupt NYC 2013</td>\n",
       "      <td>Contestant</td>\n",
       "      <td>Closed</td>\n",
       "    </tr>\n",
       "    <tr>\n",
       "      <th>2</th>\n",
       "      <td>3DPrinterOS</td>\n",
       "      <td>3dprinteros.com</td>\n",
       "      <td>NaN</td>\n",
       "      <td>Disrupt SF 2016</td>\n",
       "      <td>Contestant</td>\n",
       "      <td>Operating</td>\n",
       "    </tr>\n",
       "    <tr>\n",
       "      <th>3</th>\n",
       "      <td>3Dprintler</td>\n",
       "      <td>3dprintler.com</td>\n",
       "      <td>$1M</td>\n",
       "      <td>Disrupt NY 2016</td>\n",
       "      <td>Audience choice</td>\n",
       "      <td>Operating</td>\n",
       "    </tr>\n",
       "    <tr>\n",
       "      <th>4</th>\n",
       "      <td>42 Technologies</td>\n",
       "      <td>42technologies.com</td>\n",
       "      <td>NaN</td>\n",
       "      <td>Disrupt NYC 2013</td>\n",
       "      <td>Contestant</td>\n",
       "      <td>Operating</td>\n",
       "    </tr>\n",
       "    <tr>\n",
       "      <th>...</th>\n",
       "      <td>...</td>\n",
       "      <td>...</td>\n",
       "      <td>...</td>\n",
       "      <td>...</td>\n",
       "      <td>...</td>\n",
       "      <td>...</td>\n",
       "    </tr>\n",
       "    <tr>\n",
       "      <th>657</th>\n",
       "      <td>Zivity</td>\n",
       "      <td>zivity.com</td>\n",
       "      <td>$8M</td>\n",
       "      <td>TC40 2007</td>\n",
       "      <td>Contestant</td>\n",
       "      <td>Operating</td>\n",
       "    </tr>\n",
       "    <tr>\n",
       "      <th>658</th>\n",
       "      <td>Zmorph</td>\n",
       "      <td>zmorph3d.com</td>\n",
       "      <td>$1M</td>\n",
       "      <td>-</td>\n",
       "      <td>Audience choice</td>\n",
       "      <td>Operating</td>\n",
       "    </tr>\n",
       "    <tr>\n",
       "      <th>659</th>\n",
       "      <td>Zocdoc</td>\n",
       "      <td>zocdoc.com</td>\n",
       "      <td>$223M</td>\n",
       "      <td>TC40 2007</td>\n",
       "      <td>Contestant</td>\n",
       "      <td>Operating</td>\n",
       "    </tr>\n",
       "    <tr>\n",
       "      <th>660</th>\n",
       "      <td>Zula</td>\n",
       "      <td>zulaapp.com</td>\n",
       "      <td>$3.4M</td>\n",
       "      <td>Disrupt SF 2013</td>\n",
       "      <td>Audience choice</td>\n",
       "      <td>Operating</td>\n",
       "    </tr>\n",
       "    <tr>\n",
       "      <th>661</th>\n",
       "      <td>Zumper</td>\n",
       "      <td>zumper.com</td>\n",
       "      <td>$31.5M</td>\n",
       "      <td>Disrupt SF 2012</td>\n",
       "      <td>Finalist</td>\n",
       "      <td>Operating</td>\n",
       "    </tr>\n",
       "  </tbody>\n",
       "</table>\n",
       "<p>662 rows × 6 columns</p>\n",
       "</div>"
      ],
      "text/plain": [
       "             Startup             Product Funding             Event  \\\n",
       "0             2600Hz          2600hz.com     NaN   Disrupt SF 2013   \n",
       "1               3DLT            3dlt.com   $630K  Disrupt NYC 2013   \n",
       "2        3DPrinterOS     3dprinteros.com     NaN   Disrupt SF 2016   \n",
       "3         3Dprintler      3dprintler.com     $1M   Disrupt NY 2016   \n",
       "4    42 Technologies  42technologies.com     NaN  Disrupt NYC 2013   \n",
       "..               ...                 ...     ...               ...   \n",
       "657           Zivity          zivity.com     $8M         TC40 2007   \n",
       "658           Zmorph        zmorph3d.com     $1M                 -   \n",
       "659           Zocdoc          zocdoc.com   $223M         TC40 2007   \n",
       "660             Zula         zulaapp.com   $3.4M   Disrupt SF 2013   \n",
       "661           Zumper          zumper.com  $31.5M   Disrupt SF 2012   \n",
       "\n",
       "              Result OperatingState  \n",
       "0         Contestant      Operating  \n",
       "1         Contestant         Closed  \n",
       "2         Contestant      Operating  \n",
       "3    Audience choice      Operating  \n",
       "4         Contestant      Operating  \n",
       "..               ...            ...  \n",
       "657       Contestant      Operating  \n",
       "658  Audience choice      Operating  \n",
       "659       Contestant      Operating  \n",
       "660  Audience choice      Operating  \n",
       "661         Finalist      Operating  \n",
       "\n",
       "[662 rows x 6 columns]"
      ]
     },
     "execution_count": 162,
     "metadata": {},
     "output_type": "execute_result"
    }
   ],
   "source": [
    "df_copy"
   ]
  },
  {
   "cell_type": "code",
   "execution_count": 163,
   "id": "f6da4d7e",
   "metadata": {},
   "outputs": [
    {
     "data": {
      "text/html": [
       "<div>\n",
       "<style scoped>\n",
       "    .dataframe tbody tr th:only-of-type {\n",
       "        vertical-align: middle;\n",
       "    }\n",
       "\n",
       "    .dataframe tbody tr th {\n",
       "        vertical-align: top;\n",
       "    }\n",
       "\n",
       "    .dataframe thead th {\n",
       "        text-align: right;\n",
       "    }\n",
       "</style>\n",
       "<table border=\"1\" class=\"dataframe\">\n",
       "  <thead>\n",
       "    <tr style=\"text-align: right;\">\n",
       "      <th></th>\n",
       "      <th>Startup</th>\n",
       "      <th>Product</th>\n",
       "      <th>Funding</th>\n",
       "      <th>Event</th>\n",
       "      <th>Result</th>\n",
       "      <th>OperatingState</th>\n",
       "    </tr>\n",
       "  </thead>\n",
       "  <tbody>\n",
       "    <tr>\n",
       "      <th>0</th>\n",
       "      <td>2600Hz</td>\n",
       "      <td>2600hz.com</td>\n",
       "      <td>NaN</td>\n",
       "      <td>Disrupt SF 2013</td>\n",
       "      <td>Contestant</td>\n",
       "      <td>Operating</td>\n",
       "    </tr>\n",
       "    <tr>\n",
       "      <th>1</th>\n",
       "      <td>3DLT</td>\n",
       "      <td>3dlt.com</td>\n",
       "      <td>$630K</td>\n",
       "      <td>Disrupt NYC 2013</td>\n",
       "      <td>Contestant</td>\n",
       "      <td>Closed</td>\n",
       "    </tr>\n",
       "    <tr>\n",
       "      <th>2</th>\n",
       "      <td>3DPrinterOS</td>\n",
       "      <td>3dprinteros.com</td>\n",
       "      <td>NaN</td>\n",
       "      <td>Disrupt SF 2016</td>\n",
       "      <td>Contestant</td>\n",
       "      <td>Operating</td>\n",
       "    </tr>\n",
       "    <tr>\n",
       "      <th>3</th>\n",
       "      <td>3Dprintler</td>\n",
       "      <td>3dprintler.com</td>\n",
       "      <td>$1M</td>\n",
       "      <td>Disrupt NY 2016</td>\n",
       "      <td>Audience choice</td>\n",
       "      <td>Operating</td>\n",
       "    </tr>\n",
       "    <tr>\n",
       "      <th>4</th>\n",
       "      <td>42 Technologies</td>\n",
       "      <td>42technologies.com</td>\n",
       "      <td>NaN</td>\n",
       "      <td>Disrupt NYC 2013</td>\n",
       "      <td>Contestant</td>\n",
       "      <td>Operating</td>\n",
       "    </tr>\n",
       "    <tr>\n",
       "      <th>...</th>\n",
       "      <td>...</td>\n",
       "      <td>...</td>\n",
       "      <td>...</td>\n",
       "      <td>...</td>\n",
       "      <td>...</td>\n",
       "      <td>...</td>\n",
       "    </tr>\n",
       "    <tr>\n",
       "      <th>653</th>\n",
       "      <td>ZAP!</td>\n",
       "      <td>zapreklam.com/</td>\n",
       "      <td>NaN</td>\n",
       "      <td>Disrupt EU 2014</td>\n",
       "      <td>Audience choice</td>\n",
       "      <td>Operating</td>\n",
       "    </tr>\n",
       "    <tr>\n",
       "      <th>654</th>\n",
       "      <td>ZEFR</td>\n",
       "      <td>zefr.com</td>\n",
       "      <td>$62.1M</td>\n",
       "      <td>Disrupt NYC 2010</td>\n",
       "      <td>Contestant</td>\n",
       "      <td>Operating</td>\n",
       "    </tr>\n",
       "    <tr>\n",
       "      <th>656</th>\n",
       "      <td>Zenefits</td>\n",
       "      <td>zenefits.com</td>\n",
       "      <td>$583.6M</td>\n",
       "      <td>Disrupt NYC 2013</td>\n",
       "      <td>Finalist</td>\n",
       "      <td>Operating</td>\n",
       "    </tr>\n",
       "    <tr>\n",
       "      <th>660</th>\n",
       "      <td>Zula</td>\n",
       "      <td>zulaapp.com</td>\n",
       "      <td>$3.4M</td>\n",
       "      <td>Disrupt SF 2013</td>\n",
       "      <td>Audience choice</td>\n",
       "      <td>Operating</td>\n",
       "    </tr>\n",
       "    <tr>\n",
       "      <th>661</th>\n",
       "      <td>Zumper</td>\n",
       "      <td>zumper.com</td>\n",
       "      <td>$31.5M</td>\n",
       "      <td>Disrupt SF 2012</td>\n",
       "      <td>Finalist</td>\n",
       "      <td>Operating</td>\n",
       "    </tr>\n",
       "  </tbody>\n",
       "</table>\n",
       "<p>465 rows × 6 columns</p>\n",
       "</div>"
      ],
      "text/plain": [
       "             Startup             Product  Funding             Event  \\\n",
       "0             2600Hz          2600hz.com      NaN   Disrupt SF 2013   \n",
       "1               3DLT            3dlt.com    $630K  Disrupt NYC 2013   \n",
       "2        3DPrinterOS     3dprinteros.com      NaN   Disrupt SF 2016   \n",
       "3         3Dprintler      3dprintler.com      $1M   Disrupt NY 2016   \n",
       "4    42 Technologies  42technologies.com      NaN  Disrupt NYC 2013   \n",
       "..               ...                 ...      ...               ...   \n",
       "653             ZAP!      zapreklam.com/      NaN   Disrupt EU 2014   \n",
       "654             ZEFR            zefr.com   $62.1M  Disrupt NYC 2010   \n",
       "656         Zenefits        zenefits.com  $583.6M  Disrupt NYC 2013   \n",
       "660             Zula         zulaapp.com    $3.4M   Disrupt SF 2013   \n",
       "661           Zumper          zumper.com   $31.5M   Disrupt SF 2012   \n",
       "\n",
       "              Result OperatingState  \n",
       "0         Contestant      Operating  \n",
       "1         Contestant         Closed  \n",
       "2         Contestant      Operating  \n",
       "3    Audience choice      Operating  \n",
       "4         Contestant      Operating  \n",
       "..               ...            ...  \n",
       "653  Audience choice      Operating  \n",
       "654       Contestant      Operating  \n",
       "656         Finalist      Operating  \n",
       "660  Audience choice      Operating  \n",
       "661         Finalist      Operating  \n",
       "\n",
       "[465 rows x 6 columns]"
      ]
     },
     "execution_count": 163,
     "metadata": {},
     "output_type": "execute_result"
    }
   ],
   "source": [
    "# Selecting those rows which have Disrupt Event in them.\n",
    "\n",
    "disrupt=df_copy[df_copy['Event'].str.contains('Disrupt', regex= False)]\n",
    "disrupt"
   ]
  },
  {
   "cell_type": "code",
   "execution_count": 164,
   "id": "cc45c85b",
   "metadata": {},
   "outputs": [
    {
     "data": {
      "text/html": [
       "<div>\n",
       "<style scoped>\n",
       "    .dataframe tbody tr th:only-of-type {\n",
       "        vertical-align: middle;\n",
       "    }\n",
       "\n",
       "    .dataframe tbody tr th {\n",
       "        vertical-align: top;\n",
       "    }\n",
       "\n",
       "    .dataframe thead th {\n",
       "        text-align: right;\n",
       "    }\n",
       "</style>\n",
       "<table border=\"1\" class=\"dataframe\">\n",
       "  <thead>\n",
       "    <tr style=\"text-align: right;\">\n",
       "      <th></th>\n",
       "      <th>Startup</th>\n",
       "      <th>Product</th>\n",
       "      <th>Funding</th>\n",
       "      <th>Event</th>\n",
       "      <th>Result</th>\n",
       "      <th>OperatingState</th>\n",
       "    </tr>\n",
       "  </thead>\n",
       "  <tbody>\n",
       "    <tr>\n",
       "      <th>0</th>\n",
       "      <td>2600Hz</td>\n",
       "      <td>2600hz.com</td>\n",
       "      <td>NaN</td>\n",
       "      <td>Disrupt SF 2013</td>\n",
       "      <td>Contestant</td>\n",
       "      <td>Operating</td>\n",
       "    </tr>\n",
       "    <tr>\n",
       "      <th>1</th>\n",
       "      <td>3DLT</td>\n",
       "      <td>3dlt.com</td>\n",
       "      <td>$630K</td>\n",
       "      <td>Disrupt NYC 2013</td>\n",
       "      <td>Contestant</td>\n",
       "      <td>Closed</td>\n",
       "    </tr>\n",
       "    <tr>\n",
       "      <th>2</th>\n",
       "      <td>42 Technologies</td>\n",
       "      <td>42technologies.com</td>\n",
       "      <td>NaN</td>\n",
       "      <td>Disrupt NYC 2013</td>\n",
       "      <td>Contestant</td>\n",
       "      <td>Operating</td>\n",
       "    </tr>\n",
       "    <tr>\n",
       "      <th>3</th>\n",
       "      <td>Ansa</td>\n",
       "      <td>ansa.com</td>\n",
       "      <td>NaN</td>\n",
       "      <td>Disrupt SF 2013</td>\n",
       "      <td>Contestant</td>\n",
       "      <td>Operating</td>\n",
       "    </tr>\n",
       "    <tr>\n",
       "      <th>4</th>\n",
       "      <td>AppArchitect</td>\n",
       "      <td>apparchitect.com</td>\n",
       "      <td>NaN</td>\n",
       "      <td>Disrupt NYC 2013</td>\n",
       "      <td>Contestant</td>\n",
       "      <td>Acquired</td>\n",
       "    </tr>\n",
       "    <tr>\n",
       "      <th>...</th>\n",
       "      <td>...</td>\n",
       "      <td>...</td>\n",
       "      <td>...</td>\n",
       "      <td>...</td>\n",
       "      <td>...</td>\n",
       "      <td>...</td>\n",
       "    </tr>\n",
       "    <tr>\n",
       "      <th>271</th>\n",
       "      <td>UpScored</td>\n",
       "      <td>upscored.com</td>\n",
       "      <td>NaN</td>\n",
       "      <td>Disrupt NY 2016</td>\n",
       "      <td>Contestant</td>\n",
       "      <td>Operating</td>\n",
       "    </tr>\n",
       "    <tr>\n",
       "      <th>272</th>\n",
       "      <td>Vault</td>\n",
       "      <td>getvault.com</td>\n",
       "      <td>$1.6M</td>\n",
       "      <td>Disrupt London 2016</td>\n",
       "      <td>Audience choice</td>\n",
       "      <td>Operating</td>\n",
       "    </tr>\n",
       "    <tr>\n",
       "      <th>273</th>\n",
       "      <td>WaterO</td>\n",
       "      <td>wateropurifier.com</td>\n",
       "      <td>$85.7K</td>\n",
       "      <td>Disrupt NY 2016</td>\n",
       "      <td>Runner up</td>\n",
       "      <td>Operating</td>\n",
       "    </tr>\n",
       "    <tr>\n",
       "      <th>274</th>\n",
       "      <td>WAZER</td>\n",
       "      <td>wazer.com</td>\n",
       "      <td>$1.4M</td>\n",
       "      <td>Disrupt SF 2016</td>\n",
       "      <td>Contestant</td>\n",
       "      <td>Operating</td>\n",
       "    </tr>\n",
       "    <tr>\n",
       "      <th>275</th>\n",
       "      <td>WEconnect</td>\n",
       "      <td>weconnectrecovery.com</td>\n",
       "      <td>$2.1M</td>\n",
       "      <td>Disrupt SF 2016</td>\n",
       "      <td>Audience choice</td>\n",
       "      <td>Operating</td>\n",
       "    </tr>\n",
       "  </tbody>\n",
       "</table>\n",
       "<p>276 rows × 6 columns</p>\n",
       "</div>"
      ],
      "text/plain": [
       "             Startup                Product Funding                Event  \\\n",
       "0             2600Hz             2600hz.com     NaN      Disrupt SF 2013   \n",
       "1               3DLT               3dlt.com   $630K     Disrupt NYC 2013   \n",
       "2    42 Technologies     42technologies.com     NaN     Disrupt NYC 2013   \n",
       "3               Ansa               ansa.com     NaN      Disrupt SF 2013   \n",
       "4       AppArchitect       apparchitect.com     NaN     Disrupt NYC 2013   \n",
       "..               ...                    ...     ...                  ...   \n",
       "271         UpScored           upscored.com     NaN      Disrupt NY 2016   \n",
       "272            Vault           getvault.com   $1.6M  Disrupt London 2016   \n",
       "273           WaterO     wateropurifier.com  $85.7K      Disrupt NY 2016   \n",
       "274            WAZER              wazer.com   $1.4M      Disrupt SF 2016   \n",
       "275        WEconnect  weconnectrecovery.com   $2.1M      Disrupt SF 2016   \n",
       "\n",
       "              Result OperatingState  \n",
       "0         Contestant      Operating  \n",
       "1         Contestant         Closed  \n",
       "2         Contestant      Operating  \n",
       "3         Contestant      Operating  \n",
       "4         Contestant       Acquired  \n",
       "..               ...            ...  \n",
       "271       Contestant      Operating  \n",
       "272  Audience choice      Operating  \n",
       "273        Runner up      Operating  \n",
       "274       Contestant      Operating  \n",
       "275  Audience choice      Operating  \n",
       "\n",
       "[276 rows x 6 columns]"
      ]
     },
     "execution_count": 164,
     "metadata": {},
     "output_type": "execute_result"
    }
   ],
   "source": [
    "# now selecting those rows which have year 2013 and above in them\n",
    "\n",
    "ds1=disrupt[disrupt[\"Event\"].str.endswith('3' )]\n",
    "ds2=disrupt[disrupt[\"Event\"].str.endswith('4' )]\n",
    "ds3=disrupt[disrupt[\"Event\"].str.endswith('5' )]\n",
    "ds4=disrupt[disrupt[\"Event\"].str.endswith('6' )]\n",
    "\n",
    "# finally concating the dataframes to get a new df\n",
    "final_disrupt=pd.concat([ds1,ds2,ds3,ds4], axis= 0)\n",
    "final_disrupt.reset_index(inplace= True, drop= True)\n",
    "final_disrupt"
   ]
  },
  {
   "cell_type": "code",
   "execution_count": 165,
   "id": "fbaef6e0",
   "metadata": {},
   "outputs": [
    {
     "data": {
      "text/html": [
       "<div>\n",
       "<style scoped>\n",
       "    .dataframe tbody tr th:only-of-type {\n",
       "        vertical-align: middle;\n",
       "    }\n",
       "\n",
       "    .dataframe tbody tr th {\n",
       "        vertical-align: top;\n",
       "    }\n",
       "\n",
       "    .dataframe thead th {\n",
       "        text-align: right;\n",
       "    }\n",
       "</style>\n",
       "<table border=\"1\" class=\"dataframe\">\n",
       "  <thead>\n",
       "    <tr style=\"text-align: right;\">\n",
       "      <th></th>\n",
       "      <th>0</th>\n",
       "    </tr>\n",
       "  </thead>\n",
       "  <tbody>\n",
       "    <tr>\n",
       "      <th>0</th>\n",
       "      <td>Disrupt SF 2013</td>\n",
       "    </tr>\n",
       "    <tr>\n",
       "      <th>1</th>\n",
       "      <td>Disrupt NYC 2013</td>\n",
       "    </tr>\n",
       "    <tr>\n",
       "      <th>2</th>\n",
       "      <td>Disrupt EU 2013</td>\n",
       "    </tr>\n",
       "    <tr>\n",
       "      <th>3</th>\n",
       "      <td>Disrupt NYC 2014</td>\n",
       "    </tr>\n",
       "    <tr>\n",
       "      <th>4</th>\n",
       "      <td>Disrupt SF 2014</td>\n",
       "    </tr>\n",
       "    <tr>\n",
       "      <th>5</th>\n",
       "      <td>Disrupt EU 2014</td>\n",
       "    </tr>\n",
       "    <tr>\n",
       "      <th>6</th>\n",
       "      <td>Disrupt SF 2015</td>\n",
       "    </tr>\n",
       "    <tr>\n",
       "      <th>7</th>\n",
       "      <td>Disrupt NY 2015</td>\n",
       "    </tr>\n",
       "    <tr>\n",
       "      <th>8</th>\n",
       "      <td>Disrupt London 2015</td>\n",
       "    </tr>\n",
       "    <tr>\n",
       "      <th>9</th>\n",
       "      <td>Disrupt SF 2016</td>\n",
       "    </tr>\n",
       "    <tr>\n",
       "      <th>10</th>\n",
       "      <td>Disrupt NY 2016</td>\n",
       "    </tr>\n",
       "    <tr>\n",
       "      <th>11</th>\n",
       "      <td>Disrupt London 2016</td>\n",
       "    </tr>\n",
       "  </tbody>\n",
       "</table>\n",
       "</div>"
      ],
      "text/plain": [
       "                      0\n",
       "0       Disrupt SF 2013\n",
       "1      Disrupt NYC 2013\n",
       "2       Disrupt EU 2013\n",
       "3      Disrupt NYC 2014\n",
       "4       Disrupt SF 2014\n",
       "5       Disrupt EU 2014\n",
       "6       Disrupt SF 2015\n",
       "7       Disrupt NY 2015\n",
       "8   Disrupt London 2015\n",
       "9       Disrupt SF 2016\n",
       "10      Disrupt NY 2016\n",
       "11  Disrupt London 2016"
      ]
     },
     "execution_count": 165,
     "metadata": {},
     "output_type": "execute_result"
    }
   ],
   "source": [
    "# Events with disrupt keyword and 2013 onwards are: 12 events \n",
    "event2013onwards= pd.DataFrame(final_disrupt['Event'].unique())\n",
    "event2013onwards"
   ]
  },
  {
   "cell_type": "code",
   "execution_count": null,
   "id": "60b247db",
   "metadata": {},
   "outputs": [],
   "source": []
  }
 ],
 "metadata": {
  "kernelspec": {
   "display_name": "Python 3",
   "language": "python",
   "name": "python3"
  },
  "language_info": {
   "codemirror_mode": {
    "name": "ipython",
    "version": 3
   },
   "file_extension": ".py",
   "mimetype": "text/x-python",
   "name": "python",
   "nbconvert_exporter": "python",
   "pygments_lexer": "ipython3",
   "version": "3.8.8"
  }
 },
 "nbformat": 4,
 "nbformat_minor": 5
}
